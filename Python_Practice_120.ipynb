{
  "cells": [
    {
      "cell_type": "markdown",
      "source": [
        "## Basics"
      ],
      "metadata": {
        "id": "DY51Uer9kZHG"
      }
    },
    {
      "cell_type": "markdown",
      "metadata": {
        "id": "kwi_TCrgmk3e"
      },
      "source": [
        "1. Swap two numbers without using a third variable."
      ]
    },
    {
      "cell_type": "code",
      "execution_count": null,
      "metadata": {
        "colab": {
          "base_uri": "https://localhost:8080/"
        },
        "id": "B5UjYyGfkXP7",
        "outputId": "78b41559-2c11-453d-b14a-6843c193dc15"
      },
      "outputs": [
        {
          "name": "stdout",
          "output_type": "stream",
          "text": [
            "a: 10 \n",
            "b: 20 \n",
            "after swapping\n",
            "a: 20 \n",
            "b: 10 "
          ]
        }
      ],
      "source": [
        "a = 10\n",
        "b = 20\n",
        "print (\"a:\",a,\"\\nb:\",b, end= \" \")\n",
        "a , b = b , a\n",
        "print (\"\\nafter swapping\")\n",
        "print (\"a:\",a,\"\\nb:\",b, end= \" \")"
      ]
    },
    {
      "cell_type": "markdown",
      "metadata": {
        "id": "kvmOcYD6mpj0"
      },
      "source": [
        "2. Take user's name and age as input and print them in a formatted sentence"
      ]
    },
    {
      "cell_type": "code",
      "execution_count": null,
      "metadata": {
        "colab": {
          "base_uri": "https://localhost:8080/"
        },
        "id": "u7Qqa8aAmrtN",
        "outputId": "210fc46c-c129-407b-f491-9a7de18c31a8"
      },
      "outputs": [
        {
          "name": "stdout",
          "output_type": "stream",
          "text": [
            "Enter Age:10\n",
            "Enter Name:ali\n",
            "My name is  ali and my age is  10\n"
          ]
        }
      ],
      "source": [
        "age = int(input(\"Enter Age:\"))\n",
        "name =input(\"Enter Name:\")\n",
        "print (\"My name is \",name, \"and my age is \", age)"
      ]
    },
    {
      "cell_type": "markdown",
      "metadata": {
        "id": "uSOCEtUrnH26"
      },
      "source": [
        "3. Convert a float to an integer and print its data type."
      ]
    },
    {
      "cell_type": "code",
      "execution_count": null,
      "metadata": {
        "colab": {
          "base_uri": "https://localhost:8080/"
        },
        "id": "q90Q5seOnFfx",
        "outputId": "661d9507-b2bc-4645-e6bb-1049862f4d00"
      },
      "outputs": [
        {
          "name": "stdout",
          "output_type": "stream",
          "text": [
            "1\n",
            "<class 'int'>\n"
          ]
        }
      ],
      "source": [
        "x = 1.000\n",
        "y = int(x)\n",
        "print(y)\n",
        "print(type(y))"
      ]
    },
    {
      "cell_type": "markdown",
      "metadata": {
        "id": "EUCGhxMnnTgX"
      },
      "source": [
        "4. Take multiple inputs in one line and print them separately."
      ]
    },
    {
      "cell_type": "code",
      "execution_count": null,
      "metadata": {
        "colab": {
          "base_uri": "https://localhost:8080/"
        },
        "id": "Pn5qxoySnVU9",
        "outputId": "6330e3f2-4c15-4dfd-a766-da32fe921afe"
      },
      "outputs": [
        {
          "name": "stdout",
          "output_type": "stream",
          "text": [
            "Enter three values:11 22 33\n",
            "11\n",
            "22\n",
            "33\n"
          ]
        }
      ],
      "source": [
        "a,b,c = input(\"Enter three values:\").split()\n",
        "print(a)\n",
        "print(b)\n",
        "print(c)\n"
      ]
    },
    {
      "cell_type": "markdown",
      "metadata": {
        "id": "YczuJkBinuj4"
      },
      "source": [
        "5. Check and print the data types of various inputs."
      ]
    },
    {
      "cell_type": "code",
      "execution_count": null,
      "metadata": {
        "colab": {
          "base_uri": "https://localhost:8080/"
        },
        "id": "YlcxOzUNnvTM",
        "outputId": "060ba65f-590c-46fc-d988-6e3dadb186a5"
      },
      "outputs": [
        {
          "name": "stdout",
          "output_type": "stream",
          "text": [
            "Enter a value:123\n",
            "<class 'str'>\n",
            "Enter a value:12312\n",
            "<class 'int'>\n",
            "Enter a value:1.2323\n",
            "<class 'float'>\n"
          ]
        }
      ],
      "source": [
        "a = input(\"Enter a value:\")\n",
        "print(type(a))\n",
        "b = int(input(\"Enter a value:\"))\n",
        "print(type(b))\n",
        "c = float(input(\"Enter a value:\"))\n",
        "print(type(c))"
      ]
    },
    {
      "cell_type": "markdown",
      "metadata": {
        "id": "4xmO1mmNoNI8"
      },
      "source": [
        "6. Take two numbers and print their sum, difference, and product."
      ]
    },
    {
      "cell_type": "code",
      "execution_count": null,
      "metadata": {
        "colab": {
          "base_uri": "https://localhost:8080/"
        },
        "id": "bQofF6P0n2Iz",
        "outputId": "f9996af9-7ee5-41e0-9468-d4630b401f31"
      },
      "outputs": [
        {
          "name": "stdout",
          "output_type": "stream",
          "text": [
            "Enter two numbers (sperate with spaces): 12312 12\n",
            "sum   12324\n",
            "difference   12300\n",
            "product   147744\n"
          ]
        }
      ],
      "source": [
        "a,b= input(\"Enter two numbers (sperate with spaces): \").split()\n",
        "a =int(a)\n",
        "b =int(b)\n",
        "print(\"sum  \", a+b)\n",
        "print(\"difference  \", a-b)\n",
        "print(\"product  \", a*b)"
      ]
    },
    {
      "cell_type": "markdown",
      "metadata": {
        "id": "IIJ_RGnoo-sr"
      },
      "source": [
        "7. Convert a string number to an integer and perform addition."
      ]
    },
    {
      "cell_type": "code",
      "execution_count": null,
      "metadata": {
        "colab": {
          "base_uri": "https://localhost:8080/"
        },
        "id": "ve6nFGVhpC1I",
        "outputId": "103f37e9-a093-46bd-e3ae-65c5a17bac33"
      },
      "outputs": [
        {
          "name": "stdout",
          "output_type": "stream",
          "text": [
            "20\n"
          ]
        }
      ],
      "source": [
        "a = \"10\"\n",
        "a = int(a)\n",
        "a += 10\n",
        "print (a)"
      ]
    },
    {
      "cell_type": "markdown",
      "metadata": {
        "id": "T5mLLyRopSDz"
      },
      "source": [
        "8. Take temperature in Celsius and convert it to Fahrenheit."
      ]
    },
    {
      "cell_type": "code",
      "execution_count": null,
      "metadata": {
        "colab": {
          "base_uri": "https://localhost:8080/"
        },
        "id": "XE9jtJmkpSeY",
        "outputId": "69413ee7-8289-4609-8cc4-0bd80ca62ce1"
      },
      "outputs": [
        {
          "name": "stdout",
          "output_type": "stream",
          "text": [
            "Enter the temperature in celsius: 45\n",
            "temperature in fahrenheit:  113.0\n"
          ]
        }
      ],
      "source": [
        "temp = int(input(\"Enter the temperature in celsius: \"))\n",
        "tempf = (temp * (9/5))+ 32\n",
        "print (\"temperature in fahrenheit: \", tempf)"
      ]
    },
    {
      "cell_type": "markdown",
      "metadata": {
        "id": "ca5iW8bjqC5u"
      },
      "source": [
        "9. Find the area of a circle from the radius input by user."
      ]
    },
    {
      "cell_type": "code",
      "execution_count": null,
      "metadata": {
        "colab": {
          "base_uri": "https://localhost:8080/"
        },
        "id": "YNSELfsFpyNO",
        "outputId": "efb7cd1e-55f5-47c6-daf1-b142c16cfaf4"
      },
      "outputs": [
        {
          "name": "stdout",
          "output_type": "stream",
          "text": [
            "Enter the radius of the circle: 24\n",
            "area of the circle:  1808.64\n"
          ]
        }
      ],
      "source": [
        "radius = float(input(\"Enter the radius of the circle: \"))\n",
        "area = 3.14 * (radius ** 2)\n",
        "print (\"area of the circle: \", area)"
      ]
    },
    {
      "cell_type": "markdown",
      "metadata": {
        "id": "mTP1WtJ1q-50"
      },
      "source": [
        "10. Print a sentence using f-strings that includes variables."
      ]
    },
    {
      "cell_type": "code",
      "execution_count": null,
      "metadata": {
        "colab": {
          "base_uri": "https://localhost:8080/"
        },
        "id": "xEfA_Q8ErBKn",
        "outputId": "590c055c-d6f2-4ebf-9a58-fa879ec6e435"
      },
      "outputs": [
        {
          "name": "stdout",
          "output_type": "stream",
          "text": [
            "my name is ali and my age is 10\n"
          ]
        }
      ],
      "source": [
        "age = 10\n",
        "name = \"ali\"\n",
        "print (f\"my name is {name} and my age is {age}\")"
      ]
    },
    {
      "cell_type": "markdown",
      "metadata": {
        "id": "j9XBwfzwsc11"
      },
      "source": [
        "Operators & Expressions\n",
        "\n",
        "\n"
      ]
    },
    {
      "cell_type": "markdown",
      "metadata": {
        "id": "Tdc-K_S6rH5D"
      },
      "source": [
        "11. Create a simple calculator for +, -, *, and /."
      ]
    },
    {
      "cell_type": "code",
      "execution_count": null,
      "metadata": {
        "colab": {
          "base_uri": "https://localhost:8080/"
        },
        "id": "8tftzf_ssdoY",
        "outputId": "f76ae38e-23c1-431d-eddd-a64a4e402f0f"
      },
      "outputs": [
        {
          "name": "stdout",
          "output_type": "stream",
          "text": [
            "Enter 1st Number: 3\n",
            "Enter 2nd Number: 2\n",
            "Enter the operator + , - , * , / *\n",
            "3 - 2 = 6\n"
          ]
        }
      ],
      "source": [
        "a = int(input(\"Enter 1st Number: \"))\n",
        "b = int(input(\"Enter 2nd Number: \"))\n",
        "op = input(\"Enter the operator + , - , * , / \")\n",
        "\n",
        "if op == '+':\n",
        "  print(f\"{a} + {b} = {a+b}\")\n",
        "elif op == '-':\n",
        "  print(f\"{a} - {b} = {a-b}\")\n",
        "elif op == '*':\n",
        "  print(f\"{a} * {b} = {a*b}\")\n",
        "elif op == '/' and b != 0:\n",
        "  print(f\"{a} / {b} = {a/b}\")\n",
        "elif op == '/' and b == 0:\n",
        "  print(\"Division by zero is not possible\")\n",
        "else:\n",
        "  print(\"Invalid Operator\")\n"
      ]
    },
    {
      "cell_type": "markdown",
      "metadata": {
        "id": "iBgulYvowmmi"
      },
      "source": [
        "12. Check if a number is even or odd using modulus."
      ]
    },
    {
      "cell_type": "code",
      "execution_count": null,
      "metadata": {
        "colab": {
          "base_uri": "https://localhost:8080/"
        },
        "id": "2G_nDkcPwoTm",
        "outputId": "b6a8f9ca-fead-421c-bf52-404ebaee1ac2"
      },
      "outputs": [
        {
          "name": "stdout",
          "output_type": "stream",
          "text": [
            "Enter A number4\n",
            "even \n"
          ]
        }
      ],
      "source": [
        "a = int(input(\"Enter A number\"))\n",
        "if a % 2 == 0:\n",
        "  print(\"even \")\n",
        "else:\n",
        "  print(\"odd\")"
      ]
    },
    {
      "cell_type": "markdown",
      "metadata": {
        "id": "Pkpx2I_qxEFx"
      },
      "source": [
        "13. Take birth year as input and calculate age."
      ]
    },
    {
      "cell_type": "code",
      "execution_count": null,
      "metadata": {
        "colab": {
          "base_uri": "https://localhost:8080/"
        },
        "id": "7kCP2eR-xBXD",
        "outputId": "e7997230-ce71-40ef-85f3-4224213b8cb2"
      },
      "outputs": [
        {
          "name": "stdout",
          "output_type": "stream",
          "text": [
            "Enter your year of birth: 2003\n",
            "your age is 22\n"
          ]
        }
      ],
      "source": [
        "yob = int(input(\"Enter your year of birth: \"))\n",
        "age = 2025 - yob\n",
        "print(f\"your age is {age}\")"
      ]
    },
    {
      "cell_type": "markdown",
      "metadata": {
        "id": "MIC5nx10xe3F"
      },
      "source": [
        "14. Write a program to compute simple interest."
      ]
    },
    {
      "cell_type": "code",
      "execution_count": null,
      "metadata": {
        "colab": {
          "base_uri": "https://localhost:8080/"
        },
        "id": "sVtLocoKxpRZ",
        "outputId": "f44dc931-9d10-4435-af30-9cbd726d0fe5"
      },
      "outputs": [
        {
          "name": "stdout",
          "output_type": "stream",
          "text": [
            "Enter the principal amount: 1500\n",
            "Enter the rate of interest: 5\n",
            "Enter the time period in years: 10\n",
            "Simple Interest with given amount 1500.0, Rate of interest 5.0, and time 10.0 is 750.0\n"
          ]
        }
      ],
      "source": [
        "P = float(input(\"Enter the principal amount: \"))\n",
        "R = float(input(\"Enter the rate of interest: \"))\n",
        "T = float(input(\"Enter the time period in years: \"))\n",
        "\n",
        "SI = (P * R * T) / 100\n",
        "print(f\"Simple Interest with given amount {P}, Rate of interest {R}, and time {T} is {SI}\")"
      ]
    },
    {
      "cell_type": "markdown",
      "metadata": {
        "id": "Rn5XY8fFzsGz"
      },
      "source": [
        "15. Calculate BMI from user weight and height."
      ]
    },
    {
      "cell_type": "code",
      "execution_count": null,
      "metadata": {
        "colab": {
          "base_uri": "https://localhost:8080/"
        },
        "id": "6piMdcrGztIJ",
        "outputId": "b00c03a8-4a6a-4726-81e2-152532b9367c"
      },
      "outputs": [
        {
          "name": "stdout",
          "output_type": "stream",
          "text": [
            "Enter your weight in kg: 91\n",
            "Enter your height in meters: 17\n",
            "Your BMI is 31.49\n"
          ]
        }
      ],
      "source": [
        "w = float(input(\"Enter your weight in kg: \"))\n",
        "h = float(input(\"Enter your height in meters: \"))\n",
        "\n",
        "bmi = w / (h ** 2)\n",
        "bmi *= 100\n",
        "bmi = round(bmi, 2)\n",
        "print(f\"Your BMI is {bmi}\")"
      ]
    },
    {
      "cell_type": "markdown",
      "metadata": {
        "id": "ff2OikMg2dvG"
      },
      "source": [
        "16. Use compound assignment operators in a demo program."
      ]
    },
    {
      "cell_type": "code",
      "execution_count": null,
      "metadata": {
        "colab": {
          "base_uri": "https://localhost:8080/"
        },
        "id": "heyOsxUF2eNR",
        "outputId": "a81a2ee0-8776-4300-ff6f-bec3c83e7751"
      },
      "outputs": [
        {
          "name": "stdout",
          "output_type": "stream",
          "text": [
            "10\n",
            "8\n",
            "16\n",
            "4.0\n"
          ]
        }
      ],
      "source": [
        "a = 5\n",
        "a += 5\n",
        "print (a)\n",
        "a -=2\n",
        "print (a)\n",
        "a *= 2\n",
        "print (a)\n",
        "a /= 4\n",
        "print (a)"
      ]
    },
    {
      "cell_type": "markdown",
      "metadata": {
        "id": "ExEzJBdY2eoE"
      },
      "source": [
        "17. Take a number and square it using `**` operator.\n"
      ]
    },
    {
      "cell_type": "code",
      "execution_count": null,
      "metadata": {
        "colab": {
          "base_uri": "https://localhost:8080/"
        },
        "id": "jDpcYCDv2fM0",
        "outputId": "1e245d1f-1072-4545-cdbf-610f4f04a66f"
      },
      "outputs": [
        {
          "name": "stdout",
          "output_type": "stream",
          "text": [
            "Enter a number: 5\n",
            "The square of 5.0 is 25.0\n"
          ]
        }
      ],
      "source": [
        "num = float(input(\"Enter a number: \"))\n",
        "square = num ** 2\n",
        "print(f\"The square of {num} is {square}\")"
      ]
    },
    {
      "cell_type": "markdown",
      "metadata": {
        "id": "90bkHczQ2fwf"
      },
      "source": [
        "18. Demonstrate usage of all comparison operators.\n"
      ]
    },
    {
      "cell_type": "code",
      "execution_count": null,
      "metadata": {
        "colab": {
          "base_uri": "https://localhost:8080/"
        },
        "id": "u3glejEy2gNm",
        "outputId": "5f463cdf-c9d7-447d-cbaa-80e860e6e14f"
      },
      "outputs": [
        {
          "name": "stdout",
          "output_type": "stream",
          "text": [
            "5 is less than 6\n",
            "5 is less than or equal to 6\n",
            "5 is not equal to 6\n"
          ]
        }
      ],
      "source": [
        "a , b = 5 ,6\n",
        "if a < b:\n",
        "  print (f\"{a} is less than {b}\")\n",
        "if a <= b:\n",
        "  print (f\"{a} is less than or equal to {b}\")\n",
        "if a > b:\n",
        "  print (f\"{a} is greater than {b}\")\n",
        "if a >= b:\n",
        "  print (f\"{a} is greater than or equal to {b}\")\n",
        "if a==b:\n",
        "  print (f\"{a} is equal to {b}\")\n",
        "if a!=b:\n",
        "  print (f\"{a} is not equal to {b}\")\n"
      ]
    },
    {
      "cell_type": "markdown",
      "metadata": {
        "id": "oOuqPeTs2gza"
      },
      "source": [
        "19. Write a program using logical operators (`and`, `or`, `not`).\n"
      ]
    },
    {
      "cell_type": "code",
      "execution_count": null,
      "metadata": {
        "colab": {
          "base_uri": "https://localhost:8080/"
        },
        "id": "ge5EjmMe2hSa",
        "outputId": "3a363a28-a7eb-4115-9290-b9948a2db231"
      },
      "outputs": [
        {
          "name": "stdout",
          "output_type": "stream",
          "text": [
            "No Fire Yet\n",
            "False\n",
            "True\n",
            "False\n",
            "True\n",
            "True\n",
            "False\n"
          ]
        }
      ],
      "source": [
        "temp = True\n",
        "smoke = False\n",
        "smell = True\n",
        "\n",
        "if temp == True and smoke==True and smell==True:\n",
        "  print(\"Alert! Fire\")\n",
        "elif (temp == True or smell==True ) and smoke==False:\n",
        "  print(\"No Fire Yet\")\n",
        "elif smoke == True and smell == True:\n",
        "  print(\"Alert! Fire\")\n",
        "elif (smoke == False and smell == False) or temp == True:\n",
        "  print(\"No! Fire\")\n",
        "\n",
        "print(not(True))\n",
        "print(not(False))\n",
        "print(True and False)\n",
        "print(True and True)\n",
        "print(True or False)\n",
        "print(False or False)"
      ]
    },
    {
      "cell_type": "markdown",
      "metadata": {
        "id": "DKlM3s3K2sFN"
      },
      "source": [
        "20. Calculate the area and perimeter of a rectangle."
      ]
    },
    {
      "cell_type": "code",
      "execution_count": null,
      "metadata": {
        "colab": {
          "base_uri": "https://localhost:8080/"
        },
        "id": "jVQDg8Nq2smh",
        "outputId": "57ab0101-d99a-48d0-b60b-d9fedaf4ca73"
      },
      "outputs": [
        {
          "name": "stdout",
          "output_type": "stream",
          "text": [
            "Enter the length of the rectangle: 10 \n",
            "Enter the width of the Rectangle12\n",
            "Area of Rectangle: 120.0\n",
            "Parameter of Rectangle: 44.0\n"
          ]
        }
      ],
      "source": [
        "length = float(input(\"Enter the length of the rectangle: \"))\n",
        "width = float(input(\"Enter the width of the Rectangle\" ))\n",
        "\n",
        "a_o_r = length * width\n",
        "parameter = (2 * length) + (2 * width)\n",
        "print(f\"Area of Rectangle: {a_o_r}\")\n",
        "print(f\"Parameter of Rectangle: {parameter}\")"
      ]
    },
    {
      "cell_type": "markdown",
      "metadata": {
        "id": "Scy3Tkm9svSH"
      },
      "source": [
        "\n",
        "Conditionals\n",
        "🔢 Q21. Grade Calculator with Validation\n",
        "Topic: Nested if-else, input validation\n",
        "Task:\n",
        "Take marks in 5 subjects (0–100 each), calculate percentage, and assign grade:\n",
        "\n",
        "A+: ≥90\n",
        "\n",
        "A: 80–89\n",
        "\n",
        "B: 70–79\n",
        "\n",
        "C: 60–69\n",
        "\n",
        "D: 50–59\n",
        "\n",
        "F: <50\n",
        "\n",
        "Also check if any marks are invalid (e.g., >100 or <0) and print \"Invalid input\".\n"
      ]
    },
    {
      "cell_type": "code",
      "execution_count": null,
      "metadata": {
        "colab": {
          "base_uri": "https://localhost:8080/"
        },
        "id": "fpjO3794sw5_",
        "outputId": "499ffb04-04d2-4da5-d379-d3a5253a9ba5"
      },
      "outputs": [
        {
          "name": "stdout",
          "output_type": "stream",
          "text": [
            "Enter Your Marks in English,Maths,Science,Arts,Technology (add space in between)100 56 87 93 77\n",
            "82.6\n",
            "Grade: A\n"
          ]
        }
      ],
      "source": [
        "Marks =input(\"Enter Your Marks in English,Maths,Science,Arts,Technology (add space in between)\")\n",
        "Marks = Marks.split()\n",
        "n_o_s = len(Marks)\n",
        "if n_o_s != 5:\n",
        "  print(\"Invalid Input, Please Enter Marks For 5 Subjects Only.\")\n",
        "  exit()\n",
        "range_flag = True\n",
        "for i in range(len(Marks)):\n",
        "  Marks[i]=int(Marks[i])\n",
        "  if (Marks[i] < 0) or (Marks[i] > 100):\n",
        "    range_flag = False\n",
        "    break\n",
        "if range_flag == False:\n",
        "  print(\"Invalid Input, Please Enter Marks Between 0 and 100 Only.\")\n",
        "  exit()\n",
        "\n",
        "Avg = sum(Marks)/n_o_s\n",
        "print(Avg)\n",
        "\n",
        "if Avg >= 90:\n",
        "  print(\"Grade: A+\")\n",
        "elif Avg <= 89 and Avg >= 80:\n",
        "  print(\"Grade: A\")\n",
        "elif Avg <= 79 and Avg >=70:\n",
        "  print(\"Grade: B\")\n",
        "elif Avg <= 69 and Avg >=60:\n",
        "  print(\"Grade: C\")\n",
        "elif Avg <= 59 and Avg >=50:\n",
        "  print(\"Grade: D\")\n",
        "elif Avg < 50:\n",
        "  print(\"Grade: F\")\n",
        "\n",
        "\n",
        "\n"
      ]
    },
    {
      "cell_type": "markdown",
      "metadata": {
        "id": "FAyXkpBpVVx3"
      },
      "source": [
        "\n",
        "🌍 Q22. Leap Year Checker\n",
        "Topic: Nested conditionals\n",
        "Task:\n",
        "Take a year as input and check if it's a leap year using proper rules:\n",
        "\n",
        "Divisible by 4 → leap\n",
        "\n",
        "But if divisible by 100, then must also be divisible by 400.\n",
        "\n",
        "Output: “Leap year” or “Not a leap year”\n",
        "\n",
        "\n"
      ]
    },
    {
      "cell_type": "code",
      "execution_count": null,
      "metadata": {
        "colab": {
          "base_uri": "https://localhost:8080/"
        },
        "id": "j6pV88_uVdik",
        "outputId": "5075c024-bb81-468e-bb53-da35e22b548b"
      },
      "outputs": [
        {
          "name": "stdout",
          "output_type": "stream",
          "text": [
            "Enter a year!:  2008\n",
            "leap year\n"
          ]
        }
      ],
      "source": [
        "year = int(input(\"Enter a year!:  \"))\n",
        "if year % 4 ==0:\n",
        "  if year % 100 == 0:\n",
        "    if year % 400 == 0:\n",
        "      print(\"Leap Year!\")\n",
        "    else:\n",
        "      print(\"Not a lEap Year!\")\n",
        "  else:\n",
        "    print(\"leap year\")\n",
        "else:\n",
        "  print(\"Not a leap year\")"
      ]
    },
    {
      "cell_type": "markdown",
      "metadata": {
        "id": "aFtA4S99VePZ"
      },
      "source": [
        "🥇 Q23. Find Maximum of Three Numbers\n",
        "Topic: if-elif-else\n",
        "Task:\n",
        "Take 3 numbers as input and print the largest one.\n",
        "\n",
        "Bonus: If all are equal, print “All numbers are equal”.\n",
        "\n",
        "\n",
        "\n"
      ]
    },
    {
      "cell_type": "code",
      "execution_count": null,
      "metadata": {
        "colab": {
          "base_uri": "https://localhost:8080/"
        },
        "id": "cXr6zbHDVe2m",
        "outputId": "1e3ae592-8213-4444-db36-43d9868e6003"
      },
      "outputs": [
        {
          "output_type": "stream",
          "name": "stdout",
          "text": [
            "Enter 3 numbers5 5 5\n",
            "All numbers are equal\n"
          ]
        }
      ],
      "source": [
        "numbers = [0] * 3\n",
        "numbers = input(\"Enter 3 numbers\").split()\n",
        "for i in range(len(numbers)):\n",
        "  numbers[i] = int(numbers[i])\n",
        "if numbers[0] == numbers[1] == numbers[2]:\n",
        "  print(\"All numbers are equal\")\n",
        "elif numbers[0] >= numbers[1] and numbers[0] >= numbers[2]:\n",
        "  print(numbers[0])\n",
        "elif numbers[1]>= numbers[0] and numbers[1] >= numbers[2]:\n",
        "  print(numbers[1])\n",
        "elif numbers[2]>= numbers[0] and numbers[2] >= numbers[1]:\n",
        "  print(numbers[2])"
      ]
    },
    {
      "cell_type": "markdown",
      "metadata": {
        "id": "vuaaFRYGVfQg"
      },
      "source": [
        "\n",
        "➕➖ Q24. Positive, Negative or Zero\n",
        "Topic: Basic if-elif-else\n",
        "Task:\n",
        "Take a number from the user and determine if it’s:\n",
        "\n",
        "Positive\n",
        "\n",
        "Negative\n",
        "\n",
        "Zero\n",
        "\n",
        "Bonus: Display “Neutral” for zero.\n"
      ]
    },
    {
      "cell_type": "code",
      "execution_count": null,
      "metadata": {
        "id": "jHUPlqLgVfwR",
        "colab": {
          "base_uri": "https://localhost:8080/"
        },
        "outputId": "4e6c3976-f835-4534-9207-d9e6684d6537"
      },
      "outputs": [
        {
          "output_type": "stream",
          "name": "stdout",
          "text": [
            "Enter a number: 5\n",
            "Positive\n"
          ]
        }
      ],
      "source": [
        "num = int(input(\"Enter a number: \"))\n",
        "if num < 0:\n",
        "  print(\"Negative\")\n",
        "elif num > 0:\n",
        "  print(\"Positive\")\n",
        "else:\n",
        "  print(\"Neutral\")"
      ]
    },
    {
      "cell_type": "markdown",
      "metadata": {
        "id": "cyO_yvulVgN7"
      },
      "source": [
        "\n",
        "✊✋✌️ Q25. Rock-Paper-Scissors Game (2 Players)\n",
        "Topic: Multi-condition logic\n",
        "Task:\n",
        "Take input from Player 1 and Player 2.\n",
        "Each enters: rock, paper, or scissors.\n",
        "Use conditionals to print who wins:\n",
        "\n",
        "Rock beats scissors\n",
        "\n",
        "Paper beats rock\n",
        "\n",
        "Scissors beats paper\n",
        "\n",
        "If both choose the same, it's a tie.\n"
      ]
    },
    {
      "cell_type": "code",
      "execution_count": null,
      "metadata": {
        "id": "JD9OYTUoVgm8",
        "colab": {
          "base_uri": "https://localhost:8080/"
        },
        "outputId": "e06e9b30-df5c-4ecb-bafd-212cebd4404f"
      },
      "outputs": [
        {
          "output_type": "stream",
          "name": "stdout",
          "text": [
            "it is a tie!\n"
          ]
        }
      ],
      "source": [
        "p1 = input(\"Player 1 Turn: Enter R -> Rock, P -> Paper, S -> Scissor \").upper()\n",
        "if p1 != 'R' and p1 != 'P' and p1 != 'S':\n",
        "  print(\"Invalid Input\")\n",
        "  exit()\n",
        "from IPython.display import clear_output\n",
        "clear_output()\n",
        "p2 = input(\"Player 2 Turn: Enter R -> Rock, P -> Paper, S -> Scissor \").upper()\n",
        "clear_output()\n",
        "if p2 != 'R' and p2 != 'P' and p2 != 'S':\n",
        "  print(\"Invalid Input\")\n",
        "  exit()\n",
        "if p1 == p2:\n",
        "  print(\"it is a tie!\")\n",
        "elif p1 == 'R' and p2 == 'S':\n",
        "  print(\"p1 wins\")\n",
        "elif p1 == 'S' and p2 == 'R':\n",
        "  print(\"p2 wins\")\n",
        "elif p1 == 'P' and p2 == 'R':\n",
        "  print(\"p1 wins\")\n",
        "elif p1 == 'R' and p2 == 'P':\n",
        "  print(\"p2 wins\")\n",
        "elif p1 == 'S' and p2 == 'P':\n",
        "  print(\"p1 wins\")\n",
        "elif p1 == 'P' and p2 == 'S':\n",
        "  print(\"p2 wins\")\n",
        "else:\n",
        "  print(\"Invalid Input\")"
      ]
    },
    {
      "cell_type": "markdown",
      "metadata": {
        "id": "iCNAodkDVg-G"
      },
      "source": [
        "\n",
        "🔤 Q26. Vowel or Consonant Checker\n",
        "Topic: Char input and logic\n",
        "Task:\n",
        "Ask the user to input a single alphabet character.\n",
        "Check:\n",
        "\n",
        "Is it a letter?\n",
        "\n",
        "Is it a vowel (a, e, i, o, u)?\n",
        "\n",
        "If not vowel, print \"Consonant\"\n",
        "\n",
        "If not a letter, print \"Invalid character\"\n"
      ]
    },
    {
      "cell_type": "code",
      "execution_count": null,
      "metadata": {
        "id": "TaFa43YdVh97",
        "colab": {
          "base_uri": "https://localhost:8080/"
        },
        "outputId": "fcc18c2d-4005-4149-9188-02c56edce176"
      },
      "outputs": [
        {
          "output_type": "stream",
          "name": "stdout",
          "text": [
            "Enter a character: 2\n",
            "Invalid Character\n"
          ]
        }
      ],
      "source": [
        "vowels = \"aeiou\"\n",
        "ch = input(\"Enter a alphabet character: \").lower()\n",
        "if ch in vowels:\n",
        "  print(\"Vowel\")\n",
        "elif ch.isalpha():\n",
        "  print(\"Consonant\")\n",
        "else:\n",
        "  print(\"Invalid Character\")"
      ]
    },
    {
      "cell_type": "markdown",
      "metadata": {
        "id": "6Kq125-AViU1"
      },
      "source": [
        "\n",
        "🗳️ Q27. Voting Eligibility Checker\n",
        "Topic: Simple conditionals\n",
        "Task:\n",
        "Ask for user’s age and citizenship status (yes/no).\n",
        "To vote:\n",
        "\n",
        "Age must be ≥18\n",
        "\n",
        "Must be a citizen\n",
        "\n",
        "Output: “Eligible to vote” or “Not eligible”\n"
      ]
    },
    {
      "cell_type": "code",
      "execution_count": null,
      "metadata": {
        "id": "sx9dXlNUVjWe",
        "colab": {
          "base_uri": "https://localhost:8080/"
        },
        "outputId": "fd3696b0-a586-4d1c-af61-99019e8715cb"
      },
      "outputs": [
        {
          "output_type": "stream",
          "name": "stdout",
          "text": [
            "Enter your Age: 22\n",
            "Citzen or Not (Yes/No)yes\n",
            "Eligible to vote\n"
          ]
        }
      ],
      "source": [
        "age = int(input(\"Enter your Age: \"))\n",
        "citizen = input(\"Citzen or Not (Yes/No)\").lower()\n",
        "if age>=18 and citizen == \"yes\":\n",
        "  print(\"Eligible to vote\")\n",
        "else:\n",
        "  print(\"Not Eligible\")"
      ]
    },
    {
      "cell_type": "markdown",
      "metadata": {
        "id": "BvJQu3x5WIEa"
      },
      "source": [
        "\n",
        "🔢 Q28. Divisible by Both 5 and 11\n",
        "Topic: Compound condition\n",
        "Task:\n",
        "Take a number and check:\n",
        "\n",
        "If divisible by 5 and 11 → print “Yes”\n",
        "\n",
        "Else → print “No”\n",
        "\n",
        "Bonus: Also show which ones it is divisible by (if only one)\n"
      ]
    },
    {
      "cell_type": "code",
      "execution_count": null,
      "metadata": {
        "id": "-nFbPrIyWId7",
        "colab": {
          "base_uri": "https://localhost:8080/"
        },
        "outputId": "f1804276-757f-4d71-a147-8bb614378b69"
      },
      "outputs": [
        {
          "output_type": "stream",
          "name": "stdout",
          "text": [
            "Eneter a Number: 32\n",
            "No\n"
          ]
        }
      ],
      "source": [
        "num = int(input(\"Eneter a Number: \"))\n",
        "if num % 5 ==0 and num % 11 == 0:\n",
        "  print(\"Yes\")\n",
        "elif num%5 == 0 and num%11 !=0:\n",
        "  print(\"Yes, Divisible by 5\")\n",
        "elif num%5 != 0 and num%11 ==0:\n",
        "  print(\"Yes, Divisible by 11\")\n",
        "else:\n",
        "  print(\"No\")\n"
      ]
    },
    {
      "cell_type": "markdown",
      "metadata": {
        "id": "4RsF--9LWI1n"
      },
      "source": [
        "\n",
        "🧒🧑🧓 Q29. Age Category Assigner\n",
        "Topic: Range-based logic\n",
        "Task:\n",
        "Input age → classify into:\n",
        "\n",
        "Child: <13\n",
        "\n",
        "Teen: 13–19\n",
        "\n",
        "Young Adult: 20–35\n",
        "\n",
        "Adult: 36–59\n",
        "\n",
        "Senior: ≥60\n"
      ]
    },
    {
      "cell_type": "code",
      "execution_count": null,
      "metadata": {
        "id": "tbcOGKmeWJV5",
        "colab": {
          "base_uri": "https://localhost:8080/"
        },
        "outputId": "a816c218-75eb-4fdf-b53f-1e8452040442"
      },
      "outputs": [
        {
          "output_type": "stream",
          "name": "stdout",
          "text": [
            "Enter Age:  59\n",
            "Adult\n"
          ]
        }
      ],
      "source": [
        "age = int(input(\"Enter Age:  \"))\n",
        "if age in range(13):\n",
        "  print(\"child\")\n",
        "elif age in range(13,20):\n",
        "  print(\"Teen\")\n",
        "elif age in range(20,36):\n",
        "  print(\"Young Adult\")\n",
        "elif age in range(36,60):\n",
        "  print(\"Adult\")\n",
        "elif age >= 60:\n",
        "  print(\"Senior\")"
      ]
    },
    {
      "cell_type": "markdown",
      "metadata": {
        "id": "5tboPXPOWRkp"
      },
      "source": [
        "\n",
        "📋 Q30. Menu-Driven Program with If-Elif-Else\n",
        "Topic: User choice-based branching\n",
        "Task:\n",
        "Display this menu:\n",
        "\n",
        "1. Add two numbers\n",
        "2. Find square of a number\n",
        "3. Convert Celsius to Fahrenheit\n",
        "4. Exit\n",
        "Take input from user and perform the task.\n",
        "\n",
        "Print \"Invalid choice\" for wrong input.\n",
        "Add another input to return to menu: simulate it one time only (no loops)."
      ]
    },
    {
      "cell_type": "code",
      "execution_count": null,
      "metadata": {
        "id": "CpsK0nmiWSD4",
        "colab": {
          "base_uri": "https://localhost:8080/"
        },
        "outputId": "d3d42ffc-d672-432d-9f14-d4ee7bd34fbe"
      },
      "outputs": [
        {
          "output_type": "stream",
          "name": "stdout",
          "text": [
            "\t1. Add two numbers \n",
            "\t2. Find square of a number\n",
            "\t3. Convert Celsius to Fahrenheit \n",
            "\t4. Exit Take input from user and perform the task \n",
            "\n",
            "Select a number:3\n",
            "Enter the temperature in celsius: 45\n",
            "45.0'C  in fahrenheit: 113.0'F \n"
          ]
        }
      ],
      "source": [
        "print(\"\\t1. Add two numbers \\n\\t2. Find square of a number\\n\\t3. Convert Celsius to Fahrenheit \\n\\t4. Exit Take input from user and perform the task \\n\")\n",
        "inp = int(input(\"Select a number:\"))\n",
        "if inp == 1:\n",
        "  a = int(input(\"Enter a number\"))\n",
        "  b = int(input(\"Enter a number\"))\n",
        "  print(f\"{a} + {b} = {a+b}\")\n",
        "elif inp ==2:\n",
        "    a = int(input(\"Enter a number\"))\n",
        "    print(f\" {a} squared = {a**2}\")\n",
        "elif inp == 3:\n",
        "  temp = float(input(\"Enter the temperature in celsius: \"))\n",
        "  tempf = (temp * (9/5))+ 32\n",
        "  print (f\"{temp}'C  in fahrenheit: {tempf}'F \")\n",
        "elif inp == 4:\n",
        "  print(\"Exit\")\n",
        "else:\n",
        "  print(\"Invalid Choice\")\n"
      ]
    },
    {
      "cell_type": "markdown",
      "metadata": {
        "id": "gESqLZDBsxlO"
      },
      "source": [
        "\n",
        "Loops\n",
        "Q31. Print Numbers from 1 to N (Inclusive) with Input Validation\n",
        "Topic: for loop, input validation\n",
        "Task:\n",
        "Write a program that takes an integer N as input and prints numbers from 1 to N.\n",
        "\n",
        "Ensure that the input is a positive integer.\n",
        "\n",
        "If the input is invalid (e.g., 0 or negative), display \"Invalid input. Please enter a positive integer.\"\n",
        "\n",
        "Use a for loop to print each number on a separate line.\n"
      ]
    },
    {
      "cell_type": "code",
      "execution_count": null,
      "metadata": {
        "id": "x9y14eWgsy6p",
        "colab": {
          "base_uri": "https://localhost:8080/"
        },
        "outputId": "f75fc28f-e42d-4730-d3f0-ad015cbdca4c"
      },
      "outputs": [
        {
          "output_type": "stream",
          "name": "stdout",
          "text": [
            "Enter a Number91\n",
            "1\n",
            "2\n",
            "3\n",
            "4\n",
            "5\n",
            "6\n",
            "7\n",
            "8\n",
            "9\n",
            "10\n",
            "11\n",
            "12\n",
            "13\n",
            "14\n",
            "15\n",
            "16\n",
            "17\n",
            "18\n",
            "19\n",
            "20\n",
            "21\n",
            "22\n",
            "23\n",
            "24\n",
            "25\n",
            "26\n",
            "27\n",
            "28\n",
            "29\n",
            "30\n",
            "31\n",
            "32\n",
            "33\n",
            "34\n",
            "35\n",
            "36\n",
            "37\n",
            "38\n",
            "39\n",
            "40\n",
            "41\n",
            "42\n",
            "43\n",
            "44\n",
            "45\n",
            "46\n",
            "47\n",
            "48\n",
            "49\n",
            "50\n",
            "51\n",
            "52\n",
            "53\n",
            "54\n",
            "55\n",
            "56\n",
            "57\n",
            "58\n",
            "59\n",
            "60\n",
            "61\n",
            "62\n",
            "63\n",
            "64\n",
            "65\n",
            "66\n",
            "67\n",
            "68\n",
            "69\n",
            "70\n",
            "71\n",
            "72\n",
            "73\n",
            "74\n",
            "75\n",
            "76\n",
            "77\n",
            "78\n",
            "79\n",
            "80\n",
            "81\n",
            "82\n",
            "83\n",
            "84\n",
            "85\n",
            "86\n",
            "87\n",
            "88\n",
            "89\n",
            "90\n",
            "91\n"
          ]
        }
      ],
      "source": [
        "N = int(input(\"Enter a Number\"))\n",
        "if N <= 0:\n",
        "  print(\"Invalid Input Please Enter a Positive Integer\")\n",
        "else:\n",
        "  for i in range(1,N+1):\n",
        "    print(i)\n"
      ]
    },
    {
      "cell_type": "markdown",
      "source": [
        "\n",
        "Q32. Countdown from N to 1 with Delay Option\n",
        "Topic: while loop, input validation\n",
        "Task:\n",
        "Take a positive integer N and print numbers from N down to 1.\n",
        "\n",
        "Ask the user if they want a delay between each print (Y/N).\n",
        "\n",
        "If yes, wait 0.5 seconds between each number (use time.sleep(0.5)).\n",
        "\n",
        "Import the time module accordingly.\n",
        "\n",
        "Validate the input to ensure N is positive.\n",
        "\n",
        "\n",
        "\n",
        "\n",
        "\n",
        "\n",
        "\n",
        "\n",
        "\n",
        "\n",
        "\n",
        "\n",
        "\n",
        "\n",
        "\n"
      ],
      "metadata": {
        "id": "LXK_MQrSa7mP"
      }
    },
    {
      "cell_type": "code",
      "source": [
        "import time\n",
        "N=int(input(\"Enter a Number\"))\n",
        "\n",
        "if N <= 0:\n",
        "  print(\"Invalid Input Please Enter a Positive Integer\")\n",
        "else:\n",
        "  delay = input(\"Do you want a delay between each print (Y/N)\").upper()\n",
        "  for i in range(N,0,-1):\n",
        "    print(i)\n",
        "    if delay == \"Y\":\n",
        "      time.sleep(0.5)"
      ],
      "metadata": {
        "id": "ZkWVMwO7bkPe",
        "colab": {
          "base_uri": "https://localhost:8080/"
        },
        "outputId": "92eda257-b143-4539-92b9-653a7f299201"
      },
      "execution_count": null,
      "outputs": [
        {
          "output_type": "stream",
          "name": "stdout",
          "text": [
            "Enter a Number3\n",
            "Do you want a delay between each print (Y/N)y\n",
            "3\n",
            "2\n",
            "1\n"
          ]
        }
      ]
    },
    {
      "cell_type": "markdown",
      "source": [
        "Q33. Calculate Sum of First N Natural Numbers (1 + 2 + … + N)\n",
        "Topic: for loop, accumulator pattern\n",
        "Task:\n",
        "Write a program that:\n",
        "\n",
        "Accepts a positive integer N.\n",
        "\n",
        "Calculates the sum of the first N natural numbers using a loop (not formula).\n",
        "\n",
        "Displays the full expression as well as the result.\n",
        "Example:\n",
        "1 + 2 + 3 + 4 + 5 = 15"
      ],
      "metadata": {
        "id": "6Fg2D4uJbcu2"
      }
    },
    {
      "cell_type": "code",
      "source": [
        "N=int(input(\"Enter a Number: \"))\n",
        "expression = \"\"\n",
        "total = 0\n",
        "if N <= 0:\n",
        "  print(\"Invalid Input Please Enter a Positive Integer\")\n",
        "  exit()\n",
        "for i in range(1,N+1):\n",
        "  expression = expression + \" + \" +str(i)\n",
        "  total = total + i\n",
        "expression = expression[2:]\n",
        "print(expression, end = \" \")\n",
        "print(f\"= {total}\")\n"
      ],
      "metadata": {
        "id": "fpmYAMTobdP4",
        "colab": {
          "base_uri": "https://localhost:8080/"
        },
        "outputId": "cfd26d0b-6bb5-47cc-b547-05a70a8381f1"
      },
      "execution_count": null,
      "outputs": [
        {
          "output_type": "stream",
          "name": "stdout",
          "text": [
            "Enter a Number: 5\n",
            " 1 + 2 + 3 + 4 + 5 = 15\n"
          ]
        }
      ]
    },
    {
      "cell_type": "markdown",
      "source": [
        "Q34. Find Factorial of a Number with Stepwise Output\n",
        "Topic: Loop, accumulator pattern\n",
        "Task:\n",
        "Take a non-negative integer N and compute its factorial using a loop.\n",
        "\n",
        "If N = 0, the factorial is 1.\n",
        "\n",
        "Also display the multiplication steps used.\n",
        "Example:\n",
        "5! = 5 × 4 × 3 × 2 × 1 = 120"
      ],
      "metadata": {
        "id": "X1dytQY9bdu0"
      }
    },
    {
      "cell_type": "code",
      "source": [
        "N =int(input(\"Enter a Number:  \"))\n",
        "\n",
        "expression = f\"{str(N)}! = \"\n",
        "factorial = 1\n",
        "if N == 0:\n",
        "  print(f\"0! = {factorial}\")\n",
        "  exit()\n",
        "elif N < 0:\n",
        "  print(\"Invalid Input, Please Enter a positive integer. \")\n",
        "  exit()\n",
        "else:\n",
        "  for i in range(N,1,-1):\n",
        "    expression = expression +  str(i) + \" x \"\n",
        "    factorial *= i\n",
        "  expression = expression + \"1\"\n",
        "  expression = expression + f\" = {factorial}\"\n",
        "  print(expression)"
      ],
      "metadata": {
        "id": "P4gK7Y-Ja8DK",
        "colab": {
          "base_uri": "https://localhost:8080/"
        },
        "outputId": "ab501db6-40d3-40f5-db21-8e20b5c6cfa1"
      },
      "execution_count": null,
      "outputs": [
        {
          "output_type": "stream",
          "name": "stdout",
          "text": [
            "Enter a Number5\n",
            "5! = 5 x 4 x 3 x 2 x 1 = 120\n"
          ]
        }
      ]
    },
    {
      "cell_type": "markdown",
      "source": [
        "Q35. Display Multiplication Table Up to a Limit\n",
        "Topic: for loop, nested logic\n",
        "Task:\n",
        "Ask the user for:\n",
        "\n",
        "A number num for which the multiplication table is to be generated.\n",
        "\n",
        "A limit up to which it should be printed.\n",
        "\n",
        "Example:\n",
        "If input is num = 7 and limit = 5, output should be:\n",
        "\n",
        "\n",
        "7 × 1 = 7  \n",
        "7 × 2 = 14  \n",
        "7 × 3 = 21  \n",
        "7 × 4 = 28  \n",
        "7 × 5 = 35"
      ],
      "metadata": {
        "id": "GAAQE7jba8ZT"
      }
    },
    {
      "cell_type": "code",
      "source": [
        "import sys\n",
        "num = int(input(\"Enter for Table: \"))\n",
        "if num <= 0:\n",
        "  print(\"Invalid Input, Please Enter a positive integer. \")\n",
        "  sys.exit()\n",
        "limit = int(input(\"Limit of Table: \"))\n",
        "if limit <= 0:\n",
        "  print(\"Invalid Input, Please Enter a positive integer. \")\n",
        "  sys.exit()\n",
        "\n",
        "for i in range (1,limit+1):\n",
        "  print(f\"{num} x {i} = {num*i}\")"
      ],
      "metadata": {
        "id": "jBAu-auJa8wN",
        "colab": {
          "base_uri": "https://localhost:8080/"
        },
        "outputId": "0c9000f7-bc38-4483-e57e-c1bf58ae711e"
      },
      "execution_count": null,
      "outputs": [
        {
          "output_type": "stream",
          "name": "stdout",
          "text": [
            "Enter for Table: 5\n",
            "Limit of Table: 5\n",
            "5 x 1 = 5\n",
            "5 x 2 = 10\n",
            "5 x 3 = 15\n",
            "5 x 4 = 20\n",
            "5 x 5 = 25\n"
          ]
        }
      ]
    },
    {
      "cell_type": "markdown",
      "source": [
        "Q36. Count Digits in a Number Without String Conversion\n",
        "Topic: while loop, integer operations\n",
        "Task:\n",
        "Write a program to count how many digits are in a given positive integer.\n",
        "\n",
        "You must not convert the number to a string.\n",
        "\n",
        "Display the count along with a message.\n",
        "Example:\n",
        "Input: 54789 → Output: 5 digits"
      ],
      "metadata": {
        "id": "2ip0Pzjza9UH"
      }
    },
    {
      "cell_type": "code",
      "source": [
        "num = int(input(\"Enter a Number: \"))\n",
        "num1 = num\n",
        "counter = 0\n",
        "if num == 0:\n",
        "  counter = 1\n",
        "  print(f\"Input: {num1} --> Output: {counter} digits\")\n",
        "  sys.exit()\n",
        "while num >= 1:\n",
        "  num = num//10\n",
        "  print(num)\n",
        "  counter += 1\n",
        "print(f\"Input: {num1} --> Output: {counter} digits\")\n"
      ],
      "metadata": {
        "id": "YdflWQWAa9x4",
        "colab": {
          "base_uri": "https://localhost:8080/"
        },
        "outputId": "c5625f13-3a29-42da-bcec-9617037907e2"
      },
      "execution_count": null,
      "outputs": [
        {
          "output_type": "stream",
          "name": "stdout",
          "text": [
            "Enter a Number: 5678\n",
            "567\n",
            "56\n",
            "5\n",
            "0\n",
            "Input: 5678 --> Output: 4 digits\n"
          ]
        }
      ]
    },
    {
      "cell_type": "markdown",
      "source": [
        "Q37. Reverse a Number Using Loop (No String Conversion)\n",
        "Topic: while loop, number manipulation\n",
        "Task:\n",
        "Take a positive integer and reverse it using a loop.\n",
        "\n",
        "Do not use string slicing or conversion.\n",
        "\n",
        "Display the reversed number.\n",
        "Example:\n",
        "Input: 1234 → Output: 4321"
      ],
      "metadata": {
        "id": "nyu53bsza-Ht"
      }
    },
    {
      "cell_type": "code",
      "source": [
        "num = int(input(\"Enter a Number: \"))\n",
        "n = num\n",
        "num_r = 0\n",
        "while num > 0:\n",
        "  digit = num % 10\n",
        "  num_r = num_r * 10 + digit\n",
        "  num = num // 10\n",
        "print(f\"Input: {n} --> Output: {num_r}\")"
      ],
      "metadata": {
        "id": "-dAaD2vta-q1",
        "colab": {
          "base_uri": "https://localhost:8080/"
        },
        "outputId": "42614d15-f2fc-4478-cf93-6fb77405ae1c"
      },
      "execution_count": null,
      "outputs": [
        {
          "output_type": "stream",
          "name": "stdout",
          "text": [
            "Enter a Number: 12345677654321234567654321234567\n",
            "Input: 12345677654321234567654321234567 --> Output: 76543212345676543212345677654321\n"
          ]
        }
      ]
    },
    {
      "cell_type": "markdown",
      "source": [
        "\n",
        "Q38. Palindrome Number Checker Without Strings\n",
        "Topic: Looping, mathematical manipulation\n",
        "Task:\n",
        "Check if a given positive integer is a palindrome.\n",
        "\n",
        "Do not convert to string.\n",
        "\n",
        "A palindrome reads the same forward and backward (e.g., 121, 1331).\n",
        "Output:\n",
        "\n",
        "\"Palindrome\" if it is,\n",
        "\n",
        "\"Not a palindrome\" if not."
      ],
      "metadata": {
        "id": "HtfTSRCFa_-J"
      }
    },
    {
      "cell_type": "code",
      "source": [
        "num = int(input(\"Enter a Number: \"))\n",
        "n = num\n",
        "num_r = 0\n",
        "while num > 0:\n",
        "  digit = num % 10\n",
        "  num_r = num_r * 10 + digit\n",
        "  num = num // 10\n",
        "if num_r == n:\n",
        "  print(f\"input: {n} --> output: {num_r} is a palindrome\")\n",
        "elif num_r != n:\n",
        "  print(f\"input: {n} --> output: {num_r} is not a palindrome\")"
      ],
      "metadata": {
        "id": "VwgaVUBdbAb2",
        "colab": {
          "base_uri": "https://localhost:8080/"
        },
        "outputId": "c9770386-93f4-4247-b0d9-c34787b00ba0"
      },
      "execution_count": null,
      "outputs": [
        {
          "output_type": "stream",
          "name": "stdout",
          "text": [
            "Enter a Number: 1976\n",
            "input: 1976 --> output: 6791 is not a palindrome\n"
          ]
        }
      ]
    },
    {
      "cell_type": "markdown",
      "source": [
        "Q39. Print Even and Odd Numbers Separately Up to N\n",
        "Topic: Loop, conditionals\n",
        "Task:\n",
        "Input a positive integer N and print:\n",
        "\n",
        "All even numbers from 1 to N on one line.\n",
        "\n",
        "All odd numbers from 1 to N on another line.\n",
        "\n",
        "Output Example:\n",
        "\n",
        "Even: 2 4 6 8  \n",
        "Odd: 1 3 5 7 9\n"
      ],
      "metadata": {
        "id": "cEgovSNwbAy-"
      }
    },
    {
      "cell_type": "code",
      "source": [
        "num = int(input(\"Enter a positive integer: \"))\n",
        "if num <= 0:\n",
        "  print(\"Invalid Input!\")\n",
        "  sys.exit()\n",
        "else:\n",
        "  print(\"\\nOdd Numbers in range\\n\")\n",
        "  for i in range(1,num+1,2):\n",
        "    print(i ,sep =\" \", end= \" \")\n",
        "  print(\"\\n\\nEven Numbers in range\\n\")\n",
        "  for i in range(2,num+1,2):\n",
        "    print(i ,sep =\" \", end= \" \")\n",
        "\n"
      ],
      "metadata": {
        "id": "niBR5VlKbBTT",
        "colab": {
          "base_uri": "https://localhost:8080/"
        },
        "outputId": "94e4547e-be05-40a3-f019-ec5a2cb20c02"
      },
      "execution_count": null,
      "outputs": [
        {
          "output_type": "stream",
          "name": "stdout",
          "text": [
            "Enter a positive integer: 10\n",
            "\n",
            "Odd Numbers in range\n",
            "\n",
            "1 3 5 7 9 \n",
            "\n",
            "Even Numbers in range\n",
            "\n",
            "2 4 6 8 10 "
          ]
        }
      ]
    },
    {
      "cell_type": "markdown",
      "source": [
        "Q40. Print First N Fibonacci Numbers with Explanation\n",
        "Topic: Loop, sequence generation\n",
        "Task:\n",
        "Take a positive integer N and print the first N terms of the Fibonacci sequence.\n",
        "\n",
        "The sequence starts with 0 1, and every term is the sum of the previous two.\n",
        "\n",
        "Print a note explaining the logic to the user before the output.\n",
        "\n",
        "Example:\n",
        "\n",
        "\n",
        "Fibonacci Sequence (first 6 terms):  \n",
        "0 1 1 2 3 5"
      ],
      "metadata": {
        "id": "Rv2jxVVRbByp"
      }
    },
    {
      "cell_type": "code",
      "source": [
        "num = int(input(\"Enter a positive integer: \"))\n",
        "if num <= 0:\n",
        "  print(\"Invalid Input!\")\n",
        "  sys.exit()\n",
        "else:\n",
        "  print(\"Explanation \\nWe Start with a number taken as input from user and use it as a limit for while loop. we create a list fibonacci, with first two elements 0, 1 already in\")\n",
        "  print(\"then we start the loop which iterates untill num becomes less then i, i starts from 2, we keep adding into the list, the sum of last two indices. lastly we print \")\n",
        "  print(\"the series one by one.\\n\\n\")\n",
        "  i = 2\n",
        "  a = 0\n",
        "  b = 1\n",
        "  fibonacci = [a,b]\n",
        "  print(fibonacci[0], end = \" \")\n",
        "  print(fibonacci[1], end = \" \")\n",
        "  while i < num :\n",
        "    fibonacci.append( fibonacci[i-1] + fibonacci[i-2])\n",
        "    print(fibonacci[i], end = \" \")\n",
        "    i+=1\n"
      ],
      "metadata": {
        "id": "54KGreGybCRs",
        "colab": {
          "base_uri": "https://localhost:8080/"
        },
        "outputId": "55478699-1347-4c89-c7aa-ce0cec9b30d2"
      },
      "execution_count": null,
      "outputs": [
        {
          "output_type": "stream",
          "name": "stdout",
          "text": [
            "Enter a positive integer: 10\n",
            "Explanation \n",
            "We Start with a number taken as input from user and use it as a limit for while loop. we create a list fibonacci, with first two elements 0, 1 already in\n",
            "then we start the loop which iterates untill num becomes less then i, i starts from 2, we keep adding into the list, the sum of last two indices. lastly we print \n",
            "the series one by one.\n",
            "\n",
            "\n",
            "0 1 1 2 3 5 8 13 21 34 "
          ]
        }
      ]
    },
    {
      "cell_type": "markdown",
      "source": [
        "## Combined Logic (Loops + Conditionals)"
      ],
      "metadata": {
        "id": "eMiWLPIAkHkN"
      }
    },
    {
      "cell_type": "markdown",
      "metadata": {
        "id": "PjoMbv3rszXi"
      },
      "source": [
        "\n",
        "\n",
        "\n",
        "41. FizzBuzz Challenge (1 to 100):\n",
        "Write a program that prints numbers from 1 to 100. For multiples of 3, print \"Fizz\" instead of the number. For multiples of 5, print \"Buzz\". For numbers divisible by both 3 and 5, print \"FizzBuzz\". All others should print as-is.\n"
      ]
    },
    {
      "cell_type": "code",
      "execution_count": null,
      "metadata": {
        "id": "rFPs_P7qs0B1",
        "colab": {
          "base_uri": "https://localhost:8080/"
        },
        "outputId": "49aaea72-3b17-4954-ce8e-9786efe58e36"
      },
      "outputs": [
        {
          "output_type": "stream",
          "name": "stdout",
          "text": [
            "1\n",
            "2\n",
            "Fizz\n",
            "4\n",
            "Buzz\n",
            "Fizz\n",
            "7\n",
            "8\n",
            "Fizz\n",
            "Buzz\n",
            "11\n",
            "Fizz\n",
            "13\n",
            "14\n",
            "FizzBuzz\n",
            "16\n",
            "17\n",
            "Fizz\n",
            "19\n",
            "Buzz\n",
            "Fizz\n",
            "22\n",
            "23\n",
            "Fizz\n",
            "Buzz\n",
            "26\n",
            "Fizz\n",
            "28\n",
            "29\n",
            "FizzBuzz\n",
            "31\n",
            "32\n",
            "Fizz\n",
            "34\n",
            "Buzz\n",
            "Fizz\n",
            "37\n",
            "38\n",
            "Fizz\n",
            "Buzz\n",
            "41\n",
            "Fizz\n",
            "43\n",
            "44\n",
            "FizzBuzz\n",
            "46\n",
            "47\n",
            "Fizz\n",
            "49\n",
            "Buzz\n",
            "Fizz\n",
            "52\n",
            "53\n",
            "Fizz\n",
            "Buzz\n",
            "56\n",
            "Fizz\n",
            "58\n",
            "59\n",
            "FizzBuzz\n",
            "61\n",
            "62\n",
            "Fizz\n",
            "64\n",
            "Buzz\n",
            "Fizz\n",
            "67\n",
            "68\n",
            "Fizz\n",
            "Buzz\n",
            "71\n",
            "Fizz\n",
            "73\n",
            "74\n",
            "FizzBuzz\n",
            "76\n",
            "77\n",
            "Fizz\n",
            "79\n",
            "Buzz\n",
            "Fizz\n",
            "82\n",
            "83\n",
            "Fizz\n",
            "Buzz\n",
            "86\n",
            "Fizz\n",
            "88\n",
            "89\n",
            "FizzBuzz\n",
            "91\n",
            "92\n",
            "Fizz\n",
            "94\n",
            "Buzz\n",
            "Fizz\n",
            "97\n",
            "98\n",
            "Fizz\n",
            "Buzz\n"
          ]
        }
      ],
      "source": [
        "for i in range(1,101):\n",
        "  if i % 5 == 0 and i % 3 == 0:\n",
        "    print(\"FizzBuzz\")\n",
        "  elif i % 5 == 0:\n",
        "    print(\"Buzz\")\n",
        "  elif i % 3 == 0:\n",
        "    print(\"Fizz\")\n",
        "  else:\n",
        "    print(i)"
      ]
    },
    {
      "cell_type": "markdown",
      "source": [
        "\n",
        "42. Prime Number Checker:\n",
        "Accept a number from the user and check whether it is a prime number or not. Make sure your solution handles edge cases like 0, 1, and negative numbers with appropriate messaging.\n"
      ],
      "metadata": {
        "id": "NvThNPimdihE"
      }
    },
    {
      "cell_type": "code",
      "source": [
        "import sys\n",
        "\n",
        "num =int(input(\"Enter a Positive Integer: \"))\n",
        "check = False\n",
        "if num <= 0:\n",
        "  print(\"Invalid Input!\")\n",
        "elif num==1:\n",
        "  print(\"not prime.\")\n",
        "else:\n",
        "  for i in range(2,10):\n",
        "    if num % i == 0 and num != i:\n",
        "      check = False\n",
        "      break\n",
        "    else:\n",
        "      check = True\n",
        "  print(\"Prime\") if check == True else print(\"Not Prime\")\n",
        "\n"
      ],
      "metadata": {
        "id": "R4_mgeTedi5E",
        "colab": {
          "base_uri": "https://localhost:8080/"
        },
        "outputId": "52f87db4-3460-4101-f7d2-d90cdd72e2bc"
      },
      "execution_count": null,
      "outputs": [
        {
          "output_type": "stream",
          "name": "stdout",
          "text": [
            "Enter a Positive Integer: 5\n",
            "Prime\n"
          ]
        }
      ]
    },
    {
      "cell_type": "markdown",
      "source": [
        "\n",
        "43. All Primes in a Range:\n",
        "Take two integers as input and display all prime numbers between them (inclusive). Display the total number of prime numbers found in that range.\n",
        "\n"
      ],
      "metadata": {
        "id": "BYa05yWxdluT"
      }
    },
    {
      "cell_type": "code",
      "source": [
        "rep = \"yes\"\n",
        "while rep == \"yes\":\n",
        "  start = int(input(\"Enter the starting number: \"))\n",
        "  end = int(input(\"Enter the ending number: \"))\n",
        "  if start <= 0 or end <= 0:\n",
        "    print(\"Invalid Input! Positive integers only.\")\n",
        "    rep = input(\"Wanna Enter Again! yes/no: \").lower()\n",
        "  else:\n",
        "    rep = \"no\"\n",
        "\n",
        "counter = 0\n",
        "\n",
        "# Ascending Range\n",
        "if start < end:\n",
        "  for i in range(start, end + 1):\n",
        "    if i == 1:\n",
        "      continue\n",
        "    check = True\n",
        "    for j in range(2, int(i**0.5) + 1):\n",
        "      if i % j == 0:\n",
        "        check = False\n",
        "        break\n",
        "    if check:\n",
        "      print(i, end=\" \")\n",
        "      counter += 1\n",
        "\n",
        "# Descending Range\n",
        "else:\n",
        "  for i in range(start, end - 1, -1):\n",
        "    if i == 1:\n",
        "      continue\n",
        "    check = True\n",
        "    for j in range(2, int(i**0.5) + 1):\n",
        "      if i % j == 0:\n",
        "        check = False\n",
        "        break\n",
        "    if check:\n",
        "      print(i, end=\" \")\n",
        "      counter += 1\n",
        "\n",
        "print(f\"\\nTotal Prime Numbers: {counter}\")\n"
      ],
      "metadata": {
        "id": "EGAViivodolC",
        "colab": {
          "base_uri": "https://localhost:8080/"
        },
        "outputId": "ffda45d9-e4a3-4751-db6b-4deb2242e3a4"
      },
      "execution_count": null,
      "outputs": [
        {
          "output_type": "stream",
          "name": "stdout",
          "text": [
            "Enter the starting number: 100\n",
            "Enter the ending number: 10\n",
            "97 89 83 79 73 71 67 61 59 53 47 43 41 37 31 29 23 19 17 13 11 \n",
            "Total Prime Numbers: 21\n"
          ]
        }
      ]
    },
    {
      "cell_type": "markdown",
      "source": [
        "44. Armstrong Number Checker:\n",
        "Check if a given number is an Armstrong number. A number is an Armstrong number if the sum of its digits raised to the power of the number of digits is equal to the original number. Example: 153 → 1^3 + 5^3 + 3^3 = 153.\n"
      ],
      "metadata": {
        "id": "AUMJtkvjdqsp"
      }
    },
    {
      "cell_type": "code",
      "source": [
        "num = int(input(\"Enter a number:  \"))\n",
        "temp = num\n",
        "sum = 0\n",
        "digit = []\n",
        "while num != 0:\n",
        "  digit.append(num % 10)\n",
        "  num = num // 10\n",
        "power = len(digit)\n",
        "for i in range(power):\n",
        "  sum += (digit[i] ** power)\n",
        "if temp == sum:\n",
        "  print(f\"Armstrong Number:  given: {temp} == calculated: {sum}\")\n",
        "else:\n",
        "  print(f\"Not Armstrong Number:  given: {temp} != calculated: {sum}\")"
      ],
      "metadata": {
        "id": "jLP5RM7NdpY6",
        "colab": {
          "base_uri": "https://localhost:8080/"
        },
        "outputId": "aa8ab4ed-fb69-4689-9229-8a02e512d900"
      },
      "execution_count": null,
      "outputs": [
        {
          "output_type": "stream",
          "name": "stdout",
          "text": [
            "Enter a number:  153\n",
            "Armstrong Number:  given: 153 == calculated: 153\n"
          ]
        }
      ]
    },
    {
      "cell_type": "markdown",
      "source": [
        "\n",
        "45. Sum of Even Digits in a Number:\n",
        "Take a positive integer as input and calculate the sum of only the even digits present in the number. Display both the digits and the final sum.\n"
      ],
      "metadata": {
        "id": "dxKtsRhFdpt5"
      }
    },
    {
      "cell_type": "code",
      "source": [
        "num = int(input(\"Enter A Number: \"))\n",
        "digit = []\n",
        "temp = num\n",
        "sum = 0\n",
        "even = []\n",
        "while num != 0:\n",
        "  digit.append(num % 10)\n",
        "  num = num // 10\n",
        "length = len(digit)\n",
        "for i in range(length):\n",
        "  if digit[i] % 2 == 0:\n",
        "    sum += digit[i]\n",
        "    even.append(digit[i])\n",
        "\n",
        "  else:\n",
        "    continue\n",
        "print(f\"Sum of even numbers in {temp} == {sum}\")\n",
        "print(even)"
      ],
      "metadata": {
        "id": "S7lHEBwHdt7B",
        "colab": {
          "base_uri": "https://localhost:8080/"
        },
        "outputId": "36e74056-15df-4ab4-d8b5-5ec81c827961"
      },
      "execution_count": null,
      "outputs": [
        {
          "output_type": "stream",
          "name": "stdout",
          "text": [
            "Enter A Number: 23456\n",
            "Sum of even numbers in 23456 == 12\n",
            "[6, 4, 2]\n"
          ]
        }
      ]
    },
    {
      "cell_type": "markdown",
      "source": [
        "\n",
        "46. Star Pattern: Right-Angled Triangle (using *):\n",
        "Ask the user for the number of rows and display a right-angled triangle pattern using stars. The triangle should be left-aligned.\n"
      ],
      "metadata": {
        "id": "W8hQ-L96dueY"
      }
    },
    {
      "cell_type": "code",
      "source": [
        "num = int(input(\"Enter number of rows\"))\n",
        "\n",
        "for i in range(1,num+1):\n",
        "  print()\n",
        "  for j in range(i):\n",
        "    print(\"*\", end = \" \")"
      ],
      "metadata": {
        "id": "96gzc1xjdvuk",
        "colab": {
          "base_uri": "https://localhost:8080/"
        },
        "outputId": "6b06ad78-37dc-4bfe-be0c-e6ef5bdb6015"
      },
      "execution_count": null,
      "outputs": [
        {
          "output_type": "stream",
          "name": "stdout",
          "text": [
            "Enter number of rows5\n",
            "\n",
            "* \n",
            "* * \n",
            "* * * \n",
            "* * * * \n",
            "* * * * * "
          ]
        }
      ]
    },
    {
      "cell_type": "markdown",
      "source": [
        "\n",
        "47. Star Pattern: Inverted Right-Angled Triangle:\n",
        "Take input for rows and display an inverted triangle made of stars aligned to the left, starting from the largest row count.\n",
        "\n"
      ],
      "metadata": {
        "id": "Dn3xoo9MdwWJ"
      }
    },
    {
      "cell_type": "code",
      "source": [
        "num = int(input(\"Enter number of rows\"))\n",
        "\n",
        "\n",
        "\n",
        "for i in range(num,0,-1):\n",
        "  print()\n",
        "  for j in range(i):\n",
        "    print(\"*\", end = \" \")\n"
      ],
      "metadata": {
        "id": "HeptoBcpdxgj",
        "colab": {
          "base_uri": "https://localhost:8080/"
        },
        "outputId": "4effae9d-7d84-4a2c-efa0-034421d78642"
      },
      "execution_count": null,
      "outputs": [
        {
          "output_type": "stream",
          "name": "stdout",
          "text": [
            "Enter number of rows5\n",
            "\n",
            "* * * * * \n",
            "* * * * \n",
            "* * * \n",
            "* * \n",
            "* "
          ]
        }
      ]
    },
    {
      "cell_type": "markdown",
      "source": [
        "48. Number Pyramid Pattern:\n",
        "Create a number pyramid where each row i contains i repeated numbers. For example, row 3 should display 333. The number of rows should be taken as input.\n"
      ],
      "metadata": {
        "id": "9owrntLCdyQi"
      }
    },
    {
      "cell_type": "code",
      "source": [
        "num = int(input(\"Enter number of rows\"))\n",
        "\n",
        "for i in range(num+1):\n",
        "  print()\n",
        "  for j in range(num-i):\n",
        "    print(\" \",end = \" \")\n",
        "  for j in range(i): # complete visually accurate pyramid if for j in range((2*i)-1)\n",
        "    print(i, end= \" \")"
      ],
      "metadata": {
        "id": "SqI5eky5dx6o",
        "colab": {
          "base_uri": "https://localhost:8080/"
        },
        "outputId": "1bfbf474-2d13-4ecc-8096-9aa53bd9e83f"
      },
      "execution_count": null,
      "outputs": [
        {
          "output_type": "stream",
          "name": "stdout",
          "text": [
            "Enter number of rows5\n",
            "\n",
            "          \n",
            "        1 \n",
            "      2 2 \n",
            "    3 3 3 \n",
            "  4 4 4 4 \n",
            "5 5 5 5 5 "
          ]
        }
      ]
    },
    {
      "cell_type": "markdown",
      "source": [
        "\n",
        "49. Factor Finder with Classification:\n",
        "Take a number as input and print all of its factors. Also display how many of them are even and how many are odd.\n",
        "\n"
      ],
      "metadata": {
        "id": "332MvPmNd0LY"
      }
    },
    {
      "cell_type": "code",
      "source": [
        "num = int(input(\"Enter number:  \"))\n",
        "if num <0:\n",
        "    print(\"Invalid Input! positive Integers Only\")\n",
        "    sys.exit()\n",
        "\n",
        "\n",
        "factors = []\n",
        "for i in range(1, num+1):\n",
        "  if num % i == 0:\n",
        "    factors.append(i)\n",
        "length = len(factors)\n",
        "even = []\n",
        "odd = []\n",
        "for i in range(length):\n",
        "  print(factors[i], end=\" \")\n",
        "even_count = 0\n",
        "odd_count = 0\n",
        "for factor in factors:\n",
        "    if factor % 2 == 0:\n",
        "        even_count += 1\n",
        "    else:\n",
        "        odd_count += 1\n",
        "\n",
        "print(f\"\\nEven Factors: {even_count} | Odd Factors: {odd_count}\")"
      ],
      "metadata": {
        "id": "PtEybN4Qd0k3",
        "colab": {
          "base_uri": "https://localhost:8080/"
        },
        "outputId": "fe6b4b54-2443-49e3-8d96-3de56119e644"
      },
      "execution_count": null,
      "outputs": [
        {
          "output_type": "stream",
          "name": "stdout",
          "text": [
            "Enter number:  10\n",
            "1 2 5 10 \n",
            "Even Factors: 2 | Odd Factors: 2\n"
          ]
        }
      ]
    },
    {
      "cell_type": "markdown",
      "source": [
        "50. GCD (HCF) Calculator for Two Numbers:\n",
        "Ask the user to input two positive integers and find their greatest common divisor (GCD), also known as highest common factor (HCF). Do not use any built-in GCD functions."
      ],
      "metadata": {
        "id": "Zd4aln3Od09L"
      }
    },
    {
      "cell_type": "code",
      "source": [
        "a = int(input(\"Enter a : \"))\n",
        "b = int(input(\"Enter b : \"))\n",
        "\n",
        "result = min(a, b)\n",
        "while result > 0:\n",
        "  if a % result == 0 and b % result == 0:\n",
        "    break\n",
        "  result -= 1\n",
        "print(result)"
      ],
      "metadata": {
        "id": "ynVecqjjd47k",
        "colab": {
          "base_uri": "https://localhost:8080/"
        },
        "outputId": "c0858383-a2ea-493d-8048-ca48dbf18930"
      },
      "execution_count": null,
      "outputs": [
        {
          "output_type": "stream",
          "name": "stdout",
          "text": [
            "Enter a : 24\n",
            "Enter b : 36\n",
            "12\n"
          ]
        }
      ]
    },
    {
      "cell_type": "markdown",
      "source": [
        "## Strings"
      ],
      "metadata": {
        "id": "xgmnAAbAjzLv"
      }
    },
    {
      "cell_type": "markdown",
      "source": [
        "51. Count the number of vowels and consonants in a given string.\n",
        "\n",
        "Ignore digits and special characters.\n",
        "\n",
        "Treat both uppercase and lowercase letters as valid.\n"
      ],
      "metadata": {
        "id": "7A_pGQVu5lwq"
      }
    },
    {
      "cell_type": "code",
      "source": [
        "vowel = \"aeiou\"\n",
        "given = input(\"Enter a string: \")\n",
        "v_count=0\n",
        "c_count=0\n",
        "vowels = []\n",
        "constants = []\n",
        "for ch in given:\n",
        "  if ch.lower() in vowel:\n",
        "    v_count += 1\n",
        "    vowels.append(ch)\n",
        "  elif ch.isalpha():\n",
        "    c_count += 1\n",
        "    constants.append(ch)\n",
        "  else:\n",
        "    continue\n",
        "\n",
        "print(f\"number of vowels:  {v_count}    {vowels}\")\n",
        "print(f\"number of constants:  {c_count}    {constants}\")\n"
      ],
      "metadata": {
        "colab": {
          "base_uri": "https://localhost:8080/"
        },
        "id": "Bd0IPTbm5mUU",
        "outputId": "15053349-a7fe-4978-e3bd-a32c1df7033b"
      },
      "execution_count": null,
      "outputs": [
        {
          "output_type": "stream",
          "name": "stdout",
          "text": [
            "Enter a string: this is a string 123123123./..'.;.\n",
            "number of vowels:  4    ['i', 'i', 'a', 'i']\n",
            "number of constants:  9    ['t', 'h', 's', 's', 's', 't', 'r', 'n', 'g']\n"
          ]
        }
      ]
    },
    {
      "cell_type": "markdown",
      "source": [
        "52. Check if a string is a palindrome.\n",
        "\n",
        "Case-insensitive.\n",
        "\n",
        "Ignore spaces while checking."
      ],
      "metadata": {
        "id": "cFe7SUJH7g44"
      }
    },
    {
      "cell_type": "code",
      "source": [
        "given = input(\"Enter a string: \").lower()\n",
        "\n",
        "straight =[]\n",
        "reverse = []\n",
        "for ch in given:\n",
        "  if ch != \" \":\n",
        "    straight.append(ch)\n",
        "reverse = straight[::-1]\n",
        "if reverse == straight:\n",
        "  print(\"Palindrome\")\n",
        "else:\n",
        "  print(\"Not Palindrome\")"
      ],
      "metadata": {
        "colab": {
          "base_uri": "https://localhost:8080/"
        },
        "id": "sfk_pv1W7hWh",
        "outputId": "338bc188-c3d1-4718-c56e-8f0e34cf97ee"
      },
      "execution_count": null,
      "outputs": [
        {
          "output_type": "stream",
          "name": "stdout",
          "text": [
            "Enter a string: 111 tht111\n",
            "Palindrome\n"
          ]
        }
      ]
    },
    {
      "cell_type": "markdown",
      "source": [
        "53. Count how many words are in a sentence.\n",
        "\n",
        "A word is any sequence of non-space characters separated by one or more spaces.\n",
        "\n",
        "Don't use .split().\n"
      ],
      "metadata": {
        "id": "xsBNIIHx-Qxe"
      }
    },
    {
      "cell_type": "code",
      "source": [
        "given = input(\"Enter a string: \").lower().strip()\n",
        "words = []\n",
        "word = \"\"\n",
        "length = len(given)\n",
        "i = 0\n",
        "while i <= length-1:\n",
        "  if given[i] != \" \":\n",
        "    word = word + given[i]\n",
        "    i += 1\n",
        "  else:\n",
        "\n",
        "    words.append(word)\n",
        "    word = \"\"\n",
        "    i+=1\n",
        "if word:\n",
        "  words.append(word)\n",
        "now= len(words)\n",
        "print(f\"Number of words : {now}     {words}\")"
      ],
      "metadata": {
        "colab": {
          "base_uri": "https://localhost:8080/"
        },
        "id": "sTNZ_bjQ-SXP",
        "outputId": "ddf871c8-d611-454d-9176-d88094dc2d18"
      },
      "execution_count": null,
      "outputs": [
        {
          "output_type": "stream",
          "name": "stdout",
          "text": [
            "Enter a string: this is a string\n",
            "Number of words : 4     ['this', 'is', 'a', 'string']\n"
          ]
        }
      ]
    },
    {
      "cell_type": "markdown",
      "source": [
        "54. Replace all spaces in a string with hyphens (-).\n",
        "\n",
        "Avoid using the built-in .replace() function."
      ],
      "metadata": {
        "id": "Mh0zkXdqEnHK"
      }
    },
    {
      "cell_type": "code",
      "source": [
        "given = input(\"Enter a string: \").lower().strip()\n",
        "new = \"\"\n",
        "\n",
        "for ch in given:\n",
        "  if ch != \" \":\n",
        "    new = new + ch\n",
        "  else:\n",
        "    new = new +\"-\"\n",
        "\n",
        "print(f\"Output: {new}\")"
      ],
      "metadata": {
        "colab": {
          "base_uri": "https://localhost:8080/"
        },
        "id": "0kp7WmUsEnn8",
        "outputId": "b7f6bfd5-67c4-4f56-be00-71b9f9e4fa71"
      },
      "execution_count": null,
      "outputs": [
        {
          "output_type": "stream",
          "name": "stdout",
          "text": [
            "Enter a string: this is a string \n",
            "Output:  this-is-a-string\n"
          ]
        }
      ]
    },
    {
      "cell_type": "markdown",
      "source": [
        "55. Convert the first letter of each word to uppercase.\n",
        "\n",
        "Don’t use .title() or .capitalize()."
      ],
      "metadata": {
        "id": "Uu5QLwoaFV_i"
      }
    },
    {
      "cell_type": "code",
      "source": [
        "given = input(\"Enter a string: \").lower().strip()\n",
        "words = \"\"\n",
        "word = \"\"\n",
        "i = 0\n",
        "length = len(given)\n",
        "while i <= length-1:\n",
        "  if given[i] != \" \":\n",
        "    word = word + given[i]\n",
        "    i += 1\n",
        "  else:\n",
        "    word = word[0].upper() + word[1:]\n",
        "    words = words + \" \" + word\n",
        "    word = \"\"\n",
        "    i+=1\n",
        "if word:\n",
        "  word = word[0].upper() + word[1:]\n",
        "  words = words + \" \" + word\n",
        "\n",
        "print(f\"New : {words.strip()}\")"
      ],
      "metadata": {
        "colab": {
          "base_uri": "https://localhost:8080/"
        },
        "id": "eWBTntFtFW2s",
        "outputId": "1ac69f8d-1f72-414b-dfa9-91257e850963"
      },
      "execution_count": null,
      "outputs": [
        {
          "output_type": "stream",
          "name": "stdout",
          "text": [
            "Enter a string: this is a string\n",
            "New :  This Is A String\n"
          ]
        }
      ]
    },
    {
      "cell_type": "markdown",
      "source": [
        "56. Remove all digits from a string.\n",
        "\n",
        "Output the cleaned string with only alphabetic characters and symbols."
      ],
      "metadata": {
        "id": "_4so6GA2IHA6"
      }
    },
    {
      "cell_type": "code",
      "source": [
        "given = input(\"Enter a String: \")\n",
        "clean = \"\"\n",
        "for ch in given:\n",
        "  if ch.isdigit():\n",
        "    clean = clean + \"\"\n",
        "  else:\n",
        "    clean = clean + ch\n",
        "print(f\"cleaned String : \\n {clean}\")"
      ],
      "metadata": {
        "colab": {
          "base_uri": "https://localhost:8080/"
        },
        "id": "hBb60A2RIHay",
        "outputId": "0bec68ce-69e0-4618-e7e6-4b9beb035faa"
      },
      "execution_count": null,
      "outputs": [
        {
          "output_type": "stream",
          "name": "stdout",
          "text": [
            "Enter a Stringthis is a string 1with 2nu23mb4er5s\n",
            "cleaned String : \n",
            " this is a string with numbers\n"
          ]
        }
      ]
    },
    {
      "cell_type": "markdown",
      "source": [
        "\n",
        "57. Count how many times each character appears in a string.\n",
        "\n",
        "Exclude spaces from the count.\n",
        "\n",
        "Output must show: character → count (in any order)."
      ],
      "metadata": {
        "id": "Efmygq-KJC3g"
      }
    },
    {
      "cell_type": "code",
      "source": [
        "given = input(\"Enter a String: \").lower().strip()\n",
        "length = len(given)\n",
        "count = 0\n",
        "done = \"\"\n",
        "for ch in given:\n",
        "  count = 0\n",
        "  if ch not in done:\n",
        "    for i in range(length):\n",
        "      if ch == given[i] and ch != \" \":\n",
        "        count += 1\n",
        "      elif ch == \" \":\n",
        "        continue\n",
        "  else:\n",
        "    continue\n",
        "  done = done + ch\n",
        "  if ch != \" \":\n",
        "    print(f\"{ch} --> {count}\")\n",
        "\n",
        "\n",
        "\n",
        "\n"
      ],
      "metadata": {
        "colab": {
          "base_uri": "https://localhost:8080/"
        },
        "id": "yxKkypU0JDyU",
        "outputId": "8eb9157f-8c88-4be9-ace3-e9aedfb24274"
      },
      "execution_count": null,
      "outputs": [
        {
          "output_type": "stream",
          "name": "stdout",
          "text": [
            "Enter a String: This is a string\n",
            "t --> 2\n",
            "h --> 1\n",
            "i --> 3\n",
            "s --> 3\n",
            "a --> 1\n",
            "r --> 1\n",
            "n --> 1\n",
            "g --> 1\n"
          ]
        }
      ]
    },
    {
      "cell_type": "markdown",
      "source": [
        "58. Remove all duplicate characters from a string while keeping order.\n",
        "\n",
        "For example, \"aabbccdd\" → \"abcd\"."
      ],
      "metadata": {
        "id": "chjGeUQxPBpU"
      }
    },
    {
      "cell_type": "code",
      "source": [
        "given = input(\"Enter a String: \").lower().strip()\n",
        "final = \"\"\n",
        "for i in range(len(given)):\n",
        "  if given[i] in final:\n",
        "    continue\n",
        "  else:\n",
        "      final = final + given[i]\n",
        "\n",
        "print(final)\n"
      ],
      "metadata": {
        "id": "mJwYYoAeeawK",
        "colab": {
          "base_uri": "https://localhost:8080/"
        },
        "outputId": "29caf713-382b-40f4-b293-8a22afa83f07"
      },
      "execution_count": null,
      "outputs": [
        {
          "output_type": "stream",
          "name": "stdout",
          "text": [
            "Enter a String: aaaabbccccdddd\n",
            "abcd\n"
          ]
        }
      ]
    },
    {
      "cell_type": "markdown",
      "source": [
        "59. Find the longest word in a sentence.\n",
        "\n",
        "If multiple have the same length, return the first one.\n",
        "\n",
        "No built-in .split()."
      ],
      "metadata": {
        "id": "aQQcmEOwRnXv"
      }
    },
    {
      "cell_type": "code",
      "source": [
        "given = input(\"Enter a String: \").lower().strip()\n",
        "word = []\n",
        "longest = []\n",
        "i = 0\n",
        "while i < len(given):\n",
        "\n",
        "  if given[i] != \" \":# run untill encounter a space\n",
        "    word.append(given[i])\n",
        "    i+=1\n",
        "\n",
        "  else: #only runs when a word has been completly added to the list\n",
        "\n",
        "    if len(word)>len(longest):# checks if current longest is shorter than the current word\n",
        "      longest = word\n",
        "      i+=1\n",
        "      word=[]# remove the previous word\n",
        "\n",
        "    else: # if current longest is short, just remove it and move on with the loip.\n",
        "      i+=1\n",
        "      word=[] # remove the previous word\n",
        "      continue\n",
        "# loop ends here\n",
        "\n",
        "if len(word) > len(longest): # compare last word with the longest word.\n",
        "    longest = word\n",
        "\n",
        "l_word = \"\" # convert back into a word from a list\n",
        "for i in range(len(longest)):\n",
        "  l_word = l_word + longest[i]\n",
        "print(l_word)\n",
        "\n",
        "\n",
        "\n",
        "\n"
      ],
      "metadata": {
        "colab": {
          "base_uri": "https://localhost:8080/"
        },
        "id": "HoN8QUmARn5F",
        "outputId": "b530673d-a82c-4e95-851d-d2e09dba16bf"
      },
      "execution_count": null,
      "outputs": [
        {
          "output_type": "stream",
          "name": "stdout",
          "text": [
            "Enter a String: this is the longest wordeverwriiten\n",
            "wordeverwriiten\n"
          ]
        }
      ]
    },
    {
      "cell_type": "markdown",
      "source": [
        "\n",
        "60. Reverse the order of words in a sentence.\n",
        "\n",
        "\"Hello World Python\" → \"Python World Hello\"\n",
        "\n",
        "No .split() or reversed() — use manual logic."
      ],
      "metadata": {
        "id": "IbT9u-kseaF8"
      }
    },
    {
      "cell_type": "code",
      "source": [
        "given = input(\"Enter a String: \").lower().strip()\n",
        "word = []\n",
        "sentence = []\n",
        "i = 0\n",
        "while i < len(given):\n",
        "\n",
        "  if given[i] != \" \":# run untill encounter a space\n",
        "    word.append(given[i])\n",
        "    i+=1\n",
        "\n",
        "  else: # when space encounter add whole word into a list -> sentence\n",
        "    sentence.append(\"\".join(word)) # this makes sure, each word added is joined, means not different characters but a word, followed by a space.\n",
        "    word = [] # reset the word list to empty for new word.\n",
        "    i+=1\n",
        "\n",
        "if word: # add the word after last space.\n",
        "  sentence.append(\"\".join(word))\n",
        "sentence = sentence[::-1] # reverse list of words not characters\n",
        "\n",
        "l_word = \" \".join(sentence) # join into a string with added space between.\n",
        "print(l_word)\n",
        "\n",
        "\n",
        "\n",
        "\n"
      ],
      "metadata": {
        "colab": {
          "base_uri": "https://localhost:8080/"
        },
        "id": "Ta5bZOGdRmY9",
        "outputId": "5692f5b8-b23c-4aaa-98fd-f6debab15d17"
      },
      "execution_count": null,
      "outputs": [
        {
          "output_type": "stream",
          "name": "stdout",
          "text": [
            "Enter a String: this is a string\n",
            "string a is this\n"
          ]
        }
      ]
    },
    {
      "cell_type": "markdown",
      "source": [
        "## Lists\n",
        "\n",
        "\n",
        "61. Find the Second Largest Unique Element in a List\n",
        "\n",
        " Input: [4, 1, 6, 7, 4, 7, 6]\n",
        "\n",
        " Output: 6\n",
        "\n",
        " Hint: No built-in sort. Do it manually."
      ],
      "metadata": {
        "id": "lKezrxkuo5k8"
      }
    },
    {
      "cell_type": "code",
      "source": [
        "import sys\n",
        "\n",
        "lis = input(\"Enter the numbers:  \").split()\n",
        "lis =[ int(i) for i in lis ]\n",
        "\n",
        "if len(lis) <= 1:\n",
        "  print(\"Not Enough Values\")\n",
        "  sys.exit()\n",
        "\n",
        "#remove repeated\n",
        "lis = list(set(lis))\n",
        "\n",
        "if len(lis) <= 1 :\n",
        "  print(\"No Second Largest, only one value.\")\n",
        "  sys.exit()\n",
        "\n",
        "\n",
        "temp = 0\n",
        "\n",
        "for i in range(len(lis)):\n",
        "  for j in range(i+1,len(lis)):\n",
        "    if lis[i] < lis[j]:\n",
        "      temp = lis[i]\n",
        "      lis[i] = lis[j]\n",
        "      lis[j] = temp\n",
        "\n",
        "print(f\"from given {lis} \\nthe second largest is {lis[1]}\")\n"
      ],
      "metadata": {
        "colab": {
          "base_uri": "https://localhost:8080/"
        },
        "id": "69gYZ6gVo5H0",
        "outputId": "50ce17a2-bdb5-411f-d19a-c61eaad68da1"
      },
      "execution_count": null,
      "outputs": [
        {
          "output_type": "stream",
          "name": "stdout",
          "text": [
            "Enter the numbers:  55 66 77 33 22 88 99\n",
            "from given [99, 88, 77, 66, 55, 33, 22] \n",
            "the second largest is 88\n"
          ]
        }
      ]
    },
    {
      "cell_type": "markdown",
      "source": [
        "62. Count Frequency of Each Character in a String\n",
        "\n",
        " Input: \"banana\"\n",
        "\n",
        " Output: {'b': 1, 'a': 3, 'n': 2}"
      ],
      "metadata": {
        "id": "ZrR04_zd2yJG"
      }
    },
    {
      "cell_type": "code",
      "source": [
        "given = input(\"Enter a string: \").strip()\n",
        "orignal = []\n",
        "output = \"{\"\n",
        "count = 0\n",
        "for ch in given:\n",
        "  if ch != \" \":\n",
        "    orignal.append(ch)\n",
        "\n",
        "unique = list(set(orignal))\n",
        "print(unique)\n",
        "\n",
        "\n",
        "for i in range(len(unique)):\n",
        "  count = 0\n",
        "  for j in range(len(orignal)):\n",
        "    if unique[i] == orignal[j]:\n",
        "      count+=1\n",
        "  output += f\"'{unique[i]}': {count},\"\n",
        "\n",
        "\n",
        "output = output[:-1]\n",
        "output += \"}\"\n",
        "print(output)\n",
        "\n"
      ],
      "metadata": {
        "id": "OEIkzfKiyg2h",
        "colab": {
          "base_uri": "https://localhost:8080/"
        },
        "outputId": "43719069-b128-44b9-9c72-7d555da9f0cd"
      },
      "execution_count": null,
      "outputs": [
        {
          "output_type": "stream",
          "name": "stdout",
          "text": [
            "Enter a string: banana\n",
            "['b', 'a', 'n']\n",
            "{'b': 1,'a': 3,'n': 2}\n"
          ]
        }
      ]
    },
    {
      "cell_type": "markdown",
      "source": [
        "63. Find All Prime Numbers in a List\n",
        "\n",
        " Input: [3, 4, 5, 6, 7, 8, 9, 10]\n",
        "\n",
        " Output: [3, 5, 7]"
      ],
      "metadata": {
        "id": "EhFfryp474o2"
      }
    },
    {
      "cell_type": "code",
      "source": [
        "all = input(\"Enter a list: \").split()\n",
        "all = list(set([int(i) for i in all]))\n",
        "prime = []\n",
        "\n",
        "for i in all:\n",
        "  if i == 1 or i == 0:\n",
        "    continue\n",
        "  check = True\n",
        "  for j in range(2, int(i**0.5) + 1):\n",
        "    if i % j == 0:\n",
        "      check = False\n",
        "      break\n",
        "  if check == True:\n",
        "    if i not in prime:\n",
        "      prime.append(i)\n",
        "\n",
        "print(prime)"
      ],
      "metadata": {
        "colab": {
          "base_uri": "https://localhost:8080/"
        },
        "id": "LbjFXjt776BY",
        "outputId": "7686c1f0-ee4e-4c1f-c678-d13a0990a73d"
      },
      "execution_count": null,
      "outputs": [
        {
          "output_type": "stream",
          "name": "stdout",
          "text": [
            "Enter a list: 0 1 2 3 4 5 6\n",
            "[2, 3, 5]\n"
          ]
        }
      ]
    },
    {
      "cell_type": "markdown",
      "source": [
        "64. Reverse a List Without Using Reverse or Slicing\n",
        "\n",
        " Input: [1, 2, 3, 4]\n",
        "\n",
        " Output: [4, 3, 2, 1]"
      ],
      "metadata": {
        "id": "tJYLvrBaVf76"
      }
    },
    {
      "cell_type": "code",
      "source": [
        "all = input(\"Enter a list: \").split()\n",
        "all = [int(i) for i in all]\n",
        "rev = []\n",
        "for i in range(len(all)-1,-1,-1):\n",
        "  rev.append(all[i])\n",
        "print(rev)"
      ],
      "metadata": {
        "colab": {
          "base_uri": "https://localhost:8080/"
        },
        "id": "MECpOb71Vgi1",
        "outputId": "3aef8d07-aa21-4db3-b696-7ef02abff9cf"
      },
      "execution_count": null,
      "outputs": [
        {
          "output_type": "stream",
          "name": "stdout",
          "text": [
            "Enter a list: 11 12 13 14 24 33\n",
            "[33, 24, 14, 13, 12, 11]\n"
          ]
        }
      ]
    },
    {
      "cell_type": "markdown",
      "source": [
        "65. Find the Most Frequent Word in a Sentence\n",
        "\n",
        " Input: \"cat bat cat bat cat rat bat\"\n",
        "\n",
        " Output: cat (or bat, depending on tie-breaking logic)"
      ],
      "metadata": {
        "id": "q0l6Gqp_WQT1"
      }
    },
    {
      "cell_type": "code",
      "source": [
        "l = input(\"enter a string: \").split()\n",
        "unique = list(set(l))\n",
        "count= ['',0]\n",
        "cnt = 0\n",
        "for i in unique:\n",
        "  for j in l:\n",
        "    if i==j:\n",
        "      cnt += 1\n",
        "      if cnt > count[1] or (cnt == count[1] and l.index(i) < l.index(count[0])):\n",
        "        count[0] = i\n",
        "        count[1] = cnt\n",
        "  cnt = 0\n",
        "\n",
        "print(count[0], count[1])\n"
      ],
      "metadata": {
        "colab": {
          "base_uri": "https://localhost:8080/"
        },
        "id": "cyDdtN44WTCA",
        "outputId": "406167d1-8045-4592-81de-3608a1a13406"
      },
      "execution_count": null,
      "outputs": [
        {
          "output_type": "stream",
          "name": "stdout",
          "text": [
            "enter a string: cat bat cat bat cat rat bat\n",
            "cat 3\n"
          ]
        }
      ]
    },
    {
      "cell_type": "markdown",
      "source": [
        "66. Remove All Duplicates from a List Without Using Set\n",
        "\n",
        " Input: [1, 2, 2, 3, 4, 4, 4, 5]\n",
        "\n",
        " Output: [1, 2, 3, 4, 5]"
      ],
      "metadata": {
        "id": "9tpALTwpfglu"
      }
    },
    {
      "cell_type": "code",
      "source": [
        "l = input(\"Enter a list: \").split()\n",
        "l = [int(i) for i in l]\n",
        "done = []\n",
        "for i in l:\n",
        "  if i not in done:\n",
        "    done.append(i)\n",
        "print(done)\n"
      ],
      "metadata": {
        "colab": {
          "base_uri": "https://localhost:8080/"
        },
        "id": "lKy1yBhvfhAS",
        "outputId": "6bbb24d4-85a5-4d59-d834-e2f4ab7be9d2"
      },
      "execution_count": null,
      "outputs": [
        {
          "output_type": "stream",
          "name": "stdout",
          "text": [
            "Enter a list: 1 2 2 3 4 4 4 5\n",
            "[1, 2, 3, 4, 5]\n"
          ]
        }
      ]
    },
    {
      "cell_type": "markdown",
      "source": [
        "67. Check if Two Strings are Anagrams Without Collections\n",
        "\n",
        " Input: \"listen\", \"silent\"\n",
        "\n",
        " Output: True"
      ],
      "metadata": {
        "id": "l2LwkhpOgiOd"
      }
    },
    {
      "cell_type": "code",
      "source": [
        "tstrings = input(\"Enter two strings:  \").split()\n",
        "\n",
        "l1 = [ch for ch in tstrings[0]]\n",
        "l2 = [ch for ch in tstrings[1]]\n",
        "if len(l1) == len(l2):\n",
        "  l1.sort()\n",
        "  l2.sort()\n",
        "\n",
        "  if l1 == l2:\n",
        "    print(True)\n",
        "  else:\n",
        "    print(False)\n",
        "else:\n",
        "  print(False)"
      ],
      "metadata": {
        "colab": {
          "base_uri": "https://localhost:8080/"
        },
        "id": "V0Mk6imvgkQa",
        "outputId": "315ad6fa-9756-4978-eacc-42e58e41ad0e"
      },
      "execution_count": null,
      "outputs": [
        {
          "output_type": "stream",
          "name": "stdout",
          "text": [
            "Enter two strings:  malik maaalik\n",
            "False\n"
          ]
        }
      ]
    },
    {
      "cell_type": "markdown",
      "source": [
        "68. Rotate a List to the Right by K Steps\n",
        "\n",
        " Input: [1, 2, 3, 4, 5], k = 2\n",
        "\n",
        " Output: [4, 5, 1, 2, 3]"
      ],
      "metadata": {
        "id": "ZTYwGVF1jTxR"
      }
    },
    {
      "cell_type": "code",
      "source": [
        "l = input(\"Enter a list: \").split()\n",
        "l = [int(i) for i in l]\n",
        "k = int(input(\"Enter step: \"))\n",
        "\n",
        "l = l[-k:] + l[:-k]\n",
        "# l = l[k:] + l[:k] for left rotation\n",
        "print(l)"
      ],
      "metadata": {
        "colab": {
          "base_uri": "https://localhost:8080/"
        },
        "id": "keuceHnijUMm",
        "outputId": "efc91dea-e08d-42cc-dd77-772994ad2375"
      },
      "execution_count": null,
      "outputs": [
        {
          "output_type": "stream",
          "name": "stdout",
          "text": [
            "Enter a list: 1 2 3 4 5\n",
            "Enter step4\n",
            "[2, 3, 4, 5, 1]\n"
          ]
        }
      ]
    },
    {
      "cell_type": "markdown",
      "source": [
        "69. Merge Two Sorted Lists into One Sorted List (Without Using Sort)\n",
        "\n",
        "\n",
        " Input: [1, 3, 5], [2, 4, 6]\n",
        "\n",
        " Output: [1, 2, 3, 4, 5, 6]\n",
        "\n"
      ],
      "metadata": {
        "id": "Xlp8csncoMvk"
      }
    },
    {
      "cell_type": "code",
      "source": [
        "\n",
        "l = input(\"Enter a list: \").split()\n",
        "l = [int(i) for i in l]\n",
        "\n",
        "j  = input(\"Enter a list: \").split()\n",
        "j = [int(i) for i in j]\n",
        "\n",
        "# would also be correct since i used sorted not sort but\n",
        "# k = sorted(l[:] + j[:])\n",
        "# print(k)\n",
        "\n",
        "k = l[:] + j[:]\n",
        "\n",
        "for i in range(len(k)):\n",
        "  for j in range(i+1,len(k)):\n",
        "    if k[i] > k[j]:\n",
        "      temp = k[i]\n",
        "      k[i] = k[j]\n",
        "      k[j] = temp\n",
        "\n",
        "print(k)\n"
      ],
      "metadata": {
        "id": "cj8CpAuco13j",
        "colab": {
          "base_uri": "https://localhost:8080/"
        },
        "outputId": "35d7596f-e2ee-4d9b-c560-6301897bb6d5"
      },
      "execution_count": null,
      "outputs": [
        {
          "output_type": "stream",
          "name": "stdout",
          "text": [
            "Enter a list: 1 3 5\n",
            "Enter a list: 2 4 6\n",
            "[1, 2, 3, 4, 5, 6]\n"
          ]
        }
      ]
    },
    {
      "cell_type": "markdown",
      "source": [
        "70. Find the Longest Palindromic Word in a Sentence\n",
        "\n",
        " Input: \"madam racecar apple level rotor\"\n",
        "\n",
        " Output: racecar"
      ],
      "metadata": {
        "id": "isAUq4SNjX0D"
      }
    },
    {
      "cell_type": "code",
      "source": [
        "words = input(\"Enter a Sentence: \").split()\n",
        "longest = ['',0]\n",
        "for word in words:\n",
        "  if word == word[::-1]:\n",
        "    if len(word) > longest[1]:\n",
        "      longest[0] = word\n",
        "      longest[1] = len(word)\n",
        "print(longest)"
      ],
      "metadata": {
        "colab": {
          "base_uri": "https://localhost:8080/"
        },
        "id": "xNTS9arjjYWS",
        "outputId": "daef025c-a293-44f6-97fc-bb943830e286"
      },
      "execution_count": null,
      "outputs": [
        {
          "output_type": "stream",
          "name": "stdout",
          "text": [
            "Enter a Sentence: this is a carr arara ararar\n",
            "['arara', 5]\n"
          ]
        }
      ]
    },
    {
      "cell_type": "markdown",
      "source": [
        "## Tuples\n",
        "71. Tuple Unpacking with Skipped Elements\n",
        "Given t = (10, 20, 30, 40, 50, 60), unpack it into:\n",
        "\n",
        "a = 10\n",
        "\n",
        "b = 20\n",
        "\n",
        "rest = [30, 40]\n",
        "\n",
        "c = 50\n",
        "\n",
        "d = 60\n",
        "Hint: use unpacking with *."
      ],
      "metadata": {
        "id": "xlzU8vMYwfcO"
      }
    },
    {
      "cell_type": "code",
      "source": [
        "t = (10, 20, 30, 40, 50, 60)\n",
        "rest = []\n",
        "a , b,*rest, c, d = t\n",
        "print(a,b,rest,c,d)"
      ],
      "metadata": {
        "colab": {
          "base_uri": "https://localhost:8080/"
        },
        "id": "KIReIg1FwgUF",
        "outputId": "6220778a-80a2-44f2-838e-2f561a26e12e"
      },
      "execution_count": null,
      "outputs": [
        {
          "output_type": "stream",
          "name": "stdout",
          "text": [
            "10 20 [30, 40] 50 60\n"
          ]
        }
      ]
    },
    {
      "cell_type": "markdown",
      "source": [
        "72. Immutable But Mutable?\n",
        "\n",
        "What will be the output of the following and why?\n",
        "\n",
        "        t = ([1, 2], [3, 4])\n",
        "\n",
        "        t[0] += [5]\n",
        "\n",
        "        print(t)\n",
        "\n",
        "        Answer:\n",
        "\n",
        "        the answer would be TypeError because tuple are not mutable in structure yes. but whats within a tuple is\n",
        "        \n",
        "        mutable or not depends on itself. lets say we have a list, which is itself mutable so this renders the list part of the\n",
        "        \n",
        "        tuple mutable, since list is stored in a same address, changing the list doesnt change it's reference.\n",
        "\n",
        "        if we append to list, that is possible but operatons such as adding to what is existing in the list causes errors"
      ],
      "metadata": {
        "id": "VYQ6MD8Vx8b6"
      }
    },
    {
      "cell_type": "code",
      "source": [
        "t = ([1, 2], [3, 4])\n",
        "t[0].append(4) # this works cuz we are not assiging something new, we are adding to the list\n",
        "print(t)\n",
        "\n",
        "t[0] += [5] # this here is chaning what is in the list. so we cant\n",
        "\n",
        "print(t)"
      ],
      "metadata": {
        "colab": {
          "base_uri": "https://localhost:8080/",
          "height": 228
        },
        "id": "sQF5jTBqx85Q",
        "outputId": "65b4212d-83fa-4bf8-a8b5-f531311c3cec"
      },
      "execution_count": null,
      "outputs": [
        {
          "output_type": "stream",
          "name": "stdout",
          "text": [
            "([1, 2, 4], [3, 4])\n"
          ]
        },
        {
          "output_type": "error",
          "ename": "TypeError",
          "evalue": "'tuple' object does not support item assignment",
          "traceback": [
            "\u001b[0;31m---------------------------------------------------------------------------\u001b[0m",
            "\u001b[0;31mTypeError\u001b[0m                                 Traceback (most recent call last)",
            "\u001b[0;32m/tmp/ipython-input-16-2854565595.py\u001b[0m in \u001b[0;36m<cell line: 0>\u001b[0;34m()\u001b[0m\n\u001b[1;32m      2\u001b[0m \u001b[0mt\u001b[0m\u001b[0;34m[\u001b[0m\u001b[0;36m0\u001b[0m\u001b[0;34m]\u001b[0m\u001b[0;34m.\u001b[0m\u001b[0mappend\u001b[0m\u001b[0;34m(\u001b[0m\u001b[0;36m4\u001b[0m\u001b[0;34m)\u001b[0m\u001b[0;34m\u001b[0m\u001b[0;34m\u001b[0m\u001b[0m\n\u001b[1;32m      3\u001b[0m \u001b[0mprint\u001b[0m\u001b[0;34m(\u001b[0m\u001b[0mt\u001b[0m\u001b[0;34m)\u001b[0m\u001b[0;34m\u001b[0m\u001b[0;34m\u001b[0m\u001b[0m\n\u001b[0;32m----> 4\u001b[0;31m \u001b[0mt\u001b[0m\u001b[0;34m[\u001b[0m\u001b[0;36m0\u001b[0m\u001b[0;34m]\u001b[0m \u001b[0;34m+=\u001b[0m \u001b[0;34m[\u001b[0m\u001b[0;36m5\u001b[0m\u001b[0;34m]\u001b[0m\u001b[0;34m\u001b[0m\u001b[0;34m\u001b[0m\u001b[0m\n\u001b[0m\u001b[1;32m      5\u001b[0m \u001b[0;34m\u001b[0m\u001b[0m\n\u001b[1;32m      6\u001b[0m \u001b[0mprint\u001b[0m\u001b[0;34m(\u001b[0m\u001b[0mt\u001b[0m\u001b[0;34m)\u001b[0m\u001b[0;34m\u001b[0m\u001b[0;34m\u001b[0m\u001b[0m\n",
            "\u001b[0;31mTypeError\u001b[0m: 'tuple' object does not support item assignment"
          ]
        }
      ]
    },
    {
      "cell_type": "markdown",
      "source": [
        "73. Tuple Transformation\n",
        "\n",
        "        Write a function that takes a tuple of strings and returns a new tuple where\n",
        "\n",
        "        each string is reversed and only strings longer than 3 characters are included.\n",
        "\n",
        "        Example:\n",
        "\n",
        "        Input: (\"one\", \"three\", \"four\", \"go\")\n",
        "\n",
        "        Output: (\"eerht\", \"ruof\")\n"
      ],
      "metadata": {
        "id": "SsJ4wcJbx9U0"
      }
    },
    {
      "cell_type": "code",
      "source": [
        "I = tuple(input(\"Enter a tuple of strings:  \").split())\n",
        "l= []\n",
        "for i in I:\n",
        "  if len(i) > 3:\n",
        "    l.append(str(i))\n",
        "  else:\n",
        "    continue\n",
        "for i in range(len(l)):\n",
        "  l[i] = l[i][::-1]\n",
        "\n",
        "R = tuple(l)\n",
        "print(R)\n"
      ],
      "metadata": {
        "colab": {
          "base_uri": "https://localhost:8080/"
        },
        "id": "3xfNaMYwz2EA",
        "outputId": "a45505a2-3017-4069-d6c0-b9e06e9f5a63"
      },
      "execution_count": null,
      "outputs": [
        {
          "output_type": "stream",
          "name": "stdout",
          "text": [
            "Enter a tuple of strings:  THSDH SDHSDHS SDSDH\n",
            "('HDSHT', 'SHDSHDS', 'HDSDS')\n"
          ]
        }
      ]
    },
    {
      "cell_type": "markdown",
      "source": [
        "74. Tuple Set Symmetric Difference\n",
        "\n",
        "        Given two tuples:\n",
        "\n",
        "        t1 = (1, 2, 3, 4, 5)\n",
        "\n",
        "        t2 = (4, 5, 6, 7)\n",
        "\n",
        "        Write a function that returns a tuple of elements that are in either t1 or t2\n",
        "        but not both.\n",
        "\n",
        "        Expected Output: (1, 2, 3, 6, 7) — order may vary."
      ],
      "metadata": {
        "id": "iOu2M3fl3C5t"
      }
    },
    {
      "cell_type": "code",
      "source": [
        "t1 =  input(\"Enter first tuple: \").split()\n",
        "t2 =  input(\"Enter second tuple: \").split()\n",
        "t1 = [int(i) for i in t1]\n",
        "t2 = [int(i) for i in t2]\n",
        "t1 = tuple(t1)\n",
        "t2 = tuple(t2)\n",
        "l = []\n",
        "for i in t1:\n",
        "  if i in t1 and i in t2:\n",
        "    continue\n",
        "  else:\n",
        "    l.append(i)\n",
        "\n",
        "for i in t2:\n",
        "  if i in t1 and i in t2:\n",
        "    continue\n",
        "  else:\n",
        "    l.append(i)\n",
        "l = tuple(l)\n",
        "print(l)"
      ],
      "metadata": {
        "colab": {
          "base_uri": "https://localhost:8080/"
        },
        "id": "dUGNv4VD3h48",
        "outputId": "4aed2751-1a10-467d-d685-c364a4741432"
      },
      "execution_count": null,
      "outputs": [
        {
          "output_type": "stream",
          "name": "stdout",
          "text": [
            "Enter first tuple: 112 123 125 122\n",
            "Enter second tuple: 122 125 233 235 654\n",
            "(112, 123, 233, 235, 654)\n"
          ]
        }
      ]
    },
    {
      "cell_type": "markdown",
      "source": [
        "75. Index-Based Tuple Swapping\n",
        "\n",
        "        Given a tuple of 10 elements, write a function to return a new tuple where\n",
        "\n",
        "        elements at even indices are reversed, but odd index elements remain the same.\n",
        "\n",
        "        Example:\n",
        "\n",
        "        Input: (10, 11, 20, 21, 30, 31)\n",
        "\n",
        "        Output: (30, 11, 20, 21, 10, 31)"
      ],
      "metadata": {
        "id": "e3IiR0JKBuKZ"
      }
    },
    {
      "cell_type": "code",
      "source": [
        "\n",
        "t1 = input(\"Enter first tuple: \").split()\n",
        "t1 = [int(i) for i in t1]\n",
        "t1 = tuple(t1)\n",
        "t2 = []\n",
        "t2 = list(t1)\n",
        "l1 = []\n",
        "for i in range(len(t1)):\n",
        "  if i%2==0:\n",
        "    l1.append(t1[i])\n",
        "  else:\n",
        "    l1.append(0)\n",
        "\n",
        "l1 = l1[::-1]\n",
        "if len(l1)%2 == 0:\n",
        "  for i in range(len(t2)):\n",
        "    if i%2==0:\n",
        "      t2[i] = l1[i+1]\n",
        "else:\n",
        "  for i in range(len(t2)):\n",
        "    if i%2==0:\n",
        "      t2[i] = l1[i]\n",
        "\n",
        "print(t2)\n",
        "\n",
        "\n",
        "# for i in range(1,len(t1)+1,2):\n",
        "\n",
        "\n"
      ],
      "metadata": {
        "colab": {
          "base_uri": "https://localhost:8080/"
        },
        "id": "KehxPWrxB5kd",
        "outputId": "46212a75-02a8-475b-8c22-c036c81450c0"
      },
      "execution_count": null,
      "outputs": [
        {
          "output_type": "stream",
          "name": "stdout",
          "text": [
            "Enter first tuple: 10 11 12 13 14\n",
            "[14, 11, 12, 13, 10]\n"
          ]
        }
      ]
    },
    {
      "cell_type": "markdown",
      "source": [
        "## Dictionaries\n",
        "76. Nested Access Challenge\n",
        "        Given d = {'a': {'b': {'c': {'d': 100}}}}, write a one-liner to access the value 100.\n",
        "\n"
      ],
      "metadata": {
        "id": "zjyGtNtQUNeA"
      }
    },
    {
      "cell_type": "code",
      "source": [
        "d = {'a': {'b': {'c': {'d': 100}}}}\n",
        "print(d[\"a\"][\"b\"][\"c\"][\"d\"])"
      ],
      "metadata": {
        "colab": {
          "base_uri": "https://localhost:8080/"
        },
        "id": "kFnuCZM5Ulmc",
        "outputId": "a6fa1608-f64c-4ae4-9d95-6282992433ae"
      },
      "execution_count": null,
      "outputs": [
        {
          "output_type": "stream",
          "name": "stdout",
          "text": [
            "100\n"
          ]
        }
      ]
    },
    {
      "cell_type": "markdown",
      "source": [
        "\n",
        "77. Dictionary from List of Tuples\n",
        "        Given lst = [(\"a\", 1), (\"b\", 2), (\"a\", 3)], convert it into:\n",
        "        {'a': [1, 3], 'b': [2]}\n",
        "\n"
      ],
      "metadata": {
        "id": "3HNvs9GsUNTz"
      }
    },
    {
      "cell_type": "code",
      "source": [
        "lst = [(\"a\", 1), (\"b\", 2), (\"a\", 3)]\n",
        "rec = {}\n",
        "for i in lst:\n",
        "  if i[0] not in rec.keys():\n",
        "    rec[i[0]] = list()\n",
        "    rec[i[0]].append(i[1])\n",
        "  else:\n",
        "    rec[i[0]].append(i[1])\n",
        "print(rec)\n"
      ],
      "metadata": {
        "colab": {
          "base_uri": "https://localhost:8080/"
        },
        "id": "GlYrnWF3UEYK",
        "outputId": "d30b3cef-05eb-49ae-bd87-dc57d3253fb7"
      },
      "execution_count": null,
      "outputs": [
        {
          "output_type": "stream",
          "name": "stdout",
          "text": [
            "{'a': [1, 3], 'b': [2]}\n"
          ]
        }
      ]
    },
    {
      "cell_type": "markdown",
      "source": [
        "78. Dictionary with Maximum Value Key\n",
        "        You are given scores = {'Ali': 90, 'Zara': 96, 'John': 92}\n",
        "        Print the name of the person with the highest score, without using max(scores) directly."
      ],
      "metadata": {
        "id": "Ztvg0uqPUDG1"
      }
    },
    {
      "cell_type": "code",
      "source": [
        "scores = {'Ali': 90, 'Zara': 96, 'John': 92,'Kami':96}\n",
        "max= 0\n",
        "for i in scores.keys():\n",
        "  if max < scores[i]:\n",
        "    max = scores[i]\n",
        "for k, v in scores.items():\n",
        "    if max == v:\n",
        "        print(k)\n"
      ],
      "metadata": {
        "colab": {
          "base_uri": "https://localhost:8080/"
        },
        "id": "XP2DpT4YUpS_",
        "outputId": "23c2802a-44c3-45ea-b3b9-bbe3042910eb"
      },
      "execution_count": null,
      "outputs": [
        {
          "output_type": "stream",
          "name": "stdout",
          "text": [
            "Zara\n",
            "Kami\n"
          ]
        }
      ]
    },
    {
      "cell_type": "markdown",
      "source": [
        "\n",
        "\n",
        "79. Remove Key If Value is List\n",
        "          Given d = {'a': 1, 'b': [2, 3], 'c': 'text', 'd': [5, 6]}\n",
        "          Remove all keys whose values are of list type.\n",
        "          Final Output: {'a': 1, 'c': 'text'}\n",
        "\n"
      ],
      "metadata": {
        "id": "LRZWkr2mUtax"
      }
    },
    {
      "cell_type": "code",
      "source": [
        "d = {'a': 1, 'b': [2, 3], 'c': 'text', 'd': [5, 6]}\n",
        "l = []\n",
        "for i in d.keys():\n",
        "  x = d[i]\n",
        "  if isinstance(x, list):\n",
        "    l.append(i)\n",
        "print(l)\n",
        "for i in l:\n",
        "  d.pop(i)\n",
        "print(d)"
      ],
      "metadata": {
        "colab": {
          "base_uri": "https://localhost:8080/"
        },
        "id": "qHRByGB6Ux3D",
        "outputId": "20991317-b59f-44b2-fd43-9a8c57ebe264"
      },
      "execution_count": null,
      "outputs": [
        {
          "output_type": "stream",
          "name": "stdout",
          "text": [
            "['b', 'd']\n",
            "{'a': 1, 'c': 'text'}\n"
          ]
        }
      ]
    },
    {
      "cell_type": "markdown",
      "source": [
        "\n",
        "\n",
        "80. Reverse Key-Value Mapping\n",
        "          Given d = {'a': 1, 'b': 2, 'c': 1}\n",
        "          Convert it into:\n",
        "          {1: ['a', 'c'], 2: ['b']}\n"
      ],
      "metadata": {
        "id": "5Jp98MLoD_Ik"
      }
    },
    {
      "cell_type": "code",
      "source": [
        "d = {'a': 1, 'b': 2, 'c': 1, 'd' : 4,}\n",
        "n_key = list(set(list(d.values())))\n",
        "n_vals = []\n",
        "n_d = {}\n",
        "j = 0\n",
        "for i in n_key:\n",
        "  n_d[i] = list()\n",
        "\n",
        "for i in d.keys():\n",
        "  for j in n_key:\n",
        "    if d[i] == j:\n",
        "      n_d[j].append(i)\n",
        "\n",
        "print(n_d)\n",
        "\n"
      ],
      "metadata": {
        "colab": {
          "base_uri": "https://localhost:8080/"
        },
        "id": "EPKmEuSSEABJ",
        "outputId": "d27d1c73-984f-4e5c-a049-903d3e67cbc1"
      },
      "execution_count": null,
      "outputs": [
        {
          "output_type": "stream",
          "name": "stdout",
          "text": [
            "{1: ['a', 'c'], 2: ['b'], 4: ['d']}\n"
          ]
        }
      ]
    },
    {
      "cell_type": "markdown",
      "source": [
        "\n",
        "81. Flatten Nested Dictionary\n",
        "          Input:\n",
        "          d = { 'name': 'Ali', 'address': {'city': 'Lahore', 'zip': 54000}, 'contact': {'email': 'ali@email.com', 'phone': '12345'} }\n",
        "          Expected Output:\n",
        "          { 'name': 'Ali', 'city': 'Lahore', 'zip': 54000, 'email': 'ali@email.com', 'phone': '12345' }\n"
      ],
      "metadata": {
        "id": "XbpMz4PgEQpD"
      }
    },
    {
      "cell_type": "code",
      "source": [
        "d = {\n",
        "    'name': 'Ali',\n",
        "    'address': {\n",
        "        'city': 'Lahore',\n",
        "        'zip': 54000\n",
        "        },\n",
        "\n",
        "    'contact': {\n",
        "        'email': 'ali@email.com',\n",
        "        'phone': '12345'\n",
        "        }\n",
        "    }\n",
        "\n",
        "n_d = {}\n",
        "for k,v in d.items():\n",
        "  if isinstance(v,dict):\n",
        "    for i in v.keys():\n",
        "      n_d[i] = v[i]\n",
        "  else:\n",
        "    n_d[k] = d[k]\n",
        "\n",
        "\n",
        "\n",
        "  #\n",
        "  #   pass\n",
        "n_d"
      ],
      "metadata": {
        "colab": {
          "base_uri": "https://localhost:8080/"
        },
        "id": "g24FKu-sERAZ",
        "outputId": "9f4bb07e-6087-4653-8a67-1b79e69a4807"
      },
      "execution_count": null,
      "outputs": [
        {
          "output_type": "execute_result",
          "data": {
            "text/plain": [
              "{'name': 'Ali',\n",
              " 'city': 'Lahore',\n",
              " 'zip': 54000,\n",
              " 'email': 'ali@email.com',\n",
              " 'phone': '12345'}"
            ]
          },
          "metadata": {},
          "execution_count": 30
        }
      ]
    },
    {
      "cell_type": "markdown",
      "source": [
        "\n",
        "\n",
        "            82. Group by First Character\n",
        "            Given words = ['apple', 'banana', 'cherry', 'apricot', 'blueberry']\n",
        "            Create a dictionary grouped by the first character:\n",
        "            { 'a': ['apple', 'apricot'], 'b': ['banana', 'blueberry'], 'c': ['cherry'] }\n",
        "\n"
      ],
      "metadata": {
        "id": "81DgHwtqERUU"
      }
    },
    {
      "cell_type": "code",
      "source": [
        "first = 0\n",
        "d = {}\n",
        "words = ['apple', 'banana', 'cherry', 'apricot', 'blueberry']\n",
        "for i in words:\n",
        "  if i[first] not in d.keys():\n",
        "    d[i[first]] = list()\n",
        "    d[i[first]].append(i)\n",
        "  else:\n",
        "    d[i[first]].append(i)\n",
        "print(d)\n",
        "\n"
      ],
      "metadata": {
        "id": "bJDJMi6hERp4",
        "colab": {
          "base_uri": "https://localhost:8080/"
        },
        "outputId": "bbc6267b-bf77-43c2-c1be-4480bd0a65a4"
      },
      "execution_count": null,
      "outputs": [
        {
          "output_type": "stream",
          "name": "stdout",
          "text": [
            "{'a': ['apple', 'apricot'], 'b': ['banana', 'blueberry'], 'c': ['cherry']}\n"
          ]
        }
      ]
    },
    {
      "cell_type": "markdown",
      "source": [
        "            83. Frequency of Words with Sorting\n",
        "            Given sentence = \"this is a test this is only a test\"\n",
        "            Output word frequency as a list of tuples sorted alphabetically by word:\n",
        "            [('a', 2), ('is', 2), ('only', 1), ('test', 2), ('this', 2)]\n"
      ],
      "metadata": {
        "id": "OLHYVULrESCn"
      }
    },
    {
      "cell_type": "code",
      "source": [
        "sentence = \"this is a test this is only a test\"\n",
        "l = sentence.split()\n",
        "d = {}\n",
        "for i in l:\n",
        "  if i not in d.keys():\n",
        "    d[i] = 1\n",
        "  else:\n",
        "    d[i]+= 1\n",
        "l = sorted(list(d.items()))\n",
        "l"
      ],
      "metadata": {
        "id": "x_EjtgGVES9a",
        "colab": {
          "base_uri": "https://localhost:8080/"
        },
        "outputId": "18b54255-4830-4aa9-9aec-50ff88440cf8"
      },
      "execution_count": null,
      "outputs": [
        {
          "output_type": "execute_result",
          "data": {
            "text/plain": [
              "[('a', 2), ('is', 2), ('only', 1), ('test', 2), ('this', 2)]"
            ]
          },
          "metadata": {},
          "execution_count": 26
        }
      ]
    },
    {
      "cell_type": "markdown",
      "source": [
        "\n",
        "              84. Merge Two Dicts Without Overwriting\n",
        "              Given:\n",
        "              d1 = {'a': 1, 'b': 2}\n",
        "              d2 = {'b': 3, 'c': 4}\n",
        "              Expected Output:\n",
        "              {'a': 1, 'b': [2, 3], 'c': 4}\n"
      ],
      "metadata": {
        "id": "I9W5LihQETVJ"
      }
    },
    {
      "cell_type": "code",
      "source": [
        "d1 = {'a': 1, 'b': 2}\n",
        "d2 = {'b': 3, 'c': 4}\n",
        "\n",
        "d = {}\n",
        "d.update(d1)\n",
        "\n",
        "for key, value in d2.items():\n",
        "  if key in d:\n",
        "\n",
        "    if isinstance(d[key],list):\n",
        "      d[key].append(value)\n",
        "\n",
        "    else:\n",
        "      d[key] = [d[key], value]\n",
        "\n",
        "  else:\n",
        "    d[key] = value\n",
        "\n",
        "print(d)\n"
      ],
      "metadata": {
        "id": "7pmnsr4XETtC",
        "colab": {
          "base_uri": "https://localhost:8080/"
        },
        "outputId": "2887ce49-54e1-4ee3-f111-42306561eb83"
      },
      "execution_count": null,
      "outputs": [
        {
          "output_type": "stream",
          "name": "stdout",
          "text": [
            "{'a': 1, 'b': [2, 3], 'c': 4}\n"
          ]
        }
      ]
    },
    {
      "cell_type": "markdown",
      "source": [
        "              85. Key with Highest Frequency in String\n",
        "              Given s = \"aaabbccccdde\"\n",
        "              Use a dictionary to count the frequency of each character.\n",
        "              Print the character(s) with the highest frequency and its count.\n",
        "              Expected Output:\n",
        "              Character: c\n",
        "              Frequency: 4"
      ],
      "metadata": {
        "id": "yA76QdY-joND"
      }
    },
    {
      "cell_type": "code",
      "source": [
        "s = \"aaabbccccdde\"\n",
        "d = {}\n",
        "for ch in s:\n",
        "  if ch in d.keys():\n",
        "    d[ch] += 1\n",
        "  else:\n",
        "    d[ch] = 1\n",
        "\n",
        "max = 0\n",
        "larg = ''\n",
        "for k,v in d.items():\n",
        "  if v > max:\n",
        "    max = v\n",
        "    larg = k\n",
        "  else:\n",
        "    continue\n",
        "print(f\"Character: {larg}\")\n",
        "print(f\"Frequency: {max}\")\n"
      ],
      "metadata": {
        "id": "C75MBwGpkKmf",
        "colab": {
          "base_uri": "https://localhost:8080/"
        },
        "outputId": "fb464008-0120-4bfe-ac07-e44f9b63621c"
      },
      "execution_count": null,
      "outputs": [
        {
          "output_type": "stream",
          "name": "stdout",
          "text": [
            "Character: c\n",
            "Frequency: 4\n"
          ]
        }
      ]
    },
    {
      "cell_type": "markdown",
      "source": [
        "## Sets\n",
        "\n",
        "86. Q1. Common Elements Counter\n",
        "Write a program to find the number of elements common in three sets.\n",
        "\n",
        "        # Example:\n",
        "        s1 = {1, 2, 3, 4}\n",
        "        s2 = {2, 3, 5}\n",
        "        s3 = {0, 2, 3, 6}\n",
        "\n",
        "        # Output:\n",
        "        # Common elements: 2"
      ],
      "metadata": {
        "id": "iIBNUgo6rHCv"
      }
    },
    {
      "cell_type": "code",
      "source": [
        "s1 = {1, 2, 3, 6}\n",
        "s2 = {2, 3, 6}\n",
        "s3 = {0, 2, 3, 6}\n",
        "\n",
        "common = (s1.intersection(s2)).intersection(s3)\n",
        "l = list(common)\n",
        "print(f\"Common elements: {len(l)}\")"
      ],
      "metadata": {
        "colab": {
          "base_uri": "https://localhost:8080/"
        },
        "id": "1HRx2TCEsBKf",
        "outputId": "e2167544-7570-4774-ceeb-8d9fd3f1b81f"
      },
      "execution_count": null,
      "outputs": [
        {
          "output_type": "stream",
          "name": "stdout",
          "text": [
            "Common elements: 3\n"
          ]
        }
      ]
    },
    {
      "cell_type": "markdown",
      "source": [
        "87. Symmetric Difference with Multiple Sets\n",
        "\n",
        "        Given n sets in a list, return the symmetric difference across all sets.\n",
        "        # Example:\n",
        "        sets = [{1, 2}, {2, 3}, {3, 4}]\n",
        "        # Output: {1, 4}"
      ],
      "metadata": {
        "id": "y5OaVS5KrHa3"
      }
    },
    {
      "cell_type": "code",
      "source": [
        "sets = [{1, 2}, {2, 3}, {3, 4}]\n",
        "out = set()\n",
        "\n",
        "for i in sets:\n",
        "  out.symmetric_difference_update(i)\n",
        "print(out)"
      ],
      "metadata": {
        "colab": {
          "base_uri": "https://localhost:8080/"
        },
        "id": "2Zk5vjZmsBo3",
        "outputId": "bbd9b8c0-9ce7-4cd9-a4af-7307ca5a6ef4"
      },
      "execution_count": null,
      "outputs": [
        {
          "output_type": "stream",
          "name": "stdout",
          "text": [
            "{1, 4}\n"
          ]
        }
      ]
    },
    {
      "cell_type": "markdown",
      "source": [
        "88. Unique Word Extractor from Sentences\n",
        "Given a list of strings (sentences), extract a set of all unique words across the sentences.\n",
        "\n",
        "        # Example:\n",
        "        sentences = [\"this is good\", \"this is bad\", \"good and bad\"]\n",
        "        # Output: {'this', 'is', 'good', 'bad', 'and'}"
      ],
      "metadata": {
        "id": "5ybu62pMrHuH"
      }
    },
    {
      "cell_type": "code",
      "source": [
        "sentences = [\"this is good\", \"this is bad\", \"good and bad\"]\n",
        "s = \"\"\n",
        "for sentence in sentences:\n",
        "  for i in sentence:\n",
        "    print(i)\n",
        "    s += i\n",
        "  s += \" \"\n",
        "  print(s)\n",
        "l = s.split()\n",
        "l = sorted(list(set(l)))\n",
        "l"
      ],
      "metadata": {
        "colab": {
          "base_uri": "https://localhost:8080/"
        },
        "id": "3DdRZeRGsCOO",
        "outputId": "e3da1325-0e78-4b40-f5e8-639d45c49cd0"
      },
      "execution_count": null,
      "outputs": [
        {
          "output_type": "stream",
          "name": "stdout",
          "text": [
            "t\n",
            "h\n",
            "i\n",
            "s\n",
            " \n",
            "i\n",
            "s\n",
            " \n",
            "g\n",
            "o\n",
            "o\n",
            "d\n",
            "this is good \n",
            "t\n",
            "h\n",
            "i\n",
            "s\n",
            " \n",
            "i\n",
            "s\n",
            " \n",
            "b\n",
            "a\n",
            "d\n",
            "this is good this is bad \n",
            "g\n",
            "o\n",
            "o\n",
            "d\n",
            " \n",
            "a\n",
            "n\n",
            "d\n",
            " \n",
            "b\n",
            "a\n",
            "d\n",
            "this is good this is bad good and bad \n"
          ]
        },
        {
          "output_type": "execute_result",
          "data": {
            "text/plain": [
              "['and', 'bad', 'good', 'is', 'this']"
            ]
          },
          "metadata": {},
          "execution_count": 57
        }
      ]
    },
    {
      "cell_type": "markdown",
      "source": [
        "89. Duplicate Remover\n",
        "Given a list of numbers, print only the unique elements, preserving the original order of first occurrences.\n",
        "        # Input: [1, 2, 2, 3, 1, 4]\n",
        "        # Output: [1, 2, 3, 4]"
      ],
      "metadata": {
        "id": "aEk4KIderIAP"
      }
    },
    {
      "cell_type": "code",
      "source": [
        "inn = [1001, 3000, 1000, 10000, 1, 4, 99999]\n",
        "seen = set()\n",
        "out = []\n",
        "for i in inn:\n",
        "  if i not in seen:\n",
        "    out.append(i)\n",
        "    seen.add(i)\n",
        "print(out)"
      ],
      "metadata": {
        "colab": {
          "base_uri": "https://localhost:8080/"
        },
        "id": "EHcO4JlvsDJO",
        "outputId": "8c8a1f09-ca90-4611-a822-a13de6895228"
      },
      "execution_count": null,
      "outputs": [
        {
          "output_type": "stream",
          "name": "stdout",
          "text": [
            "[1001, 3000, 1000, 10000, 1, 4, 99999]\n"
          ]
        }
      ]
    },
    {
      "cell_type": "markdown",
      "source": [
        "90. Set Operations Summary\n",
        "Write a function that takes two sets and returns a dictionary summarizing:\n",
        "\n",
        "* union\n",
        "* intersection\n",
        "* difference (set1 - set2)\n",
        "* symmetric difference\n",
        "\n",
        "        # Output:\n",
        "        # {\n",
        "        #   \"union\": {...},\n",
        "        #   \"intersection\": {...},\n",
        "        #   \"difference\": {...},\n",
        "        #   \"symmetric_diff\": {...}\n",
        "        # }"
      ],
      "metadata": {
        "id": "u1_0VqT1rITI"
      }
    },
    {
      "cell_type": "code",
      "source": [
        "def setoperation (a,b):\n",
        "  dic = {}\n",
        "  dic[\"union\"] = a.union(b)\n",
        "  dic[\"intersection\"] = a.intersection(b)\n",
        "  dic[\"difference\"] = a.difference(b)\n",
        "  dic[\"symmetric_diff\"] = a.symmetric_difference(b)\n",
        "  return dic\n",
        "\n",
        "a= {1,2,3,4}\n",
        "b= {1,5,6,4}\n",
        "\n",
        "d = setoperation(a,b)\n",
        "d"
      ],
      "metadata": {
        "colab": {
          "base_uri": "https://localhost:8080/"
        },
        "id": "FhiiwZ2fr-cV",
        "outputId": "1205e7ed-8360-4324-906a-83ea13d63b5a"
      },
      "execution_count": null,
      "outputs": [
        {
          "output_type": "execute_result",
          "data": {
            "text/plain": [
              "{'union': {1, 2, 3, 4, 5, 6},\n",
              " 'intersection': {1, 4},\n",
              " 'difference': {2, 3},\n",
              " 'symmetric_diff': {2, 3, 5, 6}}"
            ]
          },
          "metadata": {},
          "execution_count": 51
        }
      ]
    },
    {
      "cell_type": "markdown",
      "source": [
        "##Functions – 10 Questions (Progressive Difficulty)\n",
        "\n",
        "91. Basic Calculator\n",
        "        Create a function that takes two numbers and a string operator (+, -, *, /) and returns the result.\n"
      ],
      "metadata": {
        "id": "YSUT_wpAsKyd"
      }
    },
    {
      "cell_type": "code",
      "source": [
        "def cal(num1,num2,op):\n",
        "  if op not in \"+-*/\":\n",
        "    return \"Wrong Operator.\"\n",
        "  elif op == \"+\":\n",
        "    return num1+num2\n",
        "  elif op == \"-\":\n",
        "    return num1-num2\n",
        "  elif op == \"*\":\n",
        "    return num1*num2\n",
        "  elif op == \"/\":\n",
        "    if num2 == 0:\n",
        "      return \"division by zero is not possible\"\n",
        "    else:\n",
        "      return num1/num2\n",
        "print(cal(25,5,\"/\"))\n",
        "print(cal(25,5,\"-\"))\n",
        "print(cal(25,5,\"+\"))\n",
        "print(cal(5,5,\"*\"))\n",
        "print(cal(5,0,\"/\"))\n",
        "print(cal(5,2,\"'\"))"
      ],
      "metadata": {
        "id": "6rDIi_ZKsRjG",
        "colab": {
          "base_uri": "https://localhost:8080/"
        },
        "outputId": "9304b041-9ebd-409f-ec32-8b054ea4cafa"
      },
      "execution_count": null,
      "outputs": [
        {
          "output_type": "stream",
          "name": "stdout",
          "text": [
            "5.0\n",
            "20\n",
            "30\n",
            "25\n",
            "division by zero is not possible\n",
            "Wrong Operator.\n"
          ]
        }
      ]
    },
    {
      "cell_type": "markdown",
      "source": [
        "\n",
        "92. Count Vowels in String\n",
        "        Create a function that counts the number of vowels in a given string.\n"
      ],
      "metadata": {
        "id": "hTGIyVuosSju"
      }
    },
    {
      "cell_type": "code",
      "source": [
        "def count_vowels(string):\n",
        "  count = 0\n",
        "  for i in range(len(string)):\n",
        "    if string[i] in \"aeiou\":\n",
        "      count+=1\n",
        "      print(string[i])\n",
        "    else:\n",
        "      continue\n",
        "  return count\n",
        "print(count_vowels(\"vowels\"))\n",
        "\n"
      ],
      "metadata": {
        "id": "-9CGNf-wsVXf",
        "colab": {
          "base_uri": "https://localhost:8080/"
        },
        "outputId": "65e1ee5b-9fd4-4253-a09d-ed1e47808ff6"
      },
      "execution_count": null,
      "outputs": [
        {
          "output_type": "stream",
          "name": "stdout",
          "text": [
            "o\n",
            "e\n",
            "2\n"
          ]
        }
      ]
    },
    {
      "cell_type": "markdown",
      "source": [
        "\n",
        "93. Factorial (Recursive & Iterative)\n",
        "          Write two versions of a function to calculate the factorial of a number: one using recursion, one using a loop.\n"
      ],
      "metadata": {
        "id": "2umO48L9sWjs"
      }
    },
    {
      "cell_type": "code",
      "source": [
        "def l_fac(num):\n",
        "  fac = 1\n",
        "  for i in range(1,num+1):\n",
        "    fac *= i\n",
        "  return fac\n",
        "\n",
        "def r_fac(num):\n",
        "  if num == 0:\n",
        "    return 1\n",
        "  else:\n",
        "    return num * r_fac(num-1)\n",
        "\n",
        "print(\"recursion: \",r_fac(6))\n",
        "print(\"loop: \",l_fac(6))"
      ],
      "metadata": {
        "id": "dYiIel1RsXEU",
        "colab": {
          "base_uri": "https://localhost:8080/"
        },
        "outputId": "474fbcd0-3d43-42ef-eb5a-6cd93e69a384"
      },
      "execution_count": null,
      "outputs": [
        {
          "output_type": "stream",
          "name": "stdout",
          "text": [
            "recursion:  720\n",
            "loop:  720\n"
          ]
        }
      ]
    },
    {
      "cell_type": "markdown",
      "source": [
        "\n",
        "\n",
        "94. Prime Checker\n",
        "      Write a function that returns True if a number is prime, else False.\n"
      ],
      "metadata": {
        "id": "Jc4TdfifsaU4"
      }
    },
    {
      "cell_type": "code",
      "source": [
        "def is_prime(num):\n",
        "\n",
        "  if num < 2:\n",
        "    return \"False\"\n",
        "  for i in range(2,int(num**0.5)+ 1):\n",
        "    if num % i == 0:\n",
        "      return \"False\"\n",
        "  return \"True\"\n",
        "\n",
        "print(is_prime(78))\n",
        "print(is_prime(7))\n",
        "print(is_prime(2))\n",
        "print(is_prime(1))\n",
        "print(is_prime(4))\n",
        "print(is_prime(6))"
      ],
      "metadata": {
        "id": "vSEDvaOxsaqm",
        "colab": {
          "base_uri": "https://localhost:8080/"
        },
        "outputId": "365c6414-da20-47a1-de13-c49ffe9b6c8c"
      },
      "execution_count": null,
      "outputs": [
        {
          "output_type": "stream",
          "name": "stdout",
          "text": [
            "False\n",
            "True\n",
            "True\n",
            "False\n",
            "False\n",
            "False\n"
          ]
        }
      ]
    },
    {
      "cell_type": "markdown",
      "source": [
        "\n",
        "95. Palindrome Checker\n",
        "        Write a function that checks whether a given string is a palindrome (ignoring spaces and case).\n"
      ],
      "metadata": {
        "id": "uIBsd1xzsbXe"
      }
    },
    {
      "cell_type": "code",
      "source": [
        "def palindrome(s):\n",
        "  s = s.lower()\n",
        "  l = []\n",
        "  for i in s:\n",
        "    if i == \" \":\n",
        "      continue\n",
        "    else:\n",
        "      l.append(i)\n",
        "  r_l = l[::-1]\n",
        "  if l == r_l:\n",
        "    return \"Palindrome\"\n",
        "  else:\n",
        "    return \"Not Palindrome\"\n",
        "\n",
        "print(palindrome(\"racecar\"))\n",
        "print(palindrome(\"racercar\"))\n",
        "\n"
      ],
      "metadata": {
        "id": "Kynqvh6usboW",
        "colab": {
          "base_uri": "https://localhost:8080/"
        },
        "outputId": "3f90c314-9071-4750-9962-c308419ba32b"
      },
      "execution_count": null,
      "outputs": [
        {
          "output_type": "stream",
          "name": "stdout",
          "text": [
            "Palindrome\n",
            "Not Palindrome\n"
          ]
        }
      ]
    },
    {
      "cell_type": "markdown",
      "source": [
        "\n",
        "96. Find All Divisors\n",
        "Write a function that returns all the divisors of a number as a list.\n",
        "\n",
        "\n",
        "        # Input: 12\n",
        "        # Output: [1, 2, 3, 4, 6, 12]\n"
      ],
      "metadata": {
        "id": "Q7RlfjsMsb5N"
      }
    },
    {
      "cell_type": "code",
      "source": [
        "def divisor(num):\n",
        "  div = []\n",
        "  for i in range(1,num+1):\n",
        "    if num % i == 0:\n",
        "      div.append(i)\n",
        "  return div\n",
        "divisor(56)\n"
      ],
      "metadata": {
        "id": "ThqRlk3MscM6",
        "colab": {
          "base_uri": "https://localhost:8080/"
        },
        "outputId": "196edd9b-ae59-4516-baff-fdd6619a8e94"
      },
      "execution_count": null,
      "outputs": [
        {
          "output_type": "execute_result",
          "data": {
            "text/plain": [
              "[1, 2, 4, 7, 8, 14, 28, 56]"
            ]
          },
          "metadata": {},
          "execution_count": 35
        }
      ]
    },
    {
      "cell_type": "markdown",
      "source": [
        "97. Function with Default Argument\n",
        "        Write a function greet(name=\"Guest\") that prints a greeting. If no name is provided, it uses \"Guest\".\n"
      ],
      "metadata": {
        "id": "8_px6PdDscZe"
      }
    },
    {
      "cell_type": "code",
      "source": [
        "def greet(name=\"Guest\"):\n",
        "  return(f\"Hi ,{name}. Welcome to Python Programming\")\n",
        "\n",
        "print(greet())\n",
        "print(greet(\"Ali\"))\n"
      ],
      "metadata": {
        "id": "5EJRe0BGscq9",
        "colab": {
          "base_uri": "https://localhost:8080/"
        },
        "outputId": "5b452224-1094-4011-86d1-07d50435fd3d"
      },
      "execution_count": null,
      "outputs": [
        {
          "output_type": "stream",
          "name": "stdout",
          "text": [
            "Hi ,Guest. Welcome to Python Programming\n",
            "Hi ,Ali. Welcome to Python Programming\n"
          ]
        }
      ]
    },
    {
      "cell_type": "markdown",
      "source": [
        "\n",
        "98. Variable-Length Arguments (Flexible Sum)\n",
        "      Create a function flex_sum(*args) that takes any number of numbers and returns their sum.\n"
      ],
      "metadata": {
        "id": "MW8R9p9Esc3-"
      }
    },
    {
      "cell_type": "code",
      "source": [
        "def flex_sum(*num):\n",
        "  sum = 0\n",
        "  for i in num:\n",
        "    sum += i\n",
        "  return sum\n",
        "print(flex_sum(1))\n",
        "print(flex_sum(1,2))\n",
        "print(flex_sum(1,2,3))\n",
        "print(flex_sum(1,2,3,4))"
      ],
      "metadata": {
        "id": "iNAp0oU3sdGM",
        "colab": {
          "base_uri": "https://localhost:8080/"
        },
        "outputId": "0c833fac-9695-46f5-edfd-acd91186a206"
      },
      "execution_count": null,
      "outputs": [
        {
          "output_type": "stream",
          "name": "stdout",
          "text": [
            "1\n",
            "3\n",
            "6\n",
            "10\n"
          ]
        }
      ]
    },
    {
      "cell_type": "markdown",
      "source": [
        "\n",
        "99. Function as Argument\n",
        "Write a function that takes another function and a list, and applies the function to each element.\n",
        "\n",
        "\n",
        "      # Example:\n",
        "      def square(x): return x*x\n",
        "      apply(square, [1, 2, 3])  # Output: [1, 4, 9]\n"
      ],
      "metadata": {
        "id": "p9XreZsxsv3E"
      }
    },
    {
      "cell_type": "code",
      "source": [
        "def square(x): return x*x\n",
        "def apply(square,l):\n",
        "  j = 0\n",
        "  for i in l:\n",
        "    l[j] = square(i)\n",
        "    j+=1\n",
        "  return l\n",
        "lis= [1,2,3,4,5]\n",
        "\n",
        "print(apply(square,lis))\n"
      ],
      "metadata": {
        "id": "uh_JX7YMs0MA",
        "colab": {
          "base_uri": "https://localhost:8080/"
        },
        "outputId": "4f3f55b8-acd0-4a59-c0b2-ded0de6461d6"
      },
      "execution_count": null,
      "outputs": [
        {
          "output_type": "stream",
          "name": "stdout",
          "text": [
            "[1, 4, 9, 16, 25]\n"
          ]
        }
      ]
    },
    {
      "cell_type": "markdown",
      "source": [
        "100. Lambda with Sorting\n",
        "Given a list of tuples (name, score), sort the list in descending order of score using a lambda function.\n",
        "\n",
        "\n",
        "        # Example:\n",
        "        [(\"Ali\", 89), (\"Zara\", 95), (\"John\", 75)]\n",
        "        # Output:\n",
        "        [(\"Zara\", 95), (\"Ali\", 89), (\"John\", 75)]\n"
      ],
      "metadata": {
        "id": "1Tptz1MGs0fc"
      }
    },
    {
      "cell_type": "code",
      "source": [
        "l = [(\"Ali\", 89), (\"Zara\", 95), (\"John\", 75)]\n",
        "l = sorted(l, reverse=True, key= lambda x: x[1]) # remember this x here for each tuple in x, and for each x return x[1]\n",
        "# for each tuple return second elementy of the tuple\n",
        "l\n",
        "\n"
      ],
      "metadata": {
        "colab": {
          "base_uri": "https://localhost:8080/"
        },
        "id": "7EWfVD_3whWC",
        "outputId": "b8669797-e419-4675-db58-5aa04940ccf2"
      },
      "execution_count": null,
      "outputs": [
        {
          "output_type": "execute_result",
          "data": {
            "text/plain": [
              "[('Zara', 95), ('Ali', 89), ('John', 75)]"
            ]
          },
          "metadata": {},
          "execution_count": 55
        }
      ]
    },
    {
      "cell_type": "markdown",
      "source": [
        "## OOP\n"
      ],
      "metadata": {
        "id": "s0xNs3F-Gehx"
      }
    },
    {
      "cell_type": "markdown",
      "source": [
        "101. BankAccount Class — Basic Structure\n",
        "Design a class named BankAccount which allows creating a bank account with attributes like account holder name and an initial balance. The class should have instance methods deposit(amount) and withdraw(amount), which respectively add to or subtract from the balance, while preventing withdrawals that would cause a negative balance. Also add a method to display the current balance when called.\n",
        "\n",
        "    Key Concepts: __init__, self, encapsulation, instance methods."
      ],
      "metadata": {
        "id": "uHJ2gPftmR2F"
      }
    },
    {
      "cell_type": "code",
      "source": [
        "class BankAccount:\n",
        "\n",
        "  def __init__(self,account_holder_name,inital_balance):\n",
        "    self.account_holder_name = account_holder_name\n",
        "    self.inital_balance = inital_balance\n",
        "    print(f\"Thanks {account_holder_name}, your account has been created with a balance of {inital_balance}$ only. \")\n",
        "\n",
        "  def deposit(self,amount):\n",
        "    self.inital_balance += amount\n",
        "    print(\"Amount Deposited Succesfully\")\n",
        "    print(f\"New Balance: {self.inital_balance}$\")\n",
        "\n",
        "  def withdrawl (self,amount):\n",
        "    if amount < self.inital_balance:\n",
        "      self.inital_balance -= amount\n",
        "      print(\"Amount Withdrawn Succesfully\")\n",
        "      print(f\"New Balance: {self.inital_balance}$\")\n",
        "    else:\n",
        "      print(\"insufficent balance! withdrawl failed. \")\n",
        "\n",
        "  def balance_check (self):\n",
        "    print(f\"Current Balance: {self.inital_balance}$\")\n",
        "\n",
        "acc1 = BankAccount(\"Ali\",100)\n",
        "acc1.deposit(100)\n",
        "acc1.withdrawl(100)\n",
        "acc1.withdrawl(2000)\n",
        "acc1.balance_check()\n"
      ],
      "metadata": {
        "id": "JKvM76uUGgnB",
        "colab": {
          "base_uri": "https://localhost:8080/"
        },
        "outputId": "1badf935-05b8-49ae-a1d2-9ca69c8026c4"
      },
      "execution_count": null,
      "outputs": [
        {
          "output_type": "stream",
          "name": "stdout",
          "text": [
            "Thanks Ali, your account has been created with a balance of 100$ only. \n",
            "Amount Deposited Succesfully\n",
            "New Balance: 200$\n",
            "Amount Withdrawn Succesfully\n",
            "New Balance: 100$\n",
            "insufficent balance! withdrawl failed. \n",
            "Current Balance: 100$\n"
          ]
        }
      ]
    },
    {
      "cell_type": "markdown",
      "source": [
        "102. Track Account Creation Using Class Variables\n",
        "Enhance the BankAccount class by introducing a class-level attribute (shared across all instances) that keeps track of how many total accounts have been created. Each time a new account is instantiated, the counter should increase. Provide a method that returns the total number of accounts.\n",
        "\n",
        "    Key Concepts: class variables vs instance variables, ClassName.variable, self.__class__."
      ],
      "metadata": {
        "id": "YY0iQNAUmh4r"
      }
    },
    {
      "cell_type": "code",
      "source": [
        "class BankAccount:\n",
        "\n",
        "  total_accounts = 0\n",
        "\n",
        "  def __init__(self,account_holder_name,inital_balance):\n",
        "    self.account_holder_name = account_holder_name\n",
        "    self.inital_balance = inital_balance\n",
        "    print(f\"Thanks {account_holder_name}, your account has been created with a balance of {inital_balance}$ only. \")\n",
        "    BankAccount.total_accounts += 1\n",
        "\n",
        "  def deposit(self,amount):\n",
        "    self.inital_balance += amount\n",
        "    print(\"Amount Deposited Succesfully\")\n",
        "    print(f\"New Balance: {self.inital_balance}$\")\n",
        "\n",
        "  def withdrawl (self,amount):\n",
        "    if amount < self.inital_balance:\n",
        "      self.inital_balance -= amount\n",
        "      print(\"Amount Withdrawn Succesfully\")\n",
        "      print(f\"New Balance: {self.inital_balance}$\")\n",
        "    else:\n",
        "      print(\"insufficent balance! withdrawl failed. \")\n",
        "\n",
        "  def balance_check (self):\n",
        "    print(f\"Current Balance: {self.inital_balance}$\")\n",
        "\n",
        "\n",
        "  def get_accounts():\n",
        "    print(f\"Total Number for Accounts in {BankAccount.total_accounts}\")\n",
        "\n",
        "acc1 = BankAccount(\"Ali\",100)\n",
        "acc2 = BankAccount(\"Ali1\",200)\n",
        "acc3 = BankAccount(\"Ali2\",300)\n",
        "acc4 = BankAccount(\"Ali3\",400)\n",
        "BankAccount.get_accounts()"
      ],
      "metadata": {
        "colab": {
          "base_uri": "https://localhost:8080/"
        },
        "id": "9mykHl6vmiIz",
        "outputId": "2b355d4f-7e2c-4903-fb20-1c15e8aaa5ea"
      },
      "execution_count": null,
      "outputs": [
        {
          "output_type": "stream",
          "name": "stdout",
          "text": [
            "Thanks Ali, your account has been created with a balance of 100$ only. \n",
            "Thanks Ali1, your account has been created with a balance of 200$ only. \n",
            "Thanks Ali2, your account has been created with a balance of 300$ only. \n",
            "Thanks Ali3, your account has been created with a balance of 400$ only. \n",
            "Total Number for Accounts in 4\n"
          ]
        }
      ]
    },
    {
      "cell_type": "markdown",
      "source": [
        "103. Human-Readable Account Display\n",
        "Implement a method such that printing a BankAccount object gives a human-readable description like “Account holder: Alice, Balance: $2000” instead of a generic object reference. Also implement another method so the developer sees a more precise representation like “BankAccount('Alice', 2000)” for debugging.\n",
        "\n",
        "    Key Concepts: Magic (dunder) methods __str__ and __repr__, string formatting, readability vs reproducibility."
      ],
      "metadata": {
        "id": "FnpkoXbFmiZj"
      }
    },
    {
      "cell_type": "code",
      "source": [
        "class BankAccount:\n",
        "\n",
        "  total_accounts = 0\n",
        "\n",
        "  def __init__(self,account_holder_name,inital_balance):\n",
        "    self.account_holder_name = account_holder_name\n",
        "    self.inital_balance = inital_balance\n",
        "    print(f\"Thanks {account_holder_name}, your account has been created with a balance of {inital_balance}$ only. \")\n",
        "    BankAccount.total_accounts += 1\n",
        "\n",
        "  def deposit(self,amount):\n",
        "    self.inital_balance += amount\n",
        "    print(\"Amount Deposited Succesfully\")\n",
        "    print(f\"New Balance: {self.inital_balance}$\")\n",
        "\n",
        "  def withdrawl (self,amount):\n",
        "    if amount < self.inital_balance:\n",
        "      self.inital_balance -= amount\n",
        "      print(\"Amount Withdrawn Succesfully\")\n",
        "      print(f\"New Balance: {self.inital_balance}$\")\n",
        "    else:\n",
        "      print(\"insufficent balance! withdrawl failed. \")\n",
        "\n",
        "  def balance_check (self):\n",
        "    print(f\"Current Balance: {self.inital_balance}$\")\n",
        "\n",
        "  def __str__(self):\n",
        "    return(f\"Account holder: {self.account_holder_name}, Balance: ${self.inital_balance}\")\n",
        "\n",
        "  def __repr__(self):\n",
        "    return(f\"BankAccount('{self.account_holder_name}',{self.inital_balance})\")\n",
        "\n",
        "  @classmethod\n",
        "  def get_accounts(cls):\n",
        "    print(f\"Total Number for Accounts in {cls.total_accounts}\")\n",
        "\n",
        "acc1 = BankAccount(\"Alice\",2000)\n",
        "print(str(acc1))\n",
        "print(repr(acc1))"
      ],
      "metadata": {
        "colab": {
          "base_uri": "https://localhost:8080/"
        },
        "id": "bmhd7oTomiqe",
        "outputId": "38ee2257-2650-4bd8-874a-26387228fbdd"
      },
      "execution_count": null,
      "outputs": [
        {
          "output_type": "stream",
          "name": "stdout",
          "text": [
            "Thanks Alice, your account has been created with a balance of 2000$ only. \n",
            "Account holder: Alice, Balance: $2000\n",
            "BankAccount('Alice',2000)\n"
          ]
        }
      ]
    },
    {
      "cell_type": "markdown",
      "source": [
        "104. Combine Accounts with Operator Overloading\n",
        "Make it so that adding two BankAccount instances with the + operator results in a new value representing their combined balances. For example, acc1 + acc2 should return the total balance of both accounts. You can later expand it to return a new BankAccount object as the sum.\n",
        "\n",
        "    Key Concepts: __add__, operator overloading, intuitive interfaces."
      ],
      "metadata": {
        "id": "VrR-Ccr2mi2b"
      }
    },
    {
      "cell_type": "code",
      "source": [
        "class BankAccount:\n",
        "\n",
        "  total_accounts = 0\n",
        "\n",
        "  def __init__(self,account_holder_name,inital_balance):\n",
        "    self.account_holder_name = account_holder_name\n",
        "    self.inital_balance = inital_balance\n",
        "    print(f\"Thanks {account_holder_name}, your account has been created with a balance of {inital_balance}$ only. \")\n",
        "    BankAccount.total_accounts += 1\n",
        "\n",
        "  def deposit(self,amount):\n",
        "    self.inital_balance += amount\n",
        "    print(\"Amount Deposited Succesfully\")\n",
        "    print(f\"New Balance: {self.inital_balance}$\")\n",
        "\n",
        "  def withdrawl (self,amount):\n",
        "    if amount < self.inital_balance:\n",
        "      self.inital_balance -= amount\n",
        "      print(f\"{amount} Withdrawn Succesfully\")\n",
        "      print(f\"New Balance: {self.inital_balance}$\")\n",
        "    else:\n",
        "      print(\"insufficent balance! withdrawl failed.\")\n",
        "\n",
        "  def balance_check (self):\n",
        "    print(f\"Current Balance: {self.inital_balance}$\")\n",
        "\n",
        "  def __str__(self):\n",
        "    return(f\"Account holder: {self.account_holder_name}, Balance: ${self.inital_balance}\")\n",
        "\n",
        "  def __repr__(self):\n",
        "    return(f\"BankAccount('{self.account_holder_name}',{self.inital_balance})\")\n",
        "\n",
        "  def __add__(self,other):\n",
        "    # return(self.inital_balance + other.inital_balance)\n",
        "    name = self.account_holder_name + '_joined_' + other.account_holder_name\n",
        "    balance = self.inital_balance + other.inital_balance\n",
        "    return(self.__class__(name,balance))\n",
        "\n",
        "  @classmethod\n",
        "  def get_accounts(cls):\n",
        "    print(f\"Total Number for Accounts in {cls.total_accounts}\")\n",
        "\n",
        "\n",
        "acc1 = BankAccount(\"Alice\",2000)\n",
        "acc2 = BankAccount(\"Ali\",2000)\n",
        "# print(acc1+acc2) prints 4000\n",
        "\n",
        "#update\n",
        "acc3 = acc1 + acc2\n",
        "print(acc3)\n",
        "\n"
      ],
      "metadata": {
        "colab": {
          "base_uri": "https://localhost:8080/"
        },
        "id": "d5OG1u2hmjHy",
        "outputId": "e4dceab4-7f5e-4167-ca78-9eb7a23dbb02"
      },
      "execution_count": null,
      "outputs": [
        {
          "output_type": "stream",
          "name": "stdout",
          "text": [
            "Thanks Alice, your account has been created with a balance of 2000$ only. \n",
            "Thanks Ali, your account has been created with a balance of 2000$ only. \n",
            "Thanks Alice_joined_Ali, your account has been created with a balance of 4000$ only. \n",
            "Account holder: Alice_joined_Ali, Balance: $4000\n"
          ]
        }
      ]
    },
    {
      "cell_type": "markdown",
      "source": [
        "105.  Inheritance: SavingsAccount\n",
        "Create a subclass SavingsAccount that inherits from BankAccount. Add a new attribute like interest_rate. Ensure you properly use super() in the constructor to initialize inherited attributes. Add a method to calculate interest after a period, e.g., calculate_interest(years).\n",
        "\n",
        "    Key Concepts: Inheritance, constructor chaining using super(), extending functionality."
      ],
      "metadata": {
        "id": "Z4YNMbuymjTs"
      }
    },
    {
      "cell_type": "code",
      "source": [
        "class SavingsAccount (BankAccount):\n",
        "\n",
        "  def __init__(self,account_holder_name,inital_balance,interest_rate):\n",
        "    super().__init__(account_holder_name,inital_balance)\n",
        "    self.interest_rate = interest_rate\n",
        "\n",
        "  def calculate_interest(self, years):\n",
        "    return self.inital_balance * years * self.interest_rate\n",
        "\n",
        "acc1 = SavingsAccount(\"Alice\",2000,0.33)\n",
        "print(acc1.calculate_interest(6),\"$ in total interest\")"
      ],
      "metadata": {
        "id": "7KXrvhUwmjjX",
        "colab": {
          "base_uri": "https://localhost:8080/"
        },
        "outputId": "21f7b477-fbd9-4c29-8780-2989c34a2e97"
      },
      "execution_count": null,
      "outputs": [
        {
          "output_type": "stream",
          "name": "stdout",
          "text": [
            "Thanks Alice, your account has been created with a balance of 2000$ only. \n",
            "3960.0 $ in total interest\n"
          ]
        }
      ]
    },
    {
      "cell_type": "markdown",
      "source": [
        "106. Override Withdraw with Custom Rules\n",
        "In SavingsAccount, override the withdraw() method such that if a user tries to withdraw more than a certain threshold (say, 80% of balance), a penalty is applied or the transaction is denied. This will show how you can change base class behavior in a subclass.\n",
        "\n",
        "    Key Concepts: Method overriding, polymorphism, control flow in class methods."
      ],
      "metadata": {
        "id": "tMmWJhSomjxr"
      }
    },
    {
      "cell_type": "code",
      "source": [
        "class SavingsAccount (BankAccount):\n",
        "\n",
        "  def __init__(self,account_holder_name,inital_balance,interest_rate):\n",
        "    super().__init__(account_holder_name,inital_balance)\n",
        "    self.interest_rate = interest_rate\n",
        "\n",
        "  def calculate_interest(self, years):\n",
        "    return self.inital_balance * years * self.interest_rate\n",
        "\n",
        "  def withdrawl(self, amount):\n",
        "    if amount > 0.8 * self.inital_balance:\n",
        "      penalty = 0.1 * self.inital_balance\n",
        "      self.inital_balance -= penalty   # penalty\n",
        "      super().withdrawl(amount)\n",
        "      print(f\"An Amount of {penalty}$ has been deducted\")\n",
        "    elif amount > self.inital_balance:\n",
        "      print(\"Insufficent Balance! Withdrawl failed\")\n",
        "    else:\n",
        "      super().withdrawl(amount)\n",
        "\n",
        "acc1 = SavingsAccount(\"Alice1\",200,0.33)\n",
        "acc2 = SavingsAccount(\"Alice2\",2000,0.33)\n",
        "acc3 = SavingsAccount(\"Alice3\",20000,0.33)\n",
        "print()\n",
        "acc1.withdrawl(101)\n",
        "print()\n",
        "acc2.withdrawl(1700)\n",
        "print()\n",
        "acc3.withdrawl(5000)\n"
      ],
      "metadata": {
        "id": "RTBX9A8JmkDU",
        "colab": {
          "base_uri": "https://localhost:8080/"
        },
        "outputId": "414d0eca-4fe0-43a7-e4dc-c1ba5a41a340"
      },
      "execution_count": null,
      "outputs": [
        {
          "output_type": "stream",
          "name": "stdout",
          "text": [
            "Thanks Alice1, your account has been created with a balance of 200$ only. \n",
            "Thanks Alice2, your account has been created with a balance of 2000$ only. \n",
            "Thanks Alice3, your account has been created with a balance of 20000$ only. \n",
            "\n",
            "101 Withdrawn Succesfully\n",
            "New Balance: 99$\n",
            "\n",
            "\n",
            "1700 Withdrawn Succesfully\n",
            "New Balance: 100.0$\n",
            "\n",
            "An Amount of 200.0$ has been deducted\n",
            "\n",
            "5000 Withdrawn Succesfully\n",
            "New Balance: 15000$\n",
            "\n"
          ]
        }
      ]
    },
    {
      "cell_type": "markdown",
      "source": [
        "107. Validate Account Numbers with Static Method\n",
        "Add a method that checks whether a provided bank account number is valid. For example, an account number must be exactly 10 digits. Since this check doesn’t depend on any instance or class state, define this using the @staticmethod decorator. Call it from outside the class without creating an object.\n",
        "\n",
        "    Key Concepts: Static methods, utility functions, input validation, decorators."
      ],
      "metadata": {
        "id": "Apv3g2Q9mkTL"
      }
    },
    {
      "cell_type": "code",
      "source": [
        "class SavingsAccount (BankAccount):\n",
        "\n",
        "  def __init__(self,account_holder_name,inital_balance,interest_rate):\n",
        "    super().__init__(account_holder_name,inital_balance)\n",
        "    self.interest_rate = interest_rate\n",
        "\n",
        "  def calculate_interest(self, years):\n",
        "    return self.inital_balance * years * self.interest_rate\n",
        "\n",
        "  def withdrawl(self, amount):\n",
        "    if amount > 0.8 * self.inital_balance:\n",
        "      penalty = 0.1 * self.inital_balance\n",
        "      self.inital_balance -= penalty   # penalty\n",
        "      super().withdrawl(amount)\n",
        "      print(f\"An Amount of {penalty}$ has been deducted\")\n",
        "    elif amount > self.inital_balance:\n",
        "      print(\"Insufficent Balance! Withdrawl failed\")\n",
        "    else:\n",
        "      super().withdrawl(amount)\n",
        "\n",
        "  @staticmethod\n",
        "  def account_num_validation(num):\n",
        "    str_num = str(num)\n",
        "    if len(str_num) == 10:\n",
        "      return f\"{num} is valid account number\"\n",
        "    else:\n",
        "      return f\"{num} is not valid account number\"\n",
        "\n",
        "print(SavingsAccount.account_num_validation(123456789))\n",
        "print(SavingsAccount.account_num_validation(1234567890))"
      ],
      "metadata": {
        "id": "B47zXdkamklc",
        "colab": {
          "base_uri": "https://localhost:8080/"
        },
        "outputId": "7c31c72a-7748-43ea-d5c3-465dbd0dbbd1"
      },
      "execution_count": null,
      "outputs": [
        {
          "output_type": "stream",
          "name": "stdout",
          "text": [
            "123456789 is not valid account number\n",
            "1234567890 is valid account number\n"
          ]
        }
      ]
    },
    {
      "cell_type": "markdown",
      "source": [
        "108.  Use Class Method to Access Class Variables\n",
        "Now use a class method (marked with @classmethod) that returns the current total number of accounts (as added in Question 2). It should accept cls instead of self and interact with class-level data only.\n",
        "\n",
        "    Key Concepts: @classmethod, cls, alternative constructors (bonus concept)."
      ],
      "metadata": {
        "id": "v7M1_88umtCT"
      }
    },
    {
      "cell_type": "code",
      "source": [
        "class BankAccount:\n",
        "\n",
        "  total_accounts = 0\n",
        "\n",
        "  def __init__(self,account_holder_name,inital_balance):\n",
        "    self.account_holder_name = account_holder_name\n",
        "    self.inital_balance = inital_balance\n",
        "    print(f\"Thanks {account_holder_name}, your account has been created with a balance of {inital_balance}$ only. \")\n",
        "    BankAccount.total_accounts += 1\n",
        "\n",
        "  def deposit(self,amount):\n",
        "    self.inital_balance += amount\n",
        "    print(\"Amount Deposited Succesfully\")\n",
        "    print(f\"New Balance: {self.inital_balance}$\")\n",
        "\n",
        "  def withdrawl (self,amount):\n",
        "    if amount < self.inital_balance:\n",
        "      self.inital_balance -= amount\n",
        "      print(f\"{amount} Withdrawn Succesfully\")\n",
        "      print(f\"New Balance: {self.inital_balance}$\")\n",
        "    else:\n",
        "      print(\"insufficent balance! withdrawl failed.\")\n",
        "\n",
        "  def balance_check (self):\n",
        "    print(f\"Current Balance: {self.inital_balance}$\")\n",
        "\n",
        "  def __str__(self):\n",
        "    return(f\"Account holder: {self.account_holder_name}, Balance: ${self.inital_balance}\")\n",
        "\n",
        "  def __repr__(self):\n",
        "    return(f\"BankAccount('{self.account_holder_name}',{self.inital_balance})\")\n",
        "\n",
        "  def __add__(self,other):\n",
        "    # return(self.inital_balance + other.inital_balance)\n",
        "    name = self.account_holder_name + '_joined_' + other.account_holder_name\n",
        "    balance = self.inital_balance + other.inital_balance\n",
        "    return(self.__class__(name,balance))\n",
        "\n",
        "  @classmethod\n",
        "  def get_accounts(cls):\n",
        "    print(f\"Total Number for Accounts in {cls.total_accounts} \") # {cls.balance_check()} would raise an error\n",
        "\n",
        "acc1 = BankAccount(\"Alice\",2000)\n",
        "acc2 = BankAccount(\"Ali\",2000)\n",
        "ac1 =BankAccount(\"Alice\",2000)\n",
        "ac2 = BankAccount(\"Ali\",2000)\n",
        "BankAccount.get_accounts()"
      ],
      "metadata": {
        "id": "fpbI2xtrmvZL",
        "colab": {
          "base_uri": "https://localhost:8080/"
        },
        "outputId": "37bb683f-f9a6-4389-da82-af223ec3791d"
      },
      "execution_count": null,
      "outputs": [
        {
          "output_type": "stream",
          "name": "stdout",
          "text": [
            "Thanks Alice, your account has been created with a balance of 2000$ only. \n",
            "Thanks Ali, your account has been created with a balance of 2000$ only. \n",
            "Thanks Alice, your account has been created with a balance of 2000$ only. \n",
            "Thanks Ali, your account has been created with a balance of 2000$ only. \n",
            "Total Number for Accounts in 4 \n"
          ]
        }
      ]
    },
    {
      "cell_type": "markdown",
      "source": [
        "109. Abstraction with Abstract Base Class\n",
        "Create an abstract class Vehicle using Python's abc module. This base class should declare two abstract methods: start() and stop(). Then create subclasses Car and Bike, each implementing those methods in their own way. Attempting to instantiate Vehicle directly should raise an error.\n",
        "\n",
        "    Key Concepts: Abstract classes, ABC, @abstractmethod, forcing subclasses to implement methods."
      ],
      "metadata": {
        "id": "h-cN5l91mvvz"
      }
    },
    {
      "cell_type": "code",
      "source": [
        "# havent done this yet, and since it is not a core concept and is done via a module, im not doing ity yet."
      ],
      "metadata": {
        "id": "uun0mihjmwra"
      },
      "execution_count": null,
      "outputs": []
    },
    {
      "cell_type": "markdown",
      "source": [
        "110. Multiple Inheritance and Method Resolution\n",
        "Design two independent classes: GPS with methods like navigate(), and MusicSystem with methods like play_music(). Then create a SmartCar class that inherits from both. Call both methods from the SmartCar instance. Also, use super() in all constructors and observe Python's method resolution order (MRO) to understand how it handles such hierarchies.\n",
        "\n",
        "    Key Concepts: Multiple inheritance, MRO, super(), diamond problem (brief intro)"
      ],
      "metadata": {
        "id": "Qeoy64Qamw78"
      }
    },
    {
      "cell_type": "code",
      "source": [
        "class GPS:\n",
        "\n",
        "  def __init__(self):\n",
        "    print(\"GPS intialized\")\n",
        "    super().__init__()\n",
        "\n",
        "  def navigate(self):\n",
        "    print(\"Navigation Started\")\n",
        "\n",
        "class MusicSystem:\n",
        "\n",
        "  def __init__(self):\n",
        "    print(\"Music intialized\")\n",
        "    super().__init__()\n",
        "\n",
        "  def play_music(self):\n",
        "    print(\"Music Started\")\n",
        "\n",
        "class SmartCar(GPS,MusicSystem):\n",
        "\n",
        "  def __init__(self):\n",
        "    print(\"Car Ready\")\n",
        "    super().__init__()\n",
        "\n",
        "yesla = SmartCar()\n",
        "print(SmartCar.mro())"
      ],
      "metadata": {
        "colab": {
          "base_uri": "https://localhost:8080/"
        },
        "id": "uCRI2TfD8UaZ",
        "outputId": "064e326b-573f-4599-a761-b6643d7bc5b2"
      },
      "execution_count": null,
      "outputs": [
        {
          "output_type": "stream",
          "name": "stdout",
          "text": [
            "Car Ready\n",
            "GPS intialized\n",
            "Music intialized\n",
            "[<class '__main__.SmartCar'>, <class '__main__.GPS'>, <class '__main__.MusicSystem'>, <class 'object'>]\n"
          ]
        }
      ]
    },
    {
      "cell_type": "markdown",
      "source": [
        "## File Handling\n",
        "\n",
        "File Handling Questions (111–115)\n",
        "\n",
        "\n",
        "\n"
      ],
      "metadata": {
        "id": "sZyVRBO7_FvC"
      }
    },
    {
      "cell_type": "markdown",
      "source": [
        "111. Write and Read File (Warm-Up)\n",
        "\n",
        "\n",
        "\n",
        "          Objective: Practice open(), file modes 'w' and 'r', write(), read(), and close().\n",
        "          Task:\n",
        "          Open greetings.txt in write mode.\n",
        "          Write the string \"Hello, Shah G!\".\n",
        "          Close the file.\n",
        "          Re-open in read mode and print its contents.\n",
        "          \n",
        "          Goal: Understand the full flow of writing → closing → reading."
      ],
      "metadata": {
        "id": "WGWG-b3T_gCw"
      }
    },
    {
      "cell_type": "code",
      "source": [
        "from os import close\n",
        "f = open(\"source.txt\" , 'w')\n",
        "f.write(\"Hello. Shah G!\")\n",
        "f.close()\n",
        "\n",
        "f = open(\"source.txt\" , 'r')\n",
        "print(f.read())\n",
        "f.close()\n",
        "f.closed\n",
        "\n",
        "# for next task\n",
        "f = open(\"source.txt\", 'w')\n",
        "for i in range(10):\n",
        "  f.write(\"\\nHello. Shah G!\")\n",
        "f.close()\n",
        "f.closed\n"
      ],
      "metadata": {
        "colab": {
          "base_uri": "https://localhost:8080/"
        },
        "id": "GMzGvbjs_IzA",
        "outputId": "c7e87911-70c8-48d6-9907-495cd1932726"
      },
      "execution_count": 21,
      "outputs": [
        {
          "output_type": "stream",
          "name": "stdout",
          "text": [
            "Hello. Shah G!\n"
          ]
        },
        {
          "output_type": "execute_result",
          "data": {
            "text/plain": [
              "True"
            ]
          },
          "metadata": {},
          "execution_count": 21
        }
      ]
    },
    {
      "cell_type": "markdown",
      "source": [
        " 112. Copy File Content Line by Line\n",
        "          Objective: Practice readline() or readlines() and writing to another file using 'wt'.\n",
        "          Task:\n",
        "          Read from a file named source.txt line by line.\n",
        "          Write each line into backup.txt.\n",
        "          \n",
        "          Goal: Simulate file backup by line, and strengthen looping through files."
      ],
      "metadata": {
        "id": "XEBzcAOp_ofZ"
      }
    },
    {
      "cell_type": "code",
      "source": [
        "data = []\n",
        "with open(\"source.txt\", 'r') as f:\n",
        "  data = f.readlines()\n",
        "\n",
        "with open(\"backup.txt\", 'wt') as f:\n",
        "  for i in data:\n",
        "    f.write(f\"{i}\")\n",
        "\n",
        "with open(\"backup.txt\", 'r') as f:\n",
        "  print(f.read())"
      ],
      "metadata": {
        "colab": {
          "base_uri": "https://localhost:8080/"
        },
        "id": "DzRT_dHe_o6Q",
        "outputId": "5909d727-8949-4742-b776-29023c12fd23"
      },
      "execution_count": 22,
      "outputs": [
        {
          "output_type": "stream",
          "name": "stdout",
          "text": [
            "\n",
            "Hello. Shah G!\n",
            "Hello. Shah G!\n",
            "Hello. Shah G!\n",
            "Hello. Shah G!\n",
            "Hello. Shah G!\n",
            "Hello. Shah G!\n",
            "Hello. Shah G!\n",
            "Hello. Shah G!\n",
            "Hello. Shah G!\n",
            "Hello. Shah G!\n"
          ]
        }
      ]
    },
    {
      "cell_type": "markdown",
      "source": [
        "113. Count Words in a File\n",
        "          Objective: Practice reading data and using split() and loops.\n",
        "         \n",
        "          Task:\n",
        "          Open any .txt file.\n",
        "          Count total words using len(f.read().split()).\n",
        "          \n",
        "          Goal: Combine file I/O with string methods and processing."
      ],
      "metadata": {
        "id": "W7X-cn_G_pYC"
      }
    },
    {
      "cell_type": "code",
      "source": [
        "with open(\"backup.txt\", 'r') as f:\n",
        "  print(len(f.read().split()))"
      ],
      "metadata": {
        "colab": {
          "base_uri": "https://localhost:8080/"
        },
        "id": "jGI9si5z_p0a",
        "outputId": "4909c200-36c8-46af-e7c8-144dfee4e645"
      },
      "execution_count": 24,
      "outputs": [
        {
          "output_type": "stream",
          "name": "stdout",
          "text": [
            "30\n"
          ]
        }
      ]
    },
    {
      "cell_type": "markdown",
      "source": [
        "114. Append User Input to Log File\n",
        "          Objective: Practice file mode 'a', taking user input, and writing\n",
        "          with newline characters.\n",
        "          Task:\n",
        "          Ask user to enter a message.\n",
        "          Append it to log.txt.\n",
        "          Rerun the program to test whether new lines get added without erasing\n",
        "          previous ones.\n",
        "         \n",
        "          Goal: Understand file persistence and appending patterns."
      ],
      "metadata": {
        "id": "0ZVux-cB_qOI"
      }
    },
    {
      "cell_type": "code",
      "source": [
        "input_1 =  input(\"enter data for log.txt: \")\n",
        "\n",
        "with open(\"log.txt\", 'a') as f:\n",
        "  f.write(f\"{input_1}\\n\")\n",
        "\n",
        "input_1 =  input(\"enter data for log.txt again: \")\n",
        "\n",
        "with open(\"log.txt\", 'a') as f:\n",
        "  f.write(f\"{input_1}\\n\")\n",
        "\n",
        "with open(\"log.txt\" , 'r') as f:\n",
        "  print(f.read())\n",
        "\n"
      ],
      "metadata": {
        "colab": {
          "base_uri": "https://localhost:8080/"
        },
        "id": "EiE830b0_qhg",
        "outputId": "40851c46-2ed7-4f52-fdcb-6194387c6aad"
      },
      "execution_count": 26,
      "outputs": [
        {
          "output_type": "stream",
          "name": "stdout",
          "text": [
            "enter data for log.txt: this is 1st line\n",
            "enter data for log.txt again: this is 2nd line\n",
            "this is first input\n",
            "this is second input\n",
            "this is 1st line\n",
            "this is 2nd line\n",
            "\n"
          ]
        }
      ]
    },
    {
      "cell_type": "markdown",
      "source": [
        " 115. File Pointer Positioning with tell() and seek()\n",
        "          Objective: Deep dive into file cursor control.\n",
        "         \n",
        "          Task:\n",
        "          Open a file for reading.\n",
        "          Use .tell() to see pointer position.\n",
        "          Read 5 chars.\n",
        "          Use .tell() again.\n",
        "          Use .seek(0) and read entire file again.\n",
        "         \n",
        "          Goal: See how file pointer shifts and how to reset it."
      ],
      "metadata": {
        "id": "i-CkYgbL_q4g"
      }
    },
    {
      "cell_type": "code",
      "source": [
        "with open(\"log.txt\", 'r') as f:\n",
        "  print(f.tell())\n",
        "  print(f.read(5))\n",
        "  print(f.tell())\n",
        "  print(f.seek(0))\n",
        "  print(f.read())"
      ],
      "metadata": {
        "colab": {
          "base_uri": "https://localhost:8080/"
        },
        "id": "p1qd83Ca_rPR",
        "outputId": "d5b4f9bc-452b-42d6-ce97-9d06fbdc9d4e"
      },
      "execution_count": 27,
      "outputs": [
        {
          "output_type": "stream",
          "name": "stdout",
          "text": [
            "0\n",
            "this \n",
            "5\n",
            "0\n",
            "this is first input\n",
            "this is second input\n",
            "this is 1st line\n",
            "this is 2nd line\n",
            "\n"
          ]
        }
      ]
    },
    {
      "cell_type": "markdown",
      "source": [
        "## Exception Handling Questions (116–120)\n",
        "\n",
        "File Handling Questions (116–120)\n",
        "\n"
      ],
      "metadata": {
        "id": "ZpgFzEGi_VsZ"
      }
    },
    {
      "cell_type": "markdown",
      "source": [
        "116. Catch Division by Zero Error\n",
        "          Objective: Understand try-except with a specific error class (ZeroDivisionError).\n",
        "          Task:\n",
        "\n",
        "          Write a function that divides two numbers.\n",
        "\n",
        "          Wrap the division in a try block.\n",
        "\n",
        "          Catch zero division and print \"Cannot divide by zero\" if error occurs.\n",
        "          Goal: Prevent program crash and control error output.\n"
      ],
      "metadata": {
        "id": "_UnPQ4jjGE6E"
      }
    },
    {
      "cell_type": "code",
      "source": [
        "def div(a,b):\n",
        "  try:\n",
        "    return a/b\n",
        "  except Exception as e:\n",
        "    return f\"Result for {b}/{a} :{b/a} ----> {a}/{b} caused an error ---> {e}\"\n",
        "\n",
        "print(div(9,0))\n",
        "print(div(9,3))\n",
        "\n"
      ],
      "metadata": {
        "colab": {
          "base_uri": "https://localhost:8080/"
        },
        "id": "SdTQYSA7GHfk",
        "outputId": "33682c27-d846-495d-de9d-7685f58d1f16"
      },
      "execution_count": 30,
      "outputs": [
        {
          "output_type": "stream",
          "name": "stdout",
          "text": [
            "Result for 0/9 :0.0 ----> 9/0 caused an error ---> division by zero\n",
            "3.0\n"
          ]
        }
      ]
    },
    {
      "cell_type": "markdown",
      "source": [
        " 117. Handle Multiple Exceptions (Input Errors)\n",
        "          Objective: Handle user input-related exceptions cleanly.\n",
        "          Task:\n",
        "\n",
        "          Ask user to input a number.\n",
        "\n",
        "          Use int(input(...)).\n",
        "\n",
        "          Catch ValueError (if input is not a number).\n",
        "\n",
        "          Catch KeyboardInterrupt (if user hits Ctrl+C).\n",
        "          Goal: Show different messages for different error types. Real-world input validation.\n"
      ],
      "metadata": {
        "id": "WE_cZbWpGFVW"
      }
    },
    {
      "cell_type": "code",
      "source": [
        "import sys\n",
        "try:\n",
        "  check = int(input(\"Enter a number: \"))\n",
        "except ValueError as e:\n",
        "  print(\"Error, you didnt enter a number: \" , e)\n",
        "except KeyboardInterrupt as e:\n",
        "  print(\"Error you stopped the program form executing \" , e)"
      ],
      "metadata": {
        "colab": {
          "base_uri": "https://localhost:8080/"
        },
        "id": "zmzi-lRDGGCr",
        "outputId": "895f064f-30a1-4e27-812d-d08b0fa153a1"
      },
      "execution_count": 37,
      "outputs": [
        {
          "name": "stdout",
          "output_type": "stream",
          "text": [
            "Error you stopped the program form executing  Interrupted by user\n",
            "Enter a number: fuck\n"
          ]
        }
      ]
    },
    {
      "cell_type": "markdown",
      "source": [
        "118. File Not Found Exception\n",
        "          Objective: Handle file-related errors (FileNotFoundError).\n",
        "          Task:\n",
        "\n",
        "          Try opening data.txt in read mode.\n",
        "\n",
        "          If not found, catch the exception and print a user-friendly message.\n",
        "          Bonus: Ask user to retry entering filename.\n",
        "          Goal: Gracefully handle missing resources.\n",
        "\n"
      ],
      "metadata": {
        "id": "4FF03zCLGGRM"
      }
    },
    {
      "cell_type": "code",
      "source": [
        "try:\n",
        "  with open(\"data.txt\" ,'r') as f:\n",
        "    f.read()\n",
        "except FileNotFoundError as e:\n",
        "  print(f\"File doesnt exist --- > {e}\")\n"
      ],
      "metadata": {
        "colab": {
          "base_uri": "https://localhost:8080/"
        },
        "id": "A5LKFqnBGGoD",
        "outputId": "c6be0147-29a5-4d3d-8896-662205478298"
      },
      "execution_count": 38,
      "outputs": [
        {
          "output_type": "stream",
          "name": "stdout",
          "text": [
            "File doesnt exist --- > [Errno 2] No such file or directory: 'data.txt'\n"
          ]
        }
      ]
    },
    {
      "cell_type": "markdown",
      "source": [
        " 119. Demonstrate Finally Block\n",
        "            Objective: Understand the unconditional execution of finally for cleanups.\n",
        "            Task:\n",
        "\n",
        "            Open a file (even a non-existent one).\n",
        "\n",
        "            Catch any error.\n",
        "\n",
        "            In the finally block, print \"Operation Finished\" or close file if it was opened.\n",
        "            Goal: Practice cleanup logic — common in file/database tasks."
      ],
      "metadata": {
        "id": "pPxGk-SsGG4D"
      }
    },
    {
      "cell_type": "code",
      "source": [
        "try:\n",
        "  f = open(\"data.txt\" , 'w')\n",
        "  print(f.read())\n",
        "except Exception as e:\n",
        "  print(\"Error Ocurred\" , e)\n",
        "finally:\n",
        "  print(\"Opeartion completed!\")\n",
        "  f.close()"
      ],
      "metadata": {
        "colab": {
          "base_uri": "https://localhost:8080/"
        },
        "id": "maHr-utV_X8I",
        "outputId": "deeeff5f-a59f-4b9d-b5c0-a9f2f3316048"
      },
      "execution_count": 39,
      "outputs": [
        {
          "output_type": "stream",
          "name": "stdout",
          "text": [
            "Error Ocurred not readable\n",
            "Opeartion completed!\n"
          ]
        }
      ]
    },
    {
      "cell_type": "markdown",
      "source": [
        "120. Print Custom Exception Message\n",
        "          Objective: Practice Exception as e pattern for debugging.\n",
        "          Task:\n",
        "\n",
        "          Cause a TypeError by adding an integer to a string.\n",
        "\n",
        "          Use try-except to catch it.\n",
        "\n",
        "          Print: \"The error occurred is: <error>\"\n",
        "          Goal: Learn how to fetch error messages dynamically and display them."
      ],
      "metadata": {
        "id": "XvzhS6K-GcRF"
      }
    },
    {
      "cell_type": "code",
      "source": [
        "try:\n",
        "  20 + \"20\"\n",
        "except Exception as e:\n",
        "  print(f\"The error occurred is: {e}\")"
      ],
      "metadata": {
        "colab": {
          "base_uri": "https://localhost:8080/"
        },
        "id": "u-92Bpr3Gcir",
        "outputId": "5878c960-3ce0-4f30-b01d-2d036523159e"
      },
      "execution_count": 40,
      "outputs": [
        {
          "output_type": "stream",
          "name": "stdout",
          "text": [
            "The error occurred is: unsupported operand type(s) for +: 'int' and 'str'\n"
          ]
        }
      ]
    }
  ],
  "metadata": {
    "colab": {
      "provenance": [],
      "collapsed_sections": [
        "lKezrxkuo5k8",
        "xlzU8vMYwfcO",
        "zjyGtNtQUNeA"
      ]
    },
    "kernelspec": {
      "display_name": "Python 3",
      "name": "python3"
    },
    "language_info": {
      "name": "python"
    }
  },
  "nbformat": 4,
  "nbformat_minor": 0
}