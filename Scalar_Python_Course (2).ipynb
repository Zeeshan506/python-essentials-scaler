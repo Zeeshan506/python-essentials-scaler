{
  "cells": [
    {
      "cell_type": "markdown",
      "metadata": {
        "id": "KQaoPd1eQIOS"
      },
      "source": [
        "# ***Scalar Python Course***\n",
        "Welcome to my notes.\n",
        "\n",
        "This Notebook contains all my notes which i took while completing a certififcation at [Scalar](https://www.scaler.com/topics/course/python-for-beginners).\n",
        "\n",
        "I have posted about my Experience with the course and how it could be made better at [LinkedIn](https://), Make Sure To Check it Out"
      ]
    },
    {
      "cell_type": "markdown",
      "metadata": {
        "id": "JZ1QnnBXWNbY"
      },
      "source": [
        "\n",
        "## Fundamentals"
      ]
    },
    {
      "cell_type": "code",
      "execution_count": null,
      "metadata": {
        "colab": {
          "base_uri": "https://localhost:8080/"
        },
        "id": "VnwjsAEZQP2J",
        "outputId": "527c3dbb-9431-41dc-e692-7355133d83d0"
      },
      "outputs": [
        {
          "output_type": "stream",
          "name": "stdout",
          "text": [
            "Hello World\n"
          ]
        }
      ],
      "source": [
        "print(\"Hello World\") #printing to console\n",
        "global_var = \"this is defined in the 1st cell of the notebook \" # avoid it its an example for later on."
      ]
    },
    {
      "cell_type": "code",
      "execution_count": null,
      "metadata": {
        "colab": {
          "base_uri": "https://localhost:8080/"
        },
        "id": "Kfad-rkPX-Ri",
        "outputId": "47994913-9e8d-4d79-8368-5c9731d6f8f2"
      },
      "outputs": [
        {
          "name": "stdout",
          "output_type": "stream",
          "text": [
            "x =  10 _x =  20\n"
          ]
        }
      ],
      "source": [
        "x = 10 # Variables (naming)\n",
        "_x = 20\n",
        "print(\"x = \", x, \"_x = \",_x)"
      ]
    },
    {
      "cell_type": "markdown",
      "metadata": {
        "id": "ieocKwTU3s9U"
      },
      "source": [
        "<p>Python follows a stack and heap memory model. where main memory has two further memories known as stack and heap memory. Stack contains the variable names and heap here is a huge data dump which has the value for the variables. stack and heap are linked via references (like pointer but not pointer).</p>\n",
        "<br><p>\n",
        "Id function returns the address of the data within the memory\n",
        "</p>"
      ]
    },
    {
      "cell_type": "code",
      "execution_count": null,
      "metadata": {
        "colab": {
          "base_uri": "https://localhost:8080/"
        },
        "id": "7vyrYR75YI3E",
        "outputId": "3098807e-f51e-4f2d-b4b6-6b52e5a6d78e"
      },
      "outputs": [
        {
          "name": "stdout",
          "output_type": "stream",
          "text": [
            "id x =  10758024 id x1 =  10758024\n"
          ]
        }
      ],
      "source": [
        "x = 10\n",
        "x1 = 10\n",
        "print(\"id x = \",id(x),\"id x1 = \",id(x1))\n"
      ]
    },
    {
      "cell_type": "markdown",
      "metadata": {
        "id": "-08QBU0l6fjq"
      },
      "source": [
        "<p>Python Comments</p>"
      ]
    },
    {
      "cell_type": "code",
      "execution_count": null,
      "metadata": {
        "id": "d6zxEbOOYSvX"
      },
      "outputs": [],
      "source": [
        "# <--- is used to enter a comment and will not be read as python code."
      ]
    },
    {
      "cell_type": "markdown",
      "metadata": {
        "id": "LU-uhHAmJ6iD"
      },
      "source": [
        "### Data Types in Python\n",
        "\n",
        "there are 5 datatypes in python\n",
        " <ul>\n",
        "<li>Integers</li>\n",
        "<li>Floats</li>\n",
        "<li>Strings</li>\n",
        "<li>Boleans</li>\n",
        "<li>None</li>\n",
        "</ul></p>"
      ]
    },
    {
      "cell_type": "code",
      "execution_count": null,
      "metadata": {
        "colab": {
          "base_uri": "https://localhost:8080/"
        },
        "id": "cKGMkcZZKLoh",
        "outputId": "fed4db36-c7a7-4990-a4d2-890b84053277"
      },
      "outputs": [
        {
          "name": "stdout",
          "output_type": "stream",
          "text": [
            "a <class 'int'> 5\n",
            "b <class 'bool'> False\n",
            "c <class 'float'> 5.8\n",
            "d <class 'str'> This is a String Variable\n",
            "e <class 'str'> This is a multiline String Variable\n",
            "f <class 'NoneType'> None\n",
            "f <class 'float'> 1.03\n",
            "f <class 'str'> str\n"
          ]
        }
      ],
      "source": [
        "#integer\n",
        "a = 5\n",
        "print (\"a\", type(a), a)\n",
        "#Boolean\n",
        "b = False\n",
        "print (\"b\", type(b), b)\n",
        "#Float\n",
        "c = 5.8\n",
        "print (\"c\", type(c), c)\n",
        "#String\n",
        "d = \"This is a String Variable\"\n",
        "print (\"d\", type(d), d)\n",
        "e = \"\"\"This is a multiline String Variable\"\"\"\n",
        "print (\"e\", type(e), e)\n",
        "#None\n",
        "f = None\n",
        "print (\"f\", type(f), f)\n",
        "f = 1.03\n",
        "print (\"f\", type(f), f)\n",
        "f = \"str\"\n",
        "print (\"f\", type(f), f)"
      ]
    },
    {
      "cell_type": "markdown",
      "metadata": {
        "id": "fsfWejgDNJWq"
      },
      "source": [
        "<p>Input Function<br>All inout is taken or stored as string.</p>\n"
      ]
    },
    {
      "cell_type": "code",
      "execution_count": null,
      "metadata": {
        "colab": {
          "base_uri": "https://localhost:8080/"
        },
        "id": "TqZRDhGgKY21",
        "outputId": "d7f40733-cbc8-402a-fd6e-0a35676de4de"
      },
      "outputs": [
        {
          "name": "stdout",
          "output_type": "stream",
          "text": [
            "Enter name: 0\n",
            "the input was:  0\n",
            "<class 'bool'> True\n"
          ]
        }
      ],
      "source": [
        "name = input(\"Enter name: \")\n",
        "print (\"the input was: \", name)\n",
        "name = bool(name)\n",
        "print(type(name), name)"
      ]
    },
    {
      "cell_type": "markdown",
      "metadata": {
        "id": "oonf2u-WtrLY"
      },
      "source": [
        "\n",
        "### Print Function"
      ]
    },
    {
      "cell_type": "code",
      "execution_count": null,
      "metadata": {
        "colab": {
          "base_uri": "https://localhost:8080/"
        },
        "id": "CYvXOFact1BG",
        "outputId": "1817aeb5-643f-497b-c7f7-e2028da99505"
      },
      "outputs": [
        {
          "name": "stdout",
          "output_type": "stream",
          "text": [
            "this is an example for a print function 1 2 3 4 True a variable\n",
            "\n",
            "this_is_an example_for_a_print_function_1_2_3_4_True_a variable this/is/an example/for/a/print/function/1/2/3/4/True/a variable\n",
            "Ali Wali\n",
            "yelo\n"
          ]
        }
      ],
      "source": [
        "var = \"a variable\"\n",
        "print (\"this\", \"is\", \"an example\", \"for\" ,\"a\", \"print\", \"function\", 1,2,3,4,True,var, end = \"\\n\\n\")\n",
        "# Seprator, By default is single space, can be changes\n",
        "print (\"this\", \"is\", \"an example\", \"for\" ,\"a\", \"print\", \"function\", 1,2,3,4,True,var, sep=\"_\", end = \" \")\n",
        "print (\"this\", \"is\", \"an example\", \"for\" ,\"a\", \"print\", \"function\", 1,2,3,4,True,var, sep=\"/\")\n",
        "#print (\"this\", \"is\", \"an example\", \"for\" ,\"a\", \"print\", \"function\", 1,2,3,4,True,var, sep=\"\\n\")\n",
        "print(\"Ali \"+\"Wali\" , \"yelo\", sep = \"\\n\")\n"
      ]
    },
    {
      "cell_type": "markdown",
      "metadata": {
        "id": "vYPq4pw5Kiwu"
      },
      "source": [
        "### Operators In Python\n",
        "<p>Combo of an opertor and operands in an expressions\n",
        "<br>\n",
        "for example A + B , where A and B are operands and + is an operator</p>\n",
        "<h3><strong>Arthematic Operators</strong></h3>"
      ]
    },
    {
      "cell_type": "code",
      "execution_count": null,
      "metadata": {
        "colab": {
          "base_uri": "https://localhost:8080/"
        },
        "id": "LANv5O-7KsIB",
        "outputId": "df2205a4-9acf-42ed-9001-f432711d79b1"
      },
      "outputs": [
        {
          "name": "stdout",
          "output_type": "stream",
          "text": [
            "a+b    19    \n",
            "a-b    1    \n",
            "a*b    90    \n",
            "a/b    1.1111111111111112    \n",
            "a//b    1    \n",
            "2**3    8    \n",
            "a%b    1\n"
          ]
        }
      ],
      "source": [
        "# Addition, Subtraction, Multiplication, Division, mod(%), Floor Division, To The Power\n",
        "a = 10\n",
        "b = 9\n",
        "\n",
        "print ( \"a+b\", a+b, \"\\na-b\", a-b,\"\\na*b\", a*b,\"\\na/b\", a/b, \"\\na//b\",a//b,\"\\n2**3\", 2**3, \"\\na%b\", a%b, sep = \"    \" )\n",
        "# % is modulus, gives remainder\n",
        "# // is floor division, the result is rounded to nearest smaller integer\n",
        "# ** is just to get an exponential answer, 2 rwith exponent 3 is 8\n"
      ]
    },
    {
      "cell_type": "markdown",
      "metadata": {
        "id": "ZlcRN5T1sDYN"
      },
      "source": [
        "<h3><strong>Comparison Operators</strong></h3>\n",
        "<p>their output is always a boolean, either true or false</p>"
      ]
    },
    {
      "cell_type": "code",
      "execution_count": null,
      "metadata": {
        "colab": {
          "base_uri": "https://localhost:8080/"
        },
        "id": "yGCoZmZtrwYw",
        "outputId": "8857dda0-f534-4512-d770-485625e5f828"
      },
      "outputs": [
        {
          "name": "stdout",
          "output_type": "stream",
          "text": [
            "a is equals to b: False\n",
            "a is not equals to b: True\n",
            "a is less then b: False\n",
            "a is greater then b: True\n",
            "a is less then or equals to b: False\n",
            "a is greater then or equals to b: True\n",
            "True\n",
            "False\n",
            "False\n"
          ]
        }
      ],
      "source": [
        "# == equals to, != not equal to, > greater then < less then, >= greater then equal too or <= less than equal to\n",
        "a = 9\n",
        "b = 8\n",
        "\n",
        "print (\"a is equals to b:\",a == b)\n",
        "print (\"a is not equals to b:\",a != b)\n",
        "print (\"a is less then b:\",a < b)\n",
        "print (\"a is greater then b:\",a > b)\n",
        "print (\"a is less then or equals to b:\",a <= b)\n",
        "print (\"a is greater then or equals to b:\",a >= b)\n",
        "\n",
        "c = \"a string\"\n",
        "c_1 = \"a string\"\n",
        "d = \"b string\"\n",
        "\n",
        "print (c == c_1)\n",
        "print (c == d)\n",
        "print (c > d)\n",
        "\n"
      ]
    },
    {
      "cell_type": "markdown",
      "metadata": {
        "id": "rlE_KgAxv3Yb"
      },
      "source": [
        "<h3><strong>Assignment Operators</strong></h3>\n",
        "<p>Assigning something(data) to something(a variable)</p>"
      ]
    },
    {
      "cell_type": "code",
      "execution_count": null,
      "metadata": {
        "colab": {
          "base_uri": "https://localhost:8080/"
        },
        "id": "3fhuMsfov_Hc",
        "outputId": "b79c2eec-2b54-4c63-b0c7-ebb0855a8bd2"
      },
      "outputs": [
        {
          "name": "stdout",
          "output_type": "stream",
          "text": [
            "a -= b -1\n",
            "a += b 5\n",
            "a *= b 6\n",
            "a /= b 0.667\n"
          ]
        }
      ],
      "source": [
        "# = , -=, +=, *=, /=\n",
        "a = 2\n",
        "b = 3\n",
        "a -= b\n",
        "print (\"a -= b\", a)\n",
        "a = 2\n",
        "a += b\n",
        "print (\"a += b\", a )\n",
        "a = 2\n",
        "a *= b\n",
        "print (\"a *= b\", a )\n",
        "a = 2\n",
        "a /= b\n",
        "print (\"a /= b\", round(a,3) ) # for rounding upto 3 decimal places"
      ]
    },
    {
      "cell_type": "markdown",
      "metadata": {
        "id": "cIlitELLxMwS"
      },
      "source": [
        "<h3><strong>Logical Operators</strong></h3>\n",
        "<p>and or not <br> used in conditional statments, return true/flase based on the condition. </p>\n",
        "<p>works just like in truth tables, input either true of false, based on input result will be descided</p>"
      ]
    },
    {
      "cell_type": "code",
      "execution_count": null,
      "metadata": {
        "colab": {
          "base_uri": "https://localhost:8080/"
        },
        "id": "MogvkC7CxQTd",
        "outputId": "10884c84-3d5f-4dbd-882f-e3c2db9caf6a"
      },
      "outputs": [
        {
          "name": "stdout",
          "output_type": "stream",
          "text": [
            "False\n",
            "True\n",
            "True\n",
            "True\n",
            "True\n",
            "True\n",
            "False\n",
            "False\n",
            "True\n",
            "True\n"
          ]
        }
      ],
      "source": [
        "a = True\n",
        "b = False\n",
        "c = True\n",
        "d = False\n",
        "print ( a and b )\n",
        "print ( a and not b)\n",
        "print ( not (a and b))\n",
        "print ( a and c)\n",
        "print ( a or b)\n",
        "print ( c or d)\n",
        "print ( b or d)\n",
        "print ( not a)\n",
        "print ( not b)\n",
        "print ( a and not b)\n",
        "\n"
      ]
    },
    {
      "cell_type": "markdown",
      "metadata": {
        "id": "7p5bQIFQ1Ksh"
      },
      "source": [
        "<h3><strong>Special Operators</strong></h3>\n",
        "<p>in opertor ( membership ) <br> is operator </p>"
      ]
    },
    {
      "cell_type": "code",
      "execution_count": null,
      "metadata": {
        "id": "oGP1lLNt1JkL"
      },
      "outputs": [],
      "source": [
        "# in tells if an object is a part of another object or not"
      ]
    },
    {
      "cell_type": "code",
      "execution_count": null,
      "metadata": {
        "colab": {
          "base_uri": "https://localhost:8080/"
        },
        "id": "MM7N8OVd1f86",
        "outputId": "455a2604-cda7-4be0-8e51-86903c910321"
      },
      "outputs": [
        {
          "name": "stdout",
          "output_type": "stream",
          "text": [
            "False\n",
            "True\n",
            "True\n",
            "True\n"
          ]
        }
      ],
      "source": [
        "name = \"this is an example\"\n",
        "print ( \"it\" in name)\n",
        "print ( \"is\" in name)\n",
        "print ( \"an example\" in name)\n",
        "print ( \"example\" in name)"
      ]
    },
    {
      "cell_type": "code",
      "execution_count": null,
      "metadata": {
        "colab": {
          "base_uri": "https://localhost:8080/"
        },
        "id": "WZB8pfMv2Ji9",
        "outputId": "8f324d80-d148-4546-ab2d-3452a34f9c12"
      },
      "outputs": [
        {
          "name": "stdout",
          "output_type": "stream",
          "text": [
            "10757864 10757864 10757896\n",
            "True\n",
            "False\n"
          ]
        }
      ],
      "source": [
        "# is tells if two object are at a same memory location or not\n",
        "a = 5\n",
        "c = 5\n",
        "b = 6\n",
        "\n",
        "print ( id(a), id(c), id(b))\n",
        "print ( a is c)\n",
        "print ( a is b)\n"
      ]
    },
    {
      "cell_type": "markdown",
      "metadata": {
        "id": "dAcdzSwgndo-"
      },
      "source": [
        "## Control FLow Statements\n",
        "          Application of conditional operators to manipluate the flow of the code or program.\n",
        "          Making Conditional Decisions"
      ]
    },
    {
      "cell_type": "code",
      "execution_count": null,
      "metadata": {
        "colab": {
          "base_uri": "https://localhost:8080/"
        },
        "id": "4MOsyYkN2m9e",
        "outputId": "26bc207f-e379-4e54-a4d7-7dda8323fc2b"
      },
      "outputs": [
        {
          "name": "stdout",
          "output_type": "stream",
          "text": [
            "Enter Your Age18\n",
            "Jerk it off\n"
          ]
        }
      ],
      "source": [
        "# if [condition]:\n",
        "#   is ture then this part is executed\n",
        "# else :\n",
        "#   otherwise this part gets executed or\n",
        "# elif [condition]:\n",
        "#   adds another condition to check, only works if condition is true, unlike else where it alays words when the condition given at if is false\n",
        "\n",
        "age = int(input(\"Enter Your Age\"))\n",
        "\n",
        "if age <= 18:\n",
        "  print(\"Jerk it off\")\n",
        "else:\n",
        "  print(\"dont jerk it\")"
      ]
    },
    {
      "cell_type": "markdown",
      "metadata": {
        "id": "H_9ihOihwAzA"
      },
      "source": [
        "### Challenge 1\n",
        "<p>Find Maximum in a list</p>\n",
        "<ul>\n",
        "<li>Given Marks of Students in a class. Find the topper</li>\n",
        "<li>Consider list in non empty</li>\n",
        "</ul>"
      ]
    },
    {
      "cell_type": "code",
      "execution_count": null,
      "metadata": {
        "colab": {
          "base_uri": "https://localhost:8080/"
        },
        "id": "5wVLgnDxwAJW",
        "outputId": "c9b8ec5f-87ec-4419-ba02-a220d2a0f585"
      },
      "outputs": [
        {
          "name": "stdout",
          "output_type": "stream",
          "text": [
            "100\n"
          ]
        }
      ],
      "source": [
        "marks = [90,30,100,50,80,95]\n",
        "topper = marks[0]\n",
        "for mark in marks:\n",
        "  if topper < mark:\n",
        "    topper = mark\n",
        "print(topper)"
      ]
    },
    {
      "cell_type": "markdown",
      "metadata": {
        "id": "OTWDrJCGxVpU"
      },
      "source": [
        "### Challenge 2\n",
        "<p>Grading System</p>\n",
        "<ul>\n",
        "<li>A :mark equal or greater than 90 </li>\n",
        "<li>B :marks equal to 80 and less then 90 </li>\n",
        "<li>C :marks equal to 70 and less then 80 </li>\n",
        "<li>D :marks equal to 60 and less then 70 </li>\n",
        "<li>E :marks les then 60 </li>\n",
        "</ul>"
      ]
    },
    {
      "cell_type": "code",
      "execution_count": null,
      "metadata": {
        "colab": {
          "base_uri": "https://localhost:8080/"
        },
        "id": "qeZ8ALec2P6P",
        "outputId": "a9e66397-5f80-47f9-897a-5eb151b4acd3"
      },
      "outputs": [
        {
          "name": "stdout",
          "output_type": "stream",
          "text": [
            "Enter Marks Obtained, for Grading: 99\n",
            " Grade A \n"
          ]
        }
      ],
      "source": [
        "marks = int(input(\"Enter Marks Obtained, for Grading: \"))\n",
        "if marks >= 90 and marks <=100:\n",
        "  print(\" Grade A \")\n",
        "elif marks >= 80 and marks < 90:\n",
        "  print(\" Grade B \")\n",
        "elif marks >= 70 and marks < 80:\n",
        "  print(\" Grade C \")\n",
        "elif marks >= 60 and marks < 70:\n",
        "  print(\" Grade D \")\n",
        "elif marks < 60:\n",
        "  print(\" Grade E \")\n",
        "else:\n",
        "  print(\"Invalid\")"
      ]
    },
    {
      "cell_type": "markdown",
      "metadata": {
        "id": "4GXfJZo6_4Zo"
      },
      "source": [
        "## Loops\n",
        "\n",
        "\n",
        "\n",
        "      1.   For\n",
        "      2.   While\n",
        "\n"
      ]
    },
    {
      "cell_type": "code",
      "execution_count": null,
      "metadata": {
        "colab": {
          "base_uri": "https://localhost:8080/"
        },
        "id": "5EnaUxKe5t3s",
        "outputId": "ba482eb3-7f0d-4232-cdba-ea45eef42512"
      },
      "outputs": [
        {
          "output_type": "stream",
          "name": "stdout",
          "text": [
            "* \n",
            "\n",
            "* * \n",
            "\n",
            "* * * \n",
            "\n",
            "* * * * \n",
            "\n",
            "* * * * * \n",
            "\n",
            "* * * * * * \n",
            "\n",
            "* * * * * * * \n",
            "\n",
            "* * * * * * * * \n",
            "\n",
            "* * * * * * * * * \n",
            "\n"
          ]
        }
      ],
      "source": [
        "# while is used when number of ietrations is not known, or fixed. We declare a condition, design loop body, and add a loop counter which we need to manually update to keep the loop finite\n",
        "i = 1\n",
        "\n",
        "while i < 10: # repeats while the condition remains true, quits as soon as condition falsifies\n",
        "  for j in range(i):\n",
        "    print(\"*\", end=\" \")\n",
        "  print(\"\\n\")\n",
        "  i += 1 # the value needs to update to make the loop end at some point"
      ]
    },
    {
      "cell_type": "code",
      "execution_count": null,
      "metadata": {
        "id": "tt5O4cry-apA",
        "colab": {
          "base_uri": "https://localhost:8080/"
        },
        "outputId": "1e233e17-0ad2-48ff-fb9b-db50a3b7e436"
      },
      "outputs": [
        {
          "output_type": "stream",
          "name": "stdout",
          "text": [
            "1 2 3 4 5 6 7 8 9 10 "
          ]
        }
      ],
      "source": [
        "#print numbers 1 - to - 10\n",
        "\n",
        "i = 0\n",
        "while i < 10:\n",
        "  print (i + 1, end = \" \")\n",
        "  i += 1\n"
      ]
    },
    {
      "cell_type": "code",
      "source": [
        "#even numbers\n",
        "print (\"Even Numbers: \")\n",
        "i = 1\n",
        "while i <= 10:\n",
        "  if i % 2 == 0:\n",
        "    print (i, end = \" \")\n",
        "  i += 1\n",
        "\n",
        "print (\"\\nOdd Numbers: \")\n",
        "i = 1\n",
        "while i <= 10:\n",
        "  if i % 2 != 0:\n",
        "    print (i, end = \" \")\n",
        "  i += 1"
      ],
      "metadata": {
        "colab": {
          "base_uri": "https://localhost:8080/"
        },
        "id": "eWUqlIU2zL28",
        "outputId": "0ef82085-c25d-45cc-ce7d-963afb2611d5"
      },
      "execution_count": null,
      "outputs": [
        {
          "output_type": "stream",
          "name": "stdout",
          "text": [
            "Even Numbers: \n",
            "2 4 6 8 10 \n",
            "Odd Numbers: \n",
            "1 3 5 7 9 "
          ]
        }
      ]
    },
    {
      "cell_type": "code",
      "source": [
        "# sum of given numbers\n",
        "x = range(11) # 11 is not included in the range, it is the stopping point, will generate a series of numbers which is iterateable.\n",
        "sum = 0\n",
        "i = 0\n",
        "while i in x:\n",
        "  sum += i\n",
        "  i += 1\n",
        "print (sum)\n",
        "print (x)\n"
      ],
      "metadata": {
        "colab": {
          "base_uri": "https://localhost:8080/"
        },
        "id": "SD7Z5GO-0U7d",
        "outputId": "337c2013-d158-4861-d8d4-926395a7f823"
      },
      "execution_count": null,
      "outputs": [
        {
          "output_type": "stream",
          "name": "stdout",
          "text": [
            "55\n",
            "range(0, 11)\n"
          ]
        }
      ]
    },
    {
      "cell_type": "code",
      "source": [
        "#range function\n",
        "# range(start,end,jump/step)\n",
        "# range(x) <-- means range(end), will go untill the number given\n",
        "x = range(5)\n",
        "print (x)\n",
        "# x = [0, 1, 2, 3, 4]\n",
        "# be default start is 0\n",
        "print(list(x))\n",
        "\n",
        "# if 2 parameters are given 1st becomes start, second becomes end\n",
        "y = range(101, 105)\n",
        "print (y)\n",
        "print (list(y))\n",
        "# notes that start is included in the range\n",
        "# end is always excluded"
      ],
      "metadata": {
        "id": "Dhy9N6sU1LDr",
        "colab": {
          "base_uri": "https://localhost:8080/"
        },
        "outputId": "0b9794e3-fbf9-49b4-9009-f65d3e94960d"
      },
      "execution_count": null,
      "outputs": [
        {
          "output_type": "stream",
          "name": "stdout",
          "text": [
            "range(0, 5)\n",
            "[0, 1, 2, 3, 4]\n",
            "range(101, 105)\n",
            "[101, 102, 103, 104]\n"
          ]
        }
      ]
    },
    {
      "cell_type": "code",
      "source": [
        "#print evens from 1-10 via range\n",
        "for i in range(2,11,2):\n",
        "  print (i, end = \" \")\n",
        "\n",
        "#print odds from 1-10 via range\n",
        "print (\"\\n\")\n",
        "for i in range(1,11,2):\n",
        "  print (i, end = \" \")"
      ],
      "metadata": {
        "colab": {
          "base_uri": "https://localhost:8080/"
        },
        "id": "6un79eyD3WtW",
        "outputId": "3d05481d-20c8-474c-a6d2-289722b6495a"
      },
      "execution_count": null,
      "outputs": [
        {
          "output_type": "stream",
          "name": "stdout",
          "text": [
            "2 4 6 8 10 \n",
            "\n",
            "1 3 5 7 9 "
          ]
        }
      ]
    },
    {
      "cell_type": "code",
      "source": [
        "#iterator, iterable, iteration\n",
        "# iterator --> the one performing the iteration\n",
        "# iterable --> the one on whom the iteration is being performed\n",
        "# iteration --> the repetative process, each time it repeats is a iteration\n",
        "# is useful in for loops\n",
        "# for iterator in iterable:\n",
        "#   loop body comes here\n",
        "\n",
        "# iterator: i\n",
        "# iterable: range()\n",
        "for i in range(1,10):\n",
        "  print (i, end =\" \")"
      ],
      "metadata": {
        "colab": {
          "base_uri": "https://localhost:8080/"
        },
        "id": "TMpTgOoa45lK",
        "outputId": "cd67882c-21ab-44b3-8a5d-cc49e5038e6d"
      },
      "execution_count": null,
      "outputs": [
        {
          "output_type": "stream",
          "name": "stdout",
          "text": [
            "1 2 3 4 5 6 7 8 9 "
          ]
        }
      ]
    },
    {
      "cell_type": "code",
      "source": [
        "#Multiplication table of x -->input\n",
        "x = int(input(\"Enter number for Table : \"))\n",
        "\n",
        "for i in range(1,11):\n",
        "  print (x, \"*\", i, \"=\", x*i)\n"
      ],
      "metadata": {
        "colab": {
          "base_uri": "https://localhost:8080/"
        },
        "id": "C-bBWzYM7i7S",
        "outputId": "989c443a-9263-466b-fc4b-dd5f043544f6"
      },
      "execution_count": null,
      "outputs": [
        {
          "output_type": "stream",
          "name": "stdout",
          "text": [
            "Enter number for Table : 9\n",
            "9 * 1 = 9\n",
            "9 * 2 = 18\n",
            "9 * 3 = 27\n",
            "9 * 4 = 36\n",
            "9 * 5 = 45\n",
            "9 * 6 = 54\n",
            "9 * 7 = 63\n",
            "9 * 8 = 72\n",
            "9 * 9 = 81\n",
            "9 * 10 = 90\n"
          ]
        }
      ]
    },
    {
      "cell_type": "code",
      "source": [
        "# pattern sqaure block of size n\n",
        "n = int (input (\"Enter size of square: \"))\n",
        "\n",
        "for i in range (n):\n",
        "  print()\n",
        "  for i in range (n):\n",
        "    print(\"#\", end=\" \")\n"
      ],
      "metadata": {
        "colab": {
          "base_uri": "https://localhost:8080/"
        },
        "id": "sQC-q4t2-ncv",
        "outputId": "81eada11-1d1b-4c04-daa4-3a20db63cabe"
      },
      "execution_count": null,
      "outputs": [
        {
          "output_type": "stream",
          "name": "stdout",
          "text": [
            "Enter size of square: 4\n",
            "\n",
            "# # # # \n",
            "# # # # \n",
            "# # # # \n",
            "# # # # "
          ]
        }
      ]
    },
    {
      "cell_type": "code",
      "source": [
        "# print a pattern a triangle of size n( increases a hash with each increment)\n",
        "n = int (input (\"Enter size of triangle:  \"))\n",
        "\n",
        "for i in range(n):\n",
        "  print()\n",
        "  for x in range(i+1):\n",
        "   print(\"#\", end =\" \")"
      ],
      "metadata": {
        "colab": {
          "base_uri": "https://localhost:8080/"
        },
        "id": "Adb98vZNAHoH",
        "outputId": "b21b74a1-e779-45d3-be9e-480c59848e21"
      },
      "execution_count": null,
      "outputs": [
        {
          "output_type": "stream",
          "name": "stdout",
          "text": [
            "Enter size of triangle:  3\n",
            "\n",
            "# \n",
            "# # \n",
            "# # # "
          ]
        }
      ]
    },
    {
      "cell_type": "code",
      "source": [
        "n = int(input(\"Enter size of triangle: \"))\n",
        "for i in range(n,0,-1):\n",
        "  for j in range (i,0,-1):\n",
        "     print(\"*\", end = \" \")\n",
        "  print()\n"
      ],
      "metadata": {
        "colab": {
          "base_uri": "https://localhost:8080/"
        },
        "id": "K5igWc7RBx8M",
        "outputId": "513d1f4a-277d-4b17-b2a8-583a8ad529ec"
      },
      "execution_count": null,
      "outputs": [
        {
          "output_type": "stream",
          "name": "stdout",
          "text": [
            "Enter size of triangle: 5\n",
            "* * * * * \n",
            "* * * * \n",
            "* * * \n",
            "* * \n",
            "* \n"
          ]
        }
      ]
    },
    {
      "cell_type": "code",
      "source": [
        "# Break Continue Pass\n",
        "\n",
        "# these statments alter the flow of a program\n",
        "# Break: When we break out of a loop, or a conditional statement\n",
        "# Continue: when we just need to skip a specific iteration\n",
        "# Pass: to avoid syntax error\n",
        "\n",
        "\n",
        "for i in range (1,10):\n",
        "  pass\n",
        "# pass is just makes the compilor/interpretor ignore the code.\n",
        "\n",
        "for i in range (1,10):\n",
        "  if (i == 5):\n",
        "    continue\n",
        "  print (i, end = \" \")\n",
        "# continue skips a specfic iteration where i == 5, and continues with rest\n",
        "\n",
        "print (\"\\n\")\n",
        "for i in range (1,10):\n",
        "  if (i == 5):\n",
        "    break\n",
        "  print (i, end = \" \")\n",
        "# break just breaks out of the loop when a condition is met."
      ],
      "metadata": {
        "colab": {
          "base_uri": "https://localhost:8080/"
        },
        "id": "E3dONg8eBzel",
        "outputId": "6e29368c-a5e1-4a53-94d4-045407e4380f"
      },
      "execution_count": null,
      "outputs": [
        {
          "output_type": "stream",
          "name": "stdout",
          "text": [
            "1 2 3 4 6 7 8 9 \n",
            "\n",
            "1 2 3 4 "
          ]
        }
      ]
    },
    {
      "cell_type": "code",
      "source": [
        "for i in range(1, n + 1):\n",
        "    # Print spaces\n",
        "    for space in range(n - i):\n",
        "        print(\" \", end=\"\")\n",
        "    # Print stars\n",
        "    for star in range(2 * i - 1):\n",
        "        print(\"*\", end=\"\")\n",
        "    print()"
      ],
      "metadata": {
        "colab": {
          "base_uri": "https://localhost:8080/"
        },
        "id": "FE4zMvq7B0MB",
        "outputId": "f7d2c442-e908-422c-9bf7-9eee9c5233da"
      },
      "execution_count": null,
      "outputs": [
        {
          "output_type": "stream",
          "name": "stdout",
          "text": [
            "    *\n",
            "   ***\n",
            "  *****\n",
            " *******\n",
            "*********\n"
          ]
        }
      ]
    },
    {
      "cell_type": "code",
      "source": [
        "n = 5\n",
        "for i in range (1,n+2,2):\n",
        "  print(i)"
      ],
      "metadata": {
        "colab": {
          "base_uri": "https://localhost:8080/"
        },
        "id": "NunOmGbOJb0u",
        "outputId": "f55b8002-1be5-486d-89cd-30c822650275"
      },
      "execution_count": null,
      "outputs": [
        {
          "output_type": "stream",
          "name": "stdout",
          "text": [
            "1\n",
            "3\n",
            "5\n"
          ]
        }
      ]
    },
    {
      "cell_type": "markdown",
      "source": [
        "## Strings\n",
        "<p>Strings are a sequence of characters<br>\n",
        "Characters can be\n",
        "            \n",
        "        1. Alphabets\n",
        "        2. Numbers\n",
        "        3. Special Characters\n",
        "        4. Whtie Spaces\n",
        "            \n"
      ],
      "metadata": {
        "id": "jYTSDBzIOZXr"
      }
    },
    {
      "cell_type": "markdown",
      "source": [
        "strings can be defined by using\n",
        "\n",
        "      single, double or triple quotes ' ' \" \" \"\"\" \"\"\"\n",
        "      ASCII Codes or UniCodes for Characters\n",
        "      A-Z 65-90\n",
        "      a-z 97-122</p>"
      ],
      "metadata": {
        "id": "_wKrTszmTIhW"
      }
    },
    {
      "cell_type": "code",
      "source": [
        "a = \"string\"\n",
        "b = 'string'\n",
        "c = \"\"\"\n",
        "this is a\n",
        "multi\n",
        "line\n",
        "string\n",
        "\"\"\"\n",
        "print (type(a))\n",
        "print (type(b))\n",
        "print (type(c))"
      ],
      "metadata": {
        "colab": {
          "base_uri": "https://localhost:8080/"
        },
        "id": "eE3QYvLetn9U",
        "outputId": "6c77448e-11e3-4ec9-c87f-7c418a9a35fa"
      },
      "execution_count": null,
      "outputs": [
        {
          "output_type": "stream",
          "name": "stdout",
          "text": [
            "<class 'str'>\n",
            "<class 'str'>\n",
            "<class 'str'>\n"
          ]
        }
      ]
    },
    {
      "cell_type": "markdown",
      "source": [
        "Ord & Chr"
      ],
      "metadata": {
        "id": "xYQwGnWUyf6j"
      }
    },
    {
      "cell_type": "code",
      "source": [
        "#using ord to decode any character\n",
        "print(\"a\",ord(\"a\"))\n",
        "print(\"z\",ord(\"z\"))\n",
        "print(\"A\",ord(\"A\"))\n",
        "print(\"Z\",ord(\"Z\"))\n",
        "print(\"😍\",ord(\"😍\"))\n",
        "\n",
        "#chr does the reverse\n",
        "\n",
        "print(\"97\", chr(97))\n",
        "print(\"122\", chr(122))\n",
        "print(\"65\", chr(65))\n",
        "print(\"90\", chr(90))\n",
        "print(\"128525\", chr(128525))\n",
        "\n"
      ],
      "metadata": {
        "colab": {
          "base_uri": "https://localhost:8080/"
        },
        "id": "MJa2bM6Xyilb",
        "outputId": "610cf906-0aa2-4366-8a60-ee39cf5cefbe"
      },
      "execution_count": null,
      "outputs": [
        {
          "output_type": "stream",
          "name": "stdout",
          "text": [
            "a 97\n",
            "z 122\n",
            "A 65\n",
            "Z 90\n",
            "😍 128525\n",
            "97 a\n",
            "122 z\n",
            "65 A\n",
            "90 Z\n",
            "128525 😍\n"
          ]
        }
      ]
    },
    {
      "cell_type": "markdown",
      "source": [
        "### Indexing in a String"
      ],
      "metadata": {
        "id": "e9X-Cm3Tzsj5"
      }
    },
    {
      "cell_type": "code",
      "source": [
        "string = \"Syed Zeeshan Azhar\"\n",
        "print(string[0])\n",
        "print(string[-1])#last character or first from the last/right hand side\n",
        "len(string)\n",
        "print(string[17])\n",
        "print(string[-18])\n"
      ],
      "metadata": {
        "colab": {
          "base_uri": "https://localhost:8080/"
        },
        "id": "5uBQejXTz0Ku",
        "outputId": "52205b61-2754-4543-b3c2-39a0869fc27c"
      },
      "execution_count": null,
      "outputs": [
        {
          "output_type": "stream",
          "name": "stdout",
          "text": [
            "S\n",
            "r\n",
            "r\n",
            "S\n"
          ]
        }
      ]
    },
    {
      "cell_type": "markdown",
      "source": [
        "### Slicing in a String\n",
        "find a starting point\n",
        "\n",
        "find a ending point\n",
        "\n",
        "to slice\n",
        "\n"
      ],
      "metadata": {
        "id": "Sa9gJnqF1bJa"
      }
    },
    {
      "cell_type": "code",
      "source": [
        "string = \"example\"\n",
        "#starting is included and ending is excluded\n",
        "print(string[0:3])\n",
        "print(string[3])\n",
        "size = len(string)\n",
        "print(string[0:size:2]) #[start:end:jump]\n",
        "print(string[::-1]) #[start:end:jump]\n",
        "print(string[-1:-size-1:-1]) #[start:end:jump]\n",
        "\n"
      ],
      "metadata": {
        "colab": {
          "base_uri": "https://localhost:8080/"
        },
        "id": "44Yubyms1ddf",
        "outputId": "0bf9a140-dca1-4e52-ceef-c582976164ba"
      },
      "execution_count": null,
      "outputs": [
        {
          "output_type": "stream",
          "name": "stdout",
          "text": [
            "exa\n",
            "m\n",
            "eape\n",
            "elpmaxe\n",
            "elpmaxe\n"
          ]
        }
      ]
    },
    {
      "cell_type": "markdown",
      "source": [
        "###  Methods in Strings\n",
        "\n",
        "\n",
        "\n",
        "1.  capitalize\n",
        "2.  title\n",
        "3.  upper\n",
        "4.  lower\n",
        "5.  find\n",
        "6.  count\n",
        "7.  index\n",
        "8.  replace\n",
        "9.  split\n",
        "10. islower\n",
        "11. isupper\n",
        "12. isnumeric\n",
        "13. isalpha\n",
        "\n",
        "\n",
        "\n",
        "\n",
        "\n"
      ],
      "metadata": {
        "id": "dooOEJfvqsEG"
      }
    },
    {
      "cell_type": "code",
      "source": [
        "# capitalize(): Capitalizes only the first character of the string and makes the rest lowercase.\n",
        "exp = \"hi marry\"\n",
        "print(exp.capitalize())  # Output: 'Hi marry'\n",
        "\n",
        "# title(): Capitalizes the first letter of each word in the string.\n",
        "# Useful for formatting names, titles, or headlines.\n",
        "print(exp.title())  # Output: 'Hi Marry'\n",
        "\n",
        "# upper(): Converts the entire string to uppercase.\n",
        "print(exp.upper())  # Output: 'HI MARRY'\n",
        "\n",
        "# lower(): Converts the entire string to lowercase.\n",
        "exp = \"MARRY\"\n",
        "print(exp.lower())  # Output: 'marry'\n",
        "exp = exp.lower()   # Save the lowercase version\n",
        "\n",
        "# find(): Returns the index of the first occurrence of a substring.\n",
        "# Returns -1 if the substring is not found.\n",
        "print(exp.find(\"ry\"))  # Output: 3\n",
        "print(exp.find(\"z\"))   # Output: -1 (not found)\n",
        "\n"
      ],
      "metadata": {
        "colab": {
          "base_uri": "https://localhost:8080/"
        },
        "id": "hnL7YpjpraCK",
        "outputId": "207e86d6-ec58-4a98-fee7-4eb96679c20e"
      },
      "execution_count": null,
      "outputs": [
        {
          "output_type": "stream",
          "name": "stdout",
          "text": [
            "Hi marry\n",
            "Hi Marry\n",
            "HI MARRY\n",
            "marry\n",
            "3\n",
            "-1\n"
          ]
        }
      ]
    },
    {
      "cell_type": "code",
      "source": [
        "# count(): Counts how many times a substring appears in the string.\n",
        "# Case-sensitive and counts overlapping substrings as one.\n",
        "exp = \"Marry is a girl\"\n",
        "print(exp.count(\"r\"))     # Output: 2\n",
        "print(exp.count(\"is\"))    # Output: 1\n",
        "print(exp.count(\" \"))     # Output: 3 (spaces)\n",
        "print(exp.count(\"x\"))     # Output: 0\n",
        "\n",
        "# index(): Returns the index of the first occurrence of a substring like find(),\n",
        "# but throws a ValueError if not found. Use when you're sure the substring exists.\n",
        "print(exp.index(\"r\"))     # Output: 2\n",
        "# print(exp.index(\"z\"))   # ValueError: substring not found\n",
        "\n",
        "# replace(): Replaces all occurrences of a substring with another.\n",
        "# Optional 3rd argument limits how many times replacement happens.\n",
        "print(exp.replace(\"r\", \"R\"))      # Output: 'MaRRy is a giRl'\n",
        "print(exp.replace(\"r\", \"R\", 1))   # Output: 'MaRry is a girl'\n",
        "\n",
        "# split(): Splits a string into a list based on a separator (default is space).\n",
        "# Can split on any character. Returns a list of substrings.\n",
        "exp = \"Marry is a girl\"\n",
        "exp_comma = \"Marry,is,a,irl,g\"\n",
        "print(exp.split())          # Output: ['Marry', 'is', 'a', 'girl']\n",
        "print(exp_comma.split(\",\")) # Output: ['Marry', 'is', 'a', 'irl', 'g']\n",
        "\n"
      ],
      "metadata": {
        "colab": {
          "base_uri": "https://localhost:8080/"
        },
        "id": "IPi9eu4LMJlA",
        "outputId": "71a6275f-9240-4f77-a837-da52b3824aec"
      },
      "execution_count": null,
      "outputs": [
        {
          "output_type": "stream",
          "name": "stdout",
          "text": [
            "3\n",
            "1\n",
            "3\n",
            "0\n",
            "2\n",
            "MaRRy is a giRl\n",
            "MaRry is a girl\n",
            "['Marry', 'is', 'a', 'girl']\n",
            "['Marry', 'is', 'a', 'irl', 'g']\n"
          ]
        }
      ]
    },
    {
      "cell_type": "code",
      "source": [
        "\n",
        "# isupper(): Returns True if all characters in the string are uppercase letters.\n",
        "exp = \"MARRY\"\n",
        "print(f\"is upper: {exp} →\", exp.isupper())  # True\n",
        "\n",
        "exp = \"marry\"\n",
        "print(f\"is upper: {exp} →\", exp.isupper())  # False\n",
        "\n",
        "# islower(): Returns True if all characters are lowercase letters.\n",
        "exp = \"MARRY\"\n",
        "print(f\"is lower: {exp} →\", exp.islower())  # False\n",
        "\n",
        "exp = \"marry\"\n",
        "print(f\"is lower: {exp} →\", exp.islower())  # True\n",
        "\n",
        "# isnumeric(): Returns True if the string contains only numeric characters.\n",
        "exp = \"1234\"\n",
        "print(f\"is numeric: {exp} →\", exp.isnumeric())  # True\n",
        "\n",
        "exp = \"abc\"\n",
        "print(f\"is numeric: {exp} →\", exp.isnumeric())  # False\n",
        "\n",
        "# isalpha(): Returns True if the string contains only alphabetic characters (a–z, A–Z).\n",
        "exp = \"abc\"\n",
        "print(f\"is alpha: {exp} →\", exp.isalpha())  # True\n",
        "\n",
        "exp = \"1234\"\n",
        "print(f\"is alpha: {exp} →\", exp.isalpha())  # False\n",
        "\n",
        "exp = \"abc123\"\n",
        "print(f\"is alpha: {exp} →\", exp.isalpha())  # False (mixed letters + digits)\n",
        "\n",
        "\n"
      ],
      "metadata": {
        "colab": {
          "base_uri": "https://localhost:8080/"
        },
        "id": "10PlEGIbMCwV",
        "outputId": "34a6e993-4cdd-4bc9-f42b-f670b57bf079"
      },
      "execution_count": null,
      "outputs": [
        {
          "output_type": "stream",
          "name": "stdout",
          "text": [
            "is upper: MARRY → True\n",
            "is upper: marry → False\n",
            "is lower: MARRY → False\n",
            "is lower: marry → True\n",
            "is numeric: 1234 → True\n",
            "is numeric: abc → False\n",
            "is alpha: abc → True\n",
            "is alpha: 1234 → False\n",
            "is alpha: abc123 → False\n"
          ]
        }
      ]
    },
    {
      "cell_type": "code",
      "source": [
        "text = \"   hello world   \"\n",
        "\n",
        "# strip(): Removes leading and trailing whitespace (or specified characters)\n",
        "print(text.strip())     # Output: 'hello world'\n",
        "\n",
        "# lstrip(): Removes only leading whitespace\n",
        "print(text.lstrip())    # Output: 'hello world   '\n",
        "\n",
        "# rstrip(): Removes only trailing whitespace\n",
        "print(text.rstrip())    # Output: '   hello world'\n",
        "\n",
        "# Can also strip custom characters:\n",
        "text = \"///file///\"\n",
        "print(text.strip(\"/\"))  # Output: 'file'"
      ],
      "metadata": {
        "colab": {
          "base_uri": "https://localhost:8080/"
        },
        "id": "3fmIAkq-L-PA",
        "outputId": "1ff3a592-0860-4258-852b-fbff7b5b58c0"
      },
      "execution_count": null,
      "outputs": [
        {
          "output_type": "stream",
          "name": "stdout",
          "text": [
            "hello world\n",
            "hello world   \n",
            "   hello world\n",
            "file\n"
          ]
        }
      ]
    },
    {
      "cell_type": "code",
      "source": [
        "words = [\"leet\", \"code\", \"rocks\"]\n",
        "print(\" \".join(words))     # Output: 'leet code rocks'\n",
        "print(\"-\".join(words))     # Output: 'leet-code-rocks'\n",
        "\n",
        "# Joining characters of a string:\n",
        "s = \"abc\"\n",
        "print(\".\".join(s))"
      ],
      "metadata": {
        "colab": {
          "base_uri": "https://localhost:8080/"
        },
        "id": "9Xwn2yOJL6kV",
        "outputId": "37dc2a87-3afc-497f-fe8e-5b3030bdb4d4"
      },
      "execution_count": null,
      "outputs": [
        {
          "output_type": "stream",
          "name": "stdout",
          "text": [
            "leet code rocks\n",
            "leet-code-rocks\n",
            "a.b.c\n"
          ]
        }
      ]
    },
    {
      "cell_type": "markdown",
      "source": [
        "<h3>String Formating</h3>\n",
        "using f print to print a string with variables\n",
        "or .format to format a string"
      ],
      "metadata": {
        "id": "NsmXxhxqJuRQ"
      }
    },
    {
      "cell_type": "code",
      "source": [
        "name = input()\n",
        "age = input()\n",
        "\n",
        "print(\"My name is {} and my age is {}.\".format(name,age))\n",
        "print(\"My name is {} and my age is {}.\".format(age,name))\n",
        "print(f\"My name is {name} and my age is {age}\")"
      ],
      "metadata": {
        "colab": {
          "base_uri": "https://localhost:8080/"
        },
        "id": "0Q0AnQdzJ1MK",
        "outputId": "f8c088b7-ad57-441b-81c3-3f1beb38c9b4"
      },
      "execution_count": null,
      "outputs": [
        {
          "output_type": "stream",
          "name": "stdout",
          "text": [
            "Ali\n",
            "12\n",
            "My name is Ali and my age is 12.\n",
            "My name is 12 and my age is Ali.\n",
            "My name is Ali and my age is 12\n"
          ]
        }
      ]
    },
    {
      "cell_type": "markdown",
      "source": [
        "<h3>String Concatenation</h3>\n",
        "connecting or joining two strings togather is known as string operations.\n"
      ],
      "metadata": {
        "id": "5MNKyHgqRvus"
      }
    },
    {
      "cell_type": "code",
      "source": [
        "first = input()\n",
        "second = input()\n",
        "third = first + second\n",
        "print (third)"
      ],
      "metadata": {
        "colab": {
          "base_uri": "https://localhost:8080/"
        },
        "id": "ME6wcVikR4RN",
        "outputId": "b5b81827-aaf9-472a-b331-6ab213b220db"
      },
      "execution_count": null,
      "outputs": [
        {
          "output_type": "stream",
          "name": "stdout",
          "text": [
            "ali \n",
            "haider\n",
            "ali haider\n"
          ]
        }
      ]
    },
    {
      "cell_type": "code",
      "source": [
        "third = first * 3\n",
        "print(third)\n",
        "\n",
        "print(\"2\" + \"10\")\n",
        "print(\"2\" * 10)\n",
        "# print(\"2\" * \"10\") --> Type Error, not possible"
      ],
      "metadata": {
        "colab": {
          "base_uri": "https://localhost:8080/"
        },
        "id": "m548T0zASEYD",
        "outputId": "c687c696-d6ca-441d-f034-4d8f95b6d9fe"
      },
      "execution_count": null,
      "outputs": [
        {
          "output_type": "stream",
          "name": "stdout",
          "text": [
            "ali ali ali \n",
            "210\n",
            "2222222222\n"
          ]
        }
      ]
    },
    {
      "cell_type": "markdown",
      "source": [
        "Challenge 1: Print all vowels of a given string"
      ],
      "metadata": {
        "id": "tnOm3Y8sSk9a"
      }
    },
    {
      "cell_type": "code",
      "source": [
        "text = \"The Quick brown fox jump on a lazy dog\"\n",
        "text = text.lower()\n",
        "vowels = ['a','e','i','o','u']\n",
        "new_text = []\n",
        "\n",
        "for char in text:\n",
        "  if char in vowels:\n",
        "    new_text.append(char)\n",
        "\n",
        "print (new_text)\n",
        "\n",
        "# to make it more short and\n",
        "# text = \"The Quick brown fox jump on a lazy dog\"\n",
        "# vowels = [ch for ch in text if ch in \"aeiou\"]\n",
        "# known as list comprehension --> used to build list\n",
        "# goes like [expression for item in ietrable if condition]\n",
        "\n"
      ],
      "metadata": {
        "colab": {
          "base_uri": "https://localhost:8080/"
        },
        "id": "MZiUrZJXSMMu",
        "outputId": "3ff1e787-0062-45af-d9c1-ffb3006463fb"
      },
      "execution_count": null,
      "outputs": [
        {
          "output_type": "stream",
          "name": "stdout",
          "text": [
            "['e', 'u', 'i', 'o', 'o', 'u', 'o', 'a', 'a', 'o']\n"
          ]
        }
      ]
    },
    {
      "cell_type": "code",
      "source": [
        "text = \"The Quick brown fox jump on a lazy dog\"\n",
        "vowels = [ch for ch in text if ch in \"aeiou\" ]\n",
        "print (vowels)"
      ],
      "metadata": {
        "colab": {
          "base_uri": "https://localhost:8080/"
        },
        "id": "f-Guz-NwU3_b",
        "outputId": "57735085-efb5-47e6-ab20-5318aae74c59"
      },
      "execution_count": null,
      "outputs": [
        {
          "output_type": "stream",
          "name": "stdout",
          "text": [
            "['e', 'u', 'i', 'o', 'o', 'u', 'o', 'a', 'a', 'o']\n"
          ]
        }
      ]
    },
    {
      "cell_type": "markdown",
      "source": [
        "Challenge: Check if Pallindrome"
      ],
      "metadata": {
        "id": "kH-twAoWVv36"
      }
    },
    {
      "cell_type": "code",
      "source": [
        "string = input(\"Enter a word to check for pallindrome: \")\n",
        "size = len(string)\n",
        "string_r = string[-1:-size-1:-1]\n",
        "if string == string_r:\n",
        "  print(\"pallindrome\")\n",
        "else:\n",
        "  print(\"not a pallindrome\")"
      ],
      "metadata": {
        "colab": {
          "base_uri": "https://localhost:8080/"
        },
        "id": "tDCJLlCMVzSd",
        "outputId": "8c960cd9-9a15-468e-c61c-f27319248b62"
      },
      "execution_count": null,
      "outputs": [
        {
          "output_type": "stream",
          "name": "stdout",
          "text": [
            "Enter a word to check for pallindrome: palidndrome\n",
            "not a pallindrome\n"
          ]
        }
      ]
    },
    {
      "cell_type": "code",
      "source": [
        "sent1 = \"\"\"\n",
        "1\n",
        "Fear leads to anger anger leads to hatred hatred leads to conflict conflict leads to\n",
        "suffering\n",
        "\"\"\"\n",
        "sent2 = \"We must indeed all hang together or most assuredly we shall all hang separately\"\n",
        "\n",
        "\n",
        "sent1 = sent1.replace(\".\", \" \")\n",
        "sent2 = sent2.replace(\".\", \" \")\n",
        "sent1 = sent1.replace(\":\", \" \")\n",
        "sent2 = sent2.replace(\":\", \" \")\n",
        "\n",
        "sent_1 = sent1.lower().split()\n",
        "sent_2 = sent2.lower().split()\n",
        "\n",
        "sent_1_size = len(sorted(set(sent_1)))\n",
        "sent_2_size = len(sorted(set(sent_2)))\n",
        "sum = sent_1_size + sent_2_size\n",
        "print(sum)\n"
      ],
      "metadata": {
        "colab": {
          "base_uri": "https://localhost:8080/"
        },
        "id": "pZmqXtQ9YkGv",
        "outputId": "25426ba6-2605-4aff-de67-3124b94244d9"
      },
      "execution_count": null,
      "outputs": [
        {
          "output_type": "stream",
          "name": "stdout",
          "text": [
            "19\n"
          ]
        }
      ]
    },
    {
      "cell_type": "code",
      "source": [
        "def solve(self, A, B):\n",
        "        stA = A.count()"
      ],
      "metadata": {
        "id": "x0M2pPGJihC5"
      },
      "execution_count": null,
      "outputs": []
    },
    {
      "cell_type": "code",
      "source": [],
      "metadata": {
        "id": "3ipeunDMeNs7"
      },
      "execution_count": null,
      "outputs": []
    },
    {
      "cell_type": "markdown",
      "source": [
        "## Data Structures\n",
        "\n",
        "\n",
        "a special format followed to\n",
        "\n",
        "        1. Format\n",
        "        2. Organize\n",
        "        3. Process\n",
        "        4. Store\n",
        "        5. Reterive Data\n",
        "\n",
        "Data Strucutes in Python are as follows\n",
        "\n",
        "        1. Lists\n",
        "        2. Dictionaries\n",
        "        3. Sets\n",
        "        4. Tuples\n",
        "\n"
      ],
      "metadata": {
        "id": "tv_jkj2wbtYz"
      }
    },
    {
      "cell_type": "markdown",
      "source": [
        "## Lists\n",
        "\n",
        "        1. Lists are mutable\n",
        "        2. Lists are iterable\n",
        "        3. can store multiple type of data"
      ],
      "metadata": {
        "id": "syJcGYlQFSoj"
      }
    },
    {
      "cell_type": "code",
      "source": [
        "# Creating Lists.\n",
        "# WE can use square brackets to intialize a list.  -->  var = [ ] <-- makes a list named var\n",
        "# we can also use a function --> var = list.()\n",
        "# we can access them via indexes\n",
        "# len(list) returns lenght of the list\n",
        "\n",
        "var = [1,2,3,4,\"5\",True,1.22]\n",
        "# can hold all datatypes at once, as other languages the data structure doesnt has a data type.\n",
        "txt = \"this is a list\"\n",
        "var3 = list(txt) # stores it character by character\n",
        "var2 = list()\n",
        "var2.append(\"\".join(txt)) # to store whole string as one list element\n",
        "print(var)\n",
        "print(var2)\n",
        "print(var3)"
      ],
      "metadata": {
        "colab": {
          "base_uri": "https://localhost:8080/"
        },
        "id": "62X2O5ijcIrH",
        "outputId": "eec90ee3-536e-48f5-f4c7-64fe16a73454"
      },
      "execution_count": null,
      "outputs": [
        {
          "output_type": "stream",
          "name": "stdout",
          "text": [
            "[1, 2, 3, 4, '5', True, 1.22]\n",
            "['this is a list']\n",
            "['t', 'h', 'i', 's', ' ', 'i', 's', ' ', 'a', ' ', 'l', 'i', 's', 't']\n"
          ]
        }
      ]
    },
    {
      "cell_type": "markdown",
      "source": [
        "<h3>List Slicing</h3>\n",
        "\n",
        "similar to string slicing. works the same way when i comes to slicing as it does in strings\n"
      ],
      "metadata": {
        "id": "zmAzUzXUgYvQ"
      }
    },
    {
      "cell_type": "code",
      "source": [
        "#use the same we of slicing as before\n",
        "var = [1,2,3,4,5,6]\n",
        "print(var[1:])"
      ],
      "metadata": {
        "colab": {
          "base_uri": "https://localhost:8080/"
        },
        "id": "LeGryHEme1_A",
        "outputId": "7c80d2a1-924a-4cb9-8e00-f4d962b4abe4"
      },
      "execution_count": null,
      "outputs": [
        {
          "output_type": "stream",
          "name": "stdout",
          "text": [
            "[2, 3, 4, 5, 6]\n"
          ]
        }
      ]
    },
    {
      "cell_type": "code",
      "source": [
        "print(var[1:3])"
      ],
      "metadata": {
        "colab": {
          "base_uri": "https://localhost:8080/"
        },
        "id": "AlSEYKyRwx1o",
        "outputId": "48da7d8a-e15e-4f6c-c7c5-8d967dac4ccd"
      },
      "execution_count": null,
      "outputs": [
        {
          "output_type": "stream",
          "name": "stdout",
          "text": [
            "[2, 3]\n"
          ]
        }
      ]
    },
    {
      "cell_type": "code",
      "source": [
        "print(var[::-1])"
      ],
      "metadata": {
        "colab": {
          "base_uri": "https://localhost:8080/"
        },
        "id": "afF2vDx6w2rm",
        "outputId": "da2850e3-e21d-4515-df23-2ae175ec7e78"
      },
      "execution_count": null,
      "outputs": [
        {
          "output_type": "stream",
          "name": "stdout",
          "text": [
            "[6, 5, 4, 3, 2, 1]\n"
          ]
        }
      ]
    },
    {
      "cell_type": "markdown",
      "source": [
        "<h2>List Methods</h2>\n",
        "\n",
        "1. count\n",
        "2. index\n",
        "3. pop\n",
        "4. remove\n",
        "5. sort\n",
        "6. insert\n",
        "7. append\n",
        "8. extend\n"
      ],
      "metadata": {
        "id": "9DszMR2TxAYe"
      }
    },
    {
      "cell_type": "code",
      "source": [
        "numbers = [0,1,3,5,6,9]\n",
        "print(numbers.count(8))\n",
        "\n",
        "# returns the number of ouccurences of an element in a list."
      ],
      "metadata": {
        "colab": {
          "base_uri": "https://localhost:8080/"
        },
        "id": "934kA7-_xJm_",
        "outputId": "a6f6d369-b4eb-44ae-b99c-faebd3c1a1f6"
      },
      "execution_count": null,
      "outputs": [
        {
          "output_type": "stream",
          "name": "stdout",
          "text": [
            "0\n"
          ]
        }
      ]
    },
    {
      "cell_type": "code",
      "source": [
        "numbers = [0,1,3,5,6,9]\n",
        "print(numbers.index(6))\n",
        "# returns the index of an element in the list. for example integer 6 is on index 4, it returns 4"
      ],
      "metadata": {
        "colab": {
          "base_uri": "https://localhost:8080/"
        },
        "id": "RRsq_pnV1FO0",
        "outputId": "a760d541-621d-4ee3-b381-4adcf0da7caa"
      },
      "execution_count": null,
      "outputs": [
        {
          "output_type": "stream",
          "name": "stdout",
          "text": [
            "4\n"
          ]
        }
      ]
    },
    {
      "cell_type": "code",
      "source": [
        "numbers = [0,1,3,5,6,9]\n",
        "print(numbers.pop()) # removes the last index from the list.\n",
        "numbers = [0,1,3,5,3,3,9]\n",
        "print(numbers.remove(3)) # removes 3 from the list but doesnt print it, instead returns None. used to remove any specific numbers first occurence from the list\n",
        "print(numbers)"
      ],
      "metadata": {
        "colab": {
          "base_uri": "https://localhost:8080/"
        },
        "id": "0-5BbE3qCIy3",
        "outputId": "0149d953-5098-4412-92b4-50bb2df8621e"
      },
      "execution_count": null,
      "outputs": [
        {
          "output_type": "stream",
          "name": "stdout",
          "text": [
            "9\n",
            "None\n",
            "[0, 1, 5, 3, 3, 9]\n"
          ]
        }
      ]
    },
    {
      "cell_type": "code",
      "source": [
        "numbers = [9,3,1,4,6,7,3,5,7,8,756,45,0]\n",
        "print(\".......... Defalut ..........\\n\",numbers)\n",
        "# sort works to sort an array and return None. It sorts an array is asscending order be dafult. use reverse flag to sort descending.\n",
        "\n",
        "numbers.sort(reverse=True) # Decending Order largest to smallest\n",
        "print(\"\\n.......... Decending ..........\\n\",numbers)\n",
        "\n",
        "numbers = [9,3,1,4,6,7,3,5,7,8,756,45,0]\n",
        "numbers.sort() # Ascending Order  smallest to largest\n",
        "print(\"\\n.......... Ascending ..........\\n\",numbers)\n"
      ],
      "metadata": {
        "colab": {
          "base_uri": "https://localhost:8080/"
        },
        "id": "ES3qMvhVUkrO",
        "outputId": "8a91bc10-0e3f-47a3-a641-63ec28bc8757"
      },
      "execution_count": null,
      "outputs": [
        {
          "output_type": "stream",
          "name": "stdout",
          "text": [
            ".......... Defalut ..........\n",
            " [9, 3, 1, 4, 6, 7, 3, 5, 7, 8, 756, 45, 0]\n",
            "\n",
            ".......... Decending ..........\n",
            " [756, 45, 9, 8, 7, 7, 6, 5, 4, 3, 3, 1, 0]\n",
            "\n",
            ".......... Ascending ..........\n",
            " [0, 1, 3, 3, 4, 5, 6, 7, 7, 8, 9, 45, 756]\n"
          ]
        }
      ]
    },
    {
      "cell_type": "code",
      "source": [
        "numbers = [1,2,3,4,5]\n",
        "# insert takes two arguments, first the index where to insert an object, and second the object it self.\n",
        "\n",
        "numbers.insert(1,15)\n",
        "print(numbers)\n",
        "\n",
        "numbers.insert(4,'new_object at index 4')\n",
        "print(numbers)"
      ],
      "metadata": {
        "colab": {
          "base_uri": "https://localhost:8080/"
        },
        "id": "P0XMzNTvb_dg",
        "outputId": "0c56c53b-553d-4f2b-cb88-f020894c5043"
      },
      "execution_count": null,
      "outputs": [
        {
          "output_type": "stream",
          "name": "stdout",
          "text": [
            "[1, 15, 2, 3, 4, 5]\n",
            "[1, 15, 2, 3, 'new_object at index 4', 4, 5]\n"
          ]
        }
      ]
    },
    {
      "cell_type": "code",
      "source": [
        "numbers = [1,2,3,4,5]\n",
        "numbers.append(125)\n",
        "print(numbers) # add to the end of the list.\n",
        "# falls short when a iterable is passed onto append. it treats it as an object rather then an iterable\n",
        "# lets say if we add another list to it.\n",
        "numbers.append([1,2,3,4])\n",
        "print(numbers,\"\\t adds the list as a whole object which is present at index[-1]\")\n",
        "\n",
        "\n",
        "#extend takes an iterable and moves through it, adding each elements individually to the list, rather then whole ietrable as a single object.\n",
        "numbers = [1,2,3,4,5]\n",
        "numbers.extend([1,2,3,4])\n",
        "print(numbers) # add to the end of the list."
      ],
      "metadata": {
        "colab": {
          "base_uri": "https://localhost:8080/"
        },
        "id": "ZhJBtWRYcv-B",
        "outputId": "f0751e75-aab4-4a82-e4be-794cb00f03c5"
      },
      "execution_count": null,
      "outputs": [
        {
          "output_type": "stream",
          "name": "stdout",
          "text": [
            "[1, 2, 3, 4, 5, 125]\n",
            "[1, 2, 3, 4, 5, 125, [1, 2, 3, 4]]\n",
            "[1, 2, 3, 4, 5, 1, 2, 3, 4]\n"
          ]
        }
      ]
    },
    {
      "cell_type": "markdown",
      "source": [
        "<h2>Heterogenous lists</h2>"
      ],
      "metadata": {
        "id": "2JG51vnKe27N"
      }
    },
    {
      "cell_type": "code",
      "source": [
        "# is a list with different types of data types.\n",
        "lis =  [1,1.1,True,'String',\"\"\"This is a string \"\"\"]\n",
        "print(f\"lis -->   {type(lis)}\")\n",
        "for i in range(len(lis)):\n",
        "  print(f\"{lis[i]} \\t-->  {type(lis[i])}\")"
      ],
      "metadata": {
        "colab": {
          "base_uri": "https://localhost:8080/"
        },
        "id": "NMHLSPUte_hM",
        "outputId": "e485c0b4-93a1-4c40-d4cd-9427a4911309"
      },
      "execution_count": null,
      "outputs": [
        {
          "output_type": "stream",
          "name": "stdout",
          "text": [
            "lis -->   <class 'list'>\n",
            "1 \t-->  <class 'int'>\n",
            "1.1 \t-->  <class 'float'>\n",
            "True \t-->  <class 'bool'>\n",
            "String \t-->  <class 'str'>\n",
            "This is a string  \t-->  <class 'str'>\n"
          ]
        }
      ]
    },
    {
      "cell_type": "markdown",
      "source": [
        "<h2>2D Lists</h2>"
      ],
      "metadata": {
        "id": "_LjBwYfkk059"
      }
    },
    {
      "cell_type": "code",
      "source": [
        "l1 = [1,2,3]\n",
        "l2 = [4,5,6]\n",
        "l3 = [7,8,9]\n",
        "l4 = [l1,l2,l3]\n",
        "print(l4[0])\n",
        "print(l4[1])\n",
        "print(l4[2])\n",
        "\n",
        "print()\n",
        "for i in range(len(l4)): # using a loop to access a complete 2d list\n",
        "  print(f\"............. Sub elements of l4[{i}] .............\")\n",
        "  for j in range(len(l4[0])):\n",
        "    print(l4[i][j],end = \"  \")\n",
        "  print()\n",
        "\n",
        "l = [[1,2],[3],[[1,12,3],1]] # 3d list\n",
        "\n",
        "print(\"\\n\",l[2][0][2]) # 3d access to the list\n",
        "l = [[1,2],[3],   [  [1,12,  [3,1] ],  1]  ]\n",
        "print(\"\\n\",l[2][0][2][1]) # 4d access to the list"
      ],
      "metadata": {
        "colab": {
          "base_uri": "https://localhost:8080/"
        },
        "id": "KGQXfRGlk0VP",
        "outputId": "2a1106d5-dda6-473c-8793-9876edbb07ac"
      },
      "execution_count": null,
      "outputs": [
        {
          "output_type": "stream",
          "name": "stdout",
          "text": [
            "[1, 2, 3]\n",
            "[4, 5, 6]\n",
            "[7, 8, 9]\n",
            "\n",
            "............. Sub elements of l4[0] .............\n",
            "1  2  3  \n",
            "............. Sub elements of l4[1] .............\n",
            "4  5  6  \n",
            "............. Sub elements of l4[2] .............\n",
            "7  8  9  \n",
            "\n",
            " 3\n",
            "\n",
            " 1\n"
          ]
        }
      ]
    },
    {
      "cell_type": "markdown",
      "source": [
        "<h2>List Comprehension</h2>"
      ],
      "metadata": {
        "id": "PkYnAdKPpf4m"
      }
    },
    {
      "cell_type": "code",
      "source": [
        "#use to add data into the list.\n",
        "lis = [] # lets say we have to add even numbers to the list till range 1000\n",
        "# we cant add them via hardcoding so we will use a loop\n",
        "\n",
        "#rather then going with this approach\n",
        "for i in range(101):\n",
        "  if i%2 == 0:\n",
        "    lis.append(i)\n",
        "  else:\n",
        "    continue\n",
        "\n",
        "print(lis)\n",
        "# we can use list comprehension method.\n",
        "lis = [i for i in range(101) if i%2 != 0] # will add odd numbers til 101\n",
        "# the syntax it follows is [expression for item in iterable if condition] <-- not exactly the same, might need to verify it\n",
        "print(lis)\n",
        "\n",
        "\n",
        "# [ expression        for item in iterable        if condition ]\n",
        "#    ^                ^     ^         ^              ^\n",
        "#    |                |     |         |              |\n",
        "#  what to do     variable  |     where data     optional filter\n",
        "#                  name     |       comes from\n",
        "#                        REQUIRED"
      ],
      "metadata": {
        "colab": {
          "base_uri": "https://localhost:8080/"
        },
        "id": "FTl7dTo8pkdm",
        "outputId": "79f55d55-3472-483f-d047-11a94d359f44"
      },
      "execution_count": null,
      "outputs": [
        {
          "output_type": "stream",
          "name": "stdout",
          "text": [
            "[0, 2, 4, 6, 8, 10, 12, 14, 16, 18, 20, 22, 24, 26, 28, 30, 32, 34, 36, 38, 40, 42, 44, 46, 48, 50, 52, 54, 56, 58, 60, 62, 64, 66, 68, 70, 72, 74, 76, 78, 80, 82, 84, 86, 88, 90, 92, 94, 96, 98, 100]\n",
            "[1, 3, 5, 7, 9, 11, 13, 15, 17, 19, 21, 23, 25, 27, 29, 31, 33, 35, 37, 39, 41, 43, 45, 47, 49, 51, 53, 55, 57, 59, 61, 63, 65, 67, 69, 71, 73, 75, 77, 79, 81, 83, 85, 87, 89, 91, 93, 95, 97, 99]\n"
          ]
        }
      ]
    },
    {
      "cell_type": "markdown",
      "source": [
        "<h2>Challenge</h2>\n",
        "<h3>find the Total Population</h3>\n",
        "\n",
        "given a list of population census, find the total poulation.\n",
        "\n",
        "each element in the list represents a members in a family\n",
        "\n",
        "I = [ 4,6,5,8,9,3,2,4,5,4,3,2,3,4 ]\n"
      ],
      "metadata": {
        "id": "vZpZ65titKC7"
      }
    },
    {
      "cell_type": "code",
      "source": [
        "lis = [4,6,5,8,9,3,2,4,5,4,3,2,3,4]\n",
        "pop = 0\n",
        "\n",
        "for i in range(len(lis)):\n",
        "  pop = pop + lis[i]\n",
        "print(pop)\n",
        "# or we can\n",
        "# print(sum(lis))\n"
      ],
      "metadata": {
        "colab": {
          "base_uri": "https://localhost:8080/"
        },
        "id": "txvnoAggqBO6",
        "outputId": "a2aa65d5-5fa6-44ca-e1fc-3b6507b03a84"
      },
      "execution_count": null,
      "outputs": [
        {
          "output_type": "stream",
          "name": "stdout",
          "text": [
            "62\n"
          ]
        }
      ]
    },
    {
      "cell_type": "code",
      "source": [
        "nums = int(input(\"Enter how many numbers you want to enter: \"))\n",
        "lis = (input(\"Enter a number\").split())\n",
        "rem = int(input(\"Enter the number to remove\"))\n",
        "lis = [int(lis[i]) for i in range(len(lis))]\n",
        "for i in range(len(lis)):\n",
        "  if lis[i] == rem:\n",
        "    lis[i] = 'r'\n",
        "lis = ![i for i in range(len(lis)) if i == 'r']"
      ],
      "metadata": {
        "colab": {
          "base_uri": "https://localhost:8080/"
        },
        "id": "dpPkt5uzxjij",
        "outputId": "fa38fb59-7b54-4ead-e9b1-cc1cc31ee658"
      },
      "execution_count": null,
      "outputs": [
        {
          "name": "stdout",
          "output_type": "stream",
          "text": [
            "Enter how many numbers you want to enter: 5\n",
            "Enter a number1 2 3 4 3\n",
            "Enter the number to remove3\n"
          ]
        }
      ]
    },
    {
      "cell_type": "markdown",
      "source": [
        "## Tuples\n",
        "\n",
        "    1. Tuples are like lists but not mutable\n",
        "    2. We cant change them once created.\n",
        "    3. They are Iterable\n",
        "    4. Can be Hetrogenous"
      ],
      "metadata": {
        "id": "8MUYs5CW1BYa"
      }
    },
    {
      "cell_type": "code",
      "source": [
        "# we can define tuples just like lists but with round brackets\n",
        "l = [\"this\", \"is\", \"a\", \"list\"]\n",
        "t = (\"this\", \"is\", \"a\", \"tuple\")\n",
        "print(f\"{l} --> {type(l)}\")\n",
        "print(f\"{t} --> {type(t)}\")"
      ],
      "metadata": {
        "id": "0MfMRvUEHz1X",
        "outputId": "4a43af2b-a971-4b0e-c6fc-dcd475d9f8d3",
        "colab": {
          "base_uri": "https://localhost:8080/"
        }
      },
      "execution_count": null,
      "outputs": [
        {
          "output_type": "stream",
          "name": "stdout",
          "text": [
            "['this', 'is', 'a', 'list'] --> <class 'list'>\n",
            "('this', 'is', 'a', 'tuple') --> <class 'tuple'>\n"
          ]
        }
      ]
    },
    {
      "cell_type": "code",
      "source": [
        "# indexing is supported in tuples\n",
        "print(t[-1])\n",
        "\n",
        "# slicing is supported\n",
        "print(t[::-1])"
      ],
      "metadata": {
        "colab": {
          "base_uri": "https://localhost:8080/"
        },
        "id": "LApFa_NB192E",
        "outputId": "97053f33-3028-4c94-c5e4-7668868a4ac9"
      },
      "execution_count": null,
      "outputs": [
        {
          "output_type": "stream",
          "name": "stdout",
          "text": [
            "tuple\n",
            "('tuple', 'a', 'is', 'this')\n"
          ]
        }
      ]
    },
    {
      "cell_type": "code",
      "source": [
        "# can we change it: no its type error stating assignment does not work with tuples\n",
        "t.count('This'.lower())\n",
        "t.index('This'.lower())"
      ],
      "metadata": {
        "colab": {
          "base_uri": "https://localhost:8080/"
        },
        "id": "PshQjqt62YzQ",
        "outputId": "c1da43ac-b987-42d5-f4b4-7fa48a83c07b"
      },
      "execution_count": null,
      "outputs": [
        {
          "output_type": "execute_result",
          "data": {
            "text/plain": [
              "0"
            ]
          },
          "metadata": {},
          "execution_count": 14
        }
      ]
    },
    {
      "cell_type": "code",
      "source": [
        "# Creating a tupple\n",
        "t = (1,2,3) # <- is one way of creating it using square brackets\n",
        "l = [1,2,3]\n",
        "t1 = tuple(i for i in range(1,10) if i%2 == 0) # <- use any iterable within this function to create a tuple\n",
        "print(t)\n",
        "print(t1)\n",
        "tw = (2,)\n",
        "print(tw)\n",
        "t2=tuple(\"Name\")\n",
        "t3=tuple()\n",
        "print(t2)\n",
        "print(t3)\n"
      ],
      "metadata": {
        "colab": {
          "base_uri": "https://localhost:8080/"
        },
        "id": "uFud14ci3OSb",
        "outputId": "ed8a77e1-460b-4ed2-de51-62f635b386b5"
      },
      "execution_count": null,
      "outputs": [
        {
          "output_type": "stream",
          "name": "stdout",
          "text": [
            "(1, 2, 3)\n",
            "(2, 4, 6, 8)\n",
            "(2,)\n",
            "('N', 'a', 'm', 'e')\n",
            "()\n"
          ]
        }
      ]
    },
    {
      "cell_type": "code",
      "source": [
        "# Mutability\n",
        "\n",
        "t = ([1,2,3] , \"string\")\n",
        "t[0].append(4)\n",
        "print(t)\n",
        "# t[1] += \"ing\" will cause a type error\n",
        "# the reason this happens is the reference to a list doest change after a new assignment\n",
        "l = [1,2,3]\n",
        "print(id(l),\"-->\",l)\n",
        "l1= [\"this\", \"is\", \"a\", \"list\"]\n",
        "l.append(l1)\n",
        "print(id(l),\"-->\",l,\"\\n\")\n",
        "\n",
        "# where as in strings\n",
        "s = \"String\"\n",
        "print(id(s),\" --> \",s)\n",
        "\n",
        "s +=\"new string\"\n",
        "print(id(s),\" --> \",s)\n",
        "\n"
      ],
      "metadata": {
        "colab": {
          "base_uri": "https://localhost:8080/"
        },
        "id": "W4-tVhHQ5Bt-",
        "outputId": "fe2ca935-2a3a-4d3d-8602-3862f9577a4e"
      },
      "execution_count": null,
      "outputs": [
        {
          "output_type": "stream",
          "name": "stdout",
          "text": [
            "([1, 2, 3, 4], 'string')\n",
            "139395757479168 --> [1, 2, 3]\n",
            "139395757479168 --> [1, 2, 3, ['this', 'is', 'a', 'list']] \n",
            "\n",
            "139397178394992  -->  String\n",
            "139395769405952  -->  Stringnew string\n"
          ]
        }
      ]
    },
    {
      "cell_type": "code",
      "source": [
        "#Unpacking Tuples\n",
        "\n",
        "t = (1,2,3,4,5)\n",
        "a, b, c, d, e = t\n",
        "print(a,b,c,d,e)\n",
        "print(a,d,e,b,c)\n",
        "\n",
        "# returing a tuple is a way to return multiple variables from a single function"
      ],
      "metadata": {
        "colab": {
          "base_uri": "https://localhost:8080/"
        },
        "id": "Ea8vnXii64l1",
        "outputId": "710c2bf6-4f87-41a8-c0a1-5f61d53873bc"
      },
      "execution_count": null,
      "outputs": [
        {
          "output_type": "stream",
          "name": "stdout",
          "text": [
            "1 2 3 4 5\n",
            "1 4 5 2 3\n"
          ]
        }
      ]
    },
    {
      "cell_type": "code",
      "source": [
        "#Tuple Operations\n",
        "t = (1,1,1,2,3,4)\n",
        "print(f\"count of 1 = {t.count(1)}\")\n",
        "print(f\"index of first 1 = {t.index(1)}\")\n",
        "print(f\"index of first 2 = {t.index(2)}\")"
      ],
      "metadata": {
        "colab": {
          "base_uri": "https://localhost:8080/"
        },
        "id": "7Mwsxy8V76a2",
        "outputId": "c1a2f190-5a55-4c80-8ba2-ae45c315555f"
      },
      "execution_count": null,
      "outputs": [
        {
          "output_type": "stream",
          "name": "stdout",
          "text": [
            "count of 1 = 3\n",
            "index of first 1 = 0\n",
            "index of first 2 = 3\n"
          ]
        }
      ]
    },
    {
      "cell_type": "code",
      "source": [
        "# concatination\n",
        "t1 = (1,2,3,4)\n",
        "t2 = tuple(set(t + t1))\n",
        "print(t2)\n",
        "print(len(t2))\n",
        "print(t2 * 2)"
      ],
      "metadata": {
        "colab": {
          "base_uri": "https://localhost:8080/"
        },
        "id": "GWL8arc28V_t",
        "outputId": "55557859-1948-47ad-cb93-e5958206f576"
      },
      "execution_count": null,
      "outputs": [
        {
          "output_type": "stream",
          "name": "stdout",
          "text": [
            "(1, 2, 3, 4)\n",
            "4\n",
            "(1, 2, 3, 4, 1, 2, 3, 4)\n"
          ]
        }
      ]
    },
    {
      "cell_type": "code",
      "source": [
        "elem = 1\n",
        "tup = (2,3,4,5,6,7)\n",
        "if elem in tup:\n",
        "  print(\"is\")\n",
        "else:\n",
        "  print(\"not\")"
      ],
      "metadata": {
        "colab": {
          "base_uri": "https://localhost:8080/"
        },
        "id": "_4XhbgPl-LWs",
        "outputId": "05c7fc3d-6a3c-4fe0-a0b5-80f45a597082"
      },
      "execution_count": null,
      "outputs": [
        {
          "output_type": "stream",
          "name": "stdout",
          "text": [
            "not\n"
          ]
        }
      ]
    },
    {
      "cell_type": "code",
      "source": [
        "def odd_even(tup):\n",
        "    l = []\n",
        "    l1 = []\n",
        "    for i in range(len(tup)):\n",
        "        if i%2==0:\n",
        "            l.append(tup[i])\n",
        "        else:\n",
        "            l1.append(tup[i])\n",
        "    t1 = tuple(l)\n",
        "    t2 = tuple(l1)\n",
        "    print(\"Odd: \",t1)\n",
        "    print(\"Even: \",t2)\n",
        "tup = (10, 8, 5, 2, 10, 15, 10, 8, 5, 8, 8, 2)\n",
        "odd_even(tup)"
      ],
      "metadata": {
        "colab": {
          "base_uri": "https://localhost:8080/"
        },
        "id": "rm_26gCM_dat",
        "outputId": "526c60a9-b163-4347-8d2b-3e6124cdc0fb"
      },
      "execution_count": null,
      "outputs": [
        {
          "output_type": "stream",
          "name": "stdout",
          "text": [
            "Odd:  (10, 5, 10, 10, 5, 8)\n",
            "Even:  (8, 2, 15, 8, 8, 2)\n"
          ]
        }
      ]
    },
    {
      "cell_type": "code",
      "source": [
        "elements = (10, 20, 30, 40, 50, 60, 70, 80)\n",
        "print(elements[2:5], elements[:4], elements[3:100])"
      ],
      "metadata": {
        "colab": {
          "base_uri": "https://localhost:8080/"
        },
        "id": "edaqFJabAxKF",
        "outputId": "f2292dc9-ddac-44c8-cb00-c1c28e638dfe"
      },
      "execution_count": null,
      "outputs": [
        {
          "output_type": "stream",
          "name": "stdout",
          "text": [
            "(30, 40, 50) (10, 20, 30, 40) (40, 50, 60, 70, 80)\n"
          ]
        }
      ]
    },
    {
      "cell_type": "markdown",
      "source": [
        "## Dictionary\n",
        "\n",
        "      1. Most important data structure in python\n",
        "      2. has key: value pair form of data\n",
        "      3. they dont support indexing\n",
        "      4. data is accessed using keys.\n",
        "      5. dictinoaries are ordered."
      ],
      "metadata": {
        "id": "oVVpUagEDEiP"
      }
    },
    {
      "cell_type": "markdown",
      "source": [
        "### Creation in Dictionaries\n"
      ],
      "metadata": {
        "id": "aawkAfcNcYuk"
      }
    },
    {
      "cell_type": "code",
      "source": [
        "# in python older versions data within dictonaries was un ordered, it was not stored in the same order it was coded.\n",
        "# in version above 3.7 it is ordered.\n",
        "\n",
        "# creation\n",
        "# we can create a dictonary using curly braces\n",
        "d = {}\n",
        "print(d,\"is of type -->\",type(d))\n",
        "\n",
        "# we can also use dict()\n",
        "e = dict()\n",
        "print(e,\"is of type -->\",type(e))\n"
      ],
      "metadata": {
        "colab": {
          "base_uri": "https://localhost:8080/"
        },
        "id": "9h1_FbDpDob1",
        "outputId": "dda40fa5-5296-4923-aece-cbf24ac876e5"
      },
      "execution_count": null,
      "outputs": [
        {
          "output_type": "stream",
          "name": "stdout",
          "text": [
            "{} is of type --> <class 'dict'>\n",
            "{} is of type --> <class 'dict'>\n"
          ]
        }
      ]
    },
    {
      "cell_type": "code",
      "source": [
        "# creating a dictonary with data:\n",
        "d = {\n",
        "    'key': \"value\",\n",
        "    'key2': [\"we\",\"can\",\"give\",\"multiple\",\"values\",\"using\" ,\"a\" ,\"list\"],\n",
        "    'key3': \"all keys must be separated via commas at the end\"\n",
        "}\n",
        "print(d,\"\\n\")\n",
        "print(d['key'])\n",
        "print(d['key2'])\n",
        "print(d['key3'])"
      ],
      "metadata": {
        "colab": {
          "base_uri": "https://localhost:8080/"
        },
        "id": "7-GPKBvdFWw-",
        "outputId": "5ce8b461-ae5a-4b20-c6e8-d096e31463e6"
      },
      "execution_count": null,
      "outputs": [
        {
          "output_type": "stream",
          "name": "stdout",
          "text": [
            "{'key': 'value', 'key2': ['we', 'can', 'give', 'multiple', 'values', 'using', 'a', 'list'], 'key3': 'all keys must be separated via commas at the end'} \n",
            "\n",
            "value\n",
            "['we', 'can', 'give', 'multiple', 'values', 'using', 'a', 'list']\n",
            "all keys must be separated via commas at the end\n"
          ]
        }
      ]
    },
    {
      "cell_type": "code",
      "source": [
        "# using zip function:\n",
        "key = ['key','key1','key2']\n",
        "value = ['value',[1,2,3],[\"we\",\"can\",\"give\",\"multiple\",\"values\",\"using\" ,\"a\" ,\"list\"]]\n",
        "d = dict(zip(key,value))\n",
        "print(d,\"\\n\")\n",
        "print(d['key'])\n",
        "print(d['key1'])\n",
        "print(d['key2'])"
      ],
      "metadata": {
        "colab": {
          "base_uri": "https://localhost:8080/"
        },
        "id": "Id5uMvElRrWt",
        "outputId": "2fff58e9-a3b5-4352-a50d-f73237b2beb8"
      },
      "execution_count": null,
      "outputs": [
        {
          "output_type": "stream",
          "name": "stdout",
          "text": [
            "{'key': 'value', 'key1': [1, 2, 3], 'key2': ['we', 'can', 'give', 'multiple', 'values', 'using', 'a', 'list']} \n",
            "\n",
            "value\n",
            "[1, 2, 3]\n",
            "['we', 'can', 'give', 'multiple', 'values', 'using', 'a', 'list']\n"
          ]
        }
      ]
    },
    {
      "cell_type": "code",
      "source": [
        "# len\n",
        "print(len(d))\n",
        "print(len(d['key2']))"
      ],
      "metadata": {
        "colab": {
          "base_uri": "https://localhost:8080/"
        },
        "id": "0O4j6Fi3SSRQ",
        "outputId": "fbd62a4b-95fd-412a-b622-002f3bf8104f"
      },
      "execution_count": null,
      "outputs": [
        {
          "output_type": "stream",
          "name": "stdout",
          "text": [
            "3\n",
            "8\n"
          ]
        }
      ]
    },
    {
      "cell_type": "code",
      "source": [
        "# Accessing Dictionary Value\n",
        "# inexing is not possible with dictonaries\n",
        "# d[0] returns a key error.\n",
        "d[0]"
      ],
      "metadata": {
        "colab": {
          "base_uri": "https://localhost:8080/",
          "height": 176
        },
        "id": "E127dzgBSlFL",
        "outputId": "231b360e-45ad-4763-a344-5150dd6c8b00"
      },
      "execution_count": null,
      "outputs": [
        {
          "output_type": "error",
          "ename": "KeyError",
          "evalue": "0",
          "traceback": [
            "\u001b[0;31m---------------------------------------------------------------------------\u001b[0m",
            "\u001b[0;31mKeyError\u001b[0m                                  Traceback (most recent call last)",
            "\u001b[0;32m/tmp/ipython-input-97-2139967852.py\u001b[0m in \u001b[0;36m<cell line: 0>\u001b[0;34m()\u001b[0m\n\u001b[1;32m      2\u001b[0m \u001b[0;31m# inexing is not possible with dictonaries\u001b[0m\u001b[0;34m\u001b[0m\u001b[0;34m\u001b[0m\u001b[0m\n\u001b[1;32m      3\u001b[0m \u001b[0;31m# d[0] returns a key error.\u001b[0m\u001b[0;34m\u001b[0m\u001b[0;34m\u001b[0m\u001b[0m\n\u001b[0;32m----> 4\u001b[0;31m \u001b[0md\u001b[0m\u001b[0;34m[\u001b[0m\u001b[0;36m0\u001b[0m\u001b[0;34m]\u001b[0m\u001b[0;34m\u001b[0m\u001b[0;34m\u001b[0m\u001b[0m\n\u001b[0m",
            "\u001b[0;31mKeyError\u001b[0m: 0"
          ]
        }
      ]
    },
    {
      "cell_type": "code",
      "source": [
        "# t0 access something from a dictinoary we need to use keys\n",
        "print(d['key']\n",
        ")\n",
        "print(d['key1'])\n",
        "print(d['key2'])\n"
      ],
      "metadata": {
        "colab": {
          "base_uri": "https://localhost:8080/"
        },
        "id": "T5OyZ9FTS3HY",
        "outputId": "6c217b29-e304-4415-8a08-4be4a9b36bf6"
      },
      "execution_count": null,
      "outputs": [
        {
          "output_type": "stream",
          "name": "stdout",
          "text": [
            "value\n",
            "[1, 2, 3]\n",
            "['we', 'can', 'give', 'multiple', 'values', 'using', 'a', 'list']\n"
          ]
        }
      ]
    },
    {
      "cell_type": "code",
      "source": [
        "# we can use get function to reterive a keys values\n",
        "print(d.get(\"key1\"))\n",
        "print(d.get(\"key_not_in_dict\",)) # use get to avoid errors.\n",
        "print(d.get(\"key_not_in_dict\",\"return this message if key not found\")) # None is replaced by custom msg if key is not found"
      ],
      "metadata": {
        "colab": {
          "base_uri": "https://localhost:8080/"
        },
        "id": "zAR4awDSTMpD",
        "outputId": "457a7065-b354-439e-8b4e-3b31dc8a3893"
      },
      "execution_count": null,
      "outputs": [
        {
          "output_type": "stream",
          "name": "stdout",
          "text": [
            "[1, 2, 3]\n",
            "None\n",
            "return this message if key not found\n"
          ]
        }
      ]
    },
    {
      "cell_type": "markdown",
      "source": [
        "### Updation in Dictionaries\n",
        "\n",
        "\n",
        "\n",
        "\n",
        "\n",
        "\n",
        "\n",
        "\n"
      ],
      "metadata": {
        "id": "D34IZyiPcPmL"
      }
    },
    {
      "cell_type": "code",
      "source": [
        "# Updating a dictionary\n",
        "# we can update keys:\n",
        "# we can use update()\n",
        "fruit = {\n",
        "    'apple': 120,\n",
        "    'banana': 100,\n",
        "    'orange': 150,\n",
        "}\n",
        "# print(fruit)\n",
        "\n",
        "\n",
        "# we can update an exisiting key\n",
        "fruit['apple'] = {'1kg':180,'2kg':300}\n",
        "print(fruit['apple'])\n",
        "print(fruit['apple']['1kg'])\n",
        "print(fruit['apple']['2kg'])\n",
        "\n",
        "# we can add a new key\n",
        "fruit['guava'] = 0\n",
        "\n",
        "# we can add a new dictonary to exisiting\n",
        "new = {'leeche':400,'cherry':800,'grapes':200}\n",
        "fruit.update(new)\n",
        "fruit\n"
      ],
      "metadata": {
        "colab": {
          "base_uri": "https://localhost:8080/"
        },
        "id": "Ef7WYTbdTfhQ",
        "outputId": "3d5db549-b94a-4c18-b5fd-c088c6af0854"
      },
      "execution_count": null,
      "outputs": [
        {
          "output_type": "stream",
          "name": "stdout",
          "text": [
            "{'1kg': 180, '2kg': 300}\n",
            "180\n",
            "300\n"
          ]
        },
        {
          "output_type": "execute_result",
          "data": {
            "text/plain": [
              "{'apple': {'1kg': 180, '2kg': 300},\n",
              " 'banana': 100,\n",
              " 'orange': 150,\n",
              " 'guava': 0,\n",
              " 'leeche': 400,\n",
              " 'cherry': 800,\n",
              " 'grapes': 200}"
            ]
          },
          "metadata": {},
          "execution_count": 142
        }
      ]
    },
    {
      "cell_type": "markdown",
      "source": [
        "### Deletion In Dictionaries"
      ],
      "metadata": {
        "id": "f52sSVKCcKZZ"
      }
    },
    {
      "cell_type": "code",
      "source": [
        "# now how to delete data\n",
        "# we have methods like pop, popitem, del\n",
        "x ={}\n",
        "x.update(fruit)\n",
        "print(f\"grapes' in x: {'grapes' in x}\")\n",
        "\n",
        "print(\"x.pop('grapes') returns:\" ,x.pop('grapes')) # once poped the key is gone and no longer in the dictonary\n",
        "print(f\"grapes' in x: {'grapes' in x}\")\n",
        "\n",
        "x.update(fruit)\n",
        "x.pop('peach','peach not found')"
      ],
      "metadata": {
        "colab": {
          "base_uri": "https://localhost:8080/",
          "height": 88
        },
        "id": "QNwGGqR_XXnx",
        "outputId": "920334a1-993e-4d6d-db39-4d293416577e"
      },
      "execution_count": null,
      "outputs": [
        {
          "output_type": "stream",
          "name": "stdout",
          "text": [
            "grapes' in x: True\n",
            "x.pop('grapes') returns: 200\n",
            "grapes' in x: False\n"
          ]
        },
        {
          "output_type": "execute_result",
          "data": {
            "text/plain": [
              "'peach not found'"
            ],
            "application/vnd.google.colaboratory.intrinsic+json": {
              "type": "string"
            }
          },
          "metadata": {},
          "execution_count": 176
        }
      ]
    },
    {
      "cell_type": "code",
      "source": [
        "# popitem\n",
        "x.update(fruit)\n",
        "# pop item removes the last pair in a dictionary and returns the tuple\n",
        "tup = ()\n",
        "tup = x.popitem()\n",
        "print(\"tup:\",tup,\"type(tup):\",type(tup))\n",
        "print()\n",
        "print(x)\n",
        "#each time x.popitem()"
      ],
      "metadata": {
        "colab": {
          "base_uri": "https://localhost:8080/"
        },
        "id": "e8_bPJMNZXsA",
        "outputId": "3f4df523-0d6f-4d6e-c990-5a4ba630bb65"
      },
      "execution_count": null,
      "outputs": [
        {
          "output_type": "stream",
          "name": "stdout",
          "text": [
            "tup: ('grapes', 200) type(tup): <class 'tuple'>\n",
            "\n",
            "{'apple': {'1kg': 180, '2kg': 300}, 'banana': 100, 'orange': 150, 'guava': 0, 'leeche': 400, 'cherry': 800}\n"
          ]
        }
      ]
    },
    {
      "cell_type": "code",
      "source": [
        "# del is not dict specific method, i just deletes an object, what every it is\n",
        "del x\n",
        "# print(x) now returns a NameError\n"
      ],
      "metadata": {
        "id": "-lFxZGANaxZj"
      },
      "execution_count": null,
      "outputs": []
    },
    {
      "cell_type": "markdown",
      "source": [
        "### Iteration In Dictionaries"
      ],
      "metadata": {
        "id": "FHs6W9K_cDms"
      }
    },
    {
      "cell_type": "code",
      "source": [
        "# how to iterate in dictionaries:\n",
        "# use a loop\n",
        "for i in new:\n",
        "  print(f\"{i} : {new[i]}\")"
      ],
      "metadata": {
        "colab": {
          "base_uri": "https://localhost:8080/"
        },
        "id": "10_XXmJAbGQW",
        "outputId": "2eae60f2-e538-496a-8ffc-35ebd9dde83e"
      },
      "execution_count": null,
      "outputs": [
        {
          "output_type": "stream",
          "name": "stdout",
          "text": [
            "leeche : 400\n",
            "cherry : 800\n",
            "grapes : 200\n",
            "apple : {'1kg': 180, '2kg': 300}\n",
            "banana : 100\n",
            "orange : 150\n",
            "guava : 150\n"
          ]
        }
      ]
    },
    {
      "cell_type": "code",
      "source": [
        "# use dict.items()\n",
        "for key,value in new.items():\n",
        "  print(f\"{key}:{value}\")"
      ],
      "metadata": {
        "colab": {
          "base_uri": "https://localhost:8080/"
        },
        "id": "HJHTHJggdfeE",
        "outputId": "f4d22332-fbf4-46e7-ec9b-262800f766e1"
      },
      "execution_count": null,
      "outputs": [
        {
          "output_type": "stream",
          "name": "stdout",
          "text": [
            "leeche:400\n",
            "cherry:800\n",
            "grapes:200\n",
            "apple:{'1kg': 180, '2kg': 300}\n",
            "banana:100\n",
            "orange:150\n",
            "guava:150\n"
          ]
        }
      ]
    },
    {
      "cell_type": "code",
      "source": [
        "# other methods like keys values items\n",
        "new.keys() # returns all the keys"
      ],
      "metadata": {
        "colab": {
          "base_uri": "https://localhost:8080/"
        },
        "id": "UuPY0DGoeN1S",
        "outputId": "4cd68e9c-8600-417d-8c84-bd1515b80194"
      },
      "execution_count": null,
      "outputs": [
        {
          "output_type": "execute_result",
          "data": {
            "text/plain": [
              "dict_keys(['leeche', 'cherry', 'grapes', 'apple', 'banana', 'orange', 'guava'])"
            ]
          },
          "metadata": {},
          "execution_count": 187
        }
      ]
    },
    {
      "cell_type": "code",
      "source": [
        "new.values() # return all the values"
      ],
      "metadata": {
        "colab": {
          "base_uri": "https://localhost:8080/"
        },
        "id": "fRYpOKD-eXV9",
        "outputId": "515855be-cb3c-4ab1-abb7-b6c516a9d54a"
      },
      "execution_count": null,
      "outputs": [
        {
          "output_type": "execute_result",
          "data": {
            "text/plain": [
              "dict_values([400, 800, 200, {'1kg': 180, '2kg': 300}, 100, 150, 150])"
            ]
          },
          "metadata": {},
          "execution_count": 188
        }
      ]
    },
    {
      "cell_type": "code",
      "source": [
        "new1 =new.copy() # makes a copy of existing dict\n",
        "new2 = new\n",
        "print(f\"new id : {id(new)} new1 id : {id(new1)}\") # different reference\n",
        "print(f\"new id : {id(new)} new2 id : {id(new2)}\") # same reference"
      ],
      "metadata": {
        "colab": {
          "base_uri": "https://localhost:8080/"
        },
        "id": "wzdBPJvHednK",
        "outputId": "6af4c878-95bf-48dd-fc36-6efb6990966a"
      },
      "execution_count": null,
      "outputs": [
        {
          "output_type": "stream",
          "name": "stdout",
          "text": [
            "new id : 139395755737984 new1 id : 139395758660928\n",
            "new id : 139395755737984 new1 id : 139395755737984\n"
          ]
        }
      ]
    },
    {
      "cell_type": "code",
      "source": [
        "new1.clear() # removes everything from new without deleting it\n",
        "print(new1)"
      ],
      "metadata": {
        "colab": {
          "base_uri": "https://localhost:8080/"
        },
        "id": "2n7ZkSp_fLbM",
        "outputId": "5957089a-cf8f-490e-f6fb-4628a373fb6d"
      },
      "execution_count": null,
      "outputs": [
        {
          "output_type": "stream",
          "name": "stdout",
          "text": [
            "{}\n"
          ]
        }
      ]
    },
    {
      "cell_type": "markdown",
      "source": [
        "### Challenge: Find Frequency of Characters in a String"
      ],
      "metadata": {
        "id": "lrq5yLOKf5a_"
      }
    },
    {
      "cell_type": "code",
      "source": [
        "s = input(\"Enter a String: \".lower())\n",
        "freq = {}\n",
        "for i in s:\n",
        "  if i != \" \":\n",
        "    if i in freq:\n",
        "      freq[i] += 1\n",
        "    else:\n",
        "      freq[i] = 1\n",
        "  else:\n",
        "    continue\n",
        "print(freq)"
      ],
      "metadata": {
        "colab": {
          "base_uri": "https://localhost:8080/"
        },
        "id": "ZqgMBqCnfbLX",
        "outputId": "a3fb54c9-54c9-4096-ae90-2055638adcac"
      },
      "execution_count": null,
      "outputs": [
        {
          "output_type": "stream",
          "name": "stdout",
          "text": [
            "enter a string: this is a string\n",
            "{'t': 2, 'h': 1, 'i': 3, 's': 3, 'a': 1, 'r': 1, 'n': 1, 'g': 1}\n"
          ]
        }
      ]
    },
    {
      "cell_type": "markdown",
      "source": [
        "## Sets\n",
        "\n",
        "        1. are unique collections\n",
        "        2. are unindexed\n",
        "        3. are mutable\n",
        "        4. are iterable?\n",
        "        5. are unordered\n"
      ],
      "metadata": {
        "id": "nbV9R0M0xvGk"
      }
    },
    {
      "cell_type": "code",
      "source": [
        "s = set([1,2,3,4,5,5]) # either use set( function that takes an iterable as argument)\n",
        "print(f\"{s} ---> {type(s)}\")# covnerts it into a set, values are unique dont repeat themselves."
      ],
      "metadata": {
        "colab": {
          "base_uri": "https://localhost:8080/"
        },
        "id": "Q3U3qBdAyRRp",
        "outputId": "e1689899-edce-4758-b245-7f131719b257"
      },
      "execution_count": null,
      "outputs": [
        {
          "output_type": "stream",
          "name": "stdout",
          "text": [
            "{1, 2, 3, 4, 5} ---> <class 'set'>\n"
          ]
        }
      ]
    },
    {
      "cell_type": "code",
      "source": [
        "s = {1,2,3,4,5,5} # can be created using parenthisis, it is from where, keys in dict inherit thier \"unique\" charateristic froms ets.\n",
        "print(f\"{s} ---> {type(s)}\")"
      ],
      "metadata": {
        "colab": {
          "base_uri": "https://localhost:8080/"
        },
        "id": "td6evr1tzHvJ",
        "outputId": "e1cb42cf-2f49-4f1d-cdce-a5dbe1e07894"
      },
      "execution_count": null,
      "outputs": [
        {
          "output_type": "stream",
          "name": "stdout",
          "text": [
            "{1, 2, 3, 4, 5} ---> <class 'set'>\n"
          ]
        }
      ]
    },
    {
      "cell_type": "code",
      "source": [
        "s = {} # this creates a dictionary not a set.\n",
        "print(f\"{s} ---> {type(s)}\")\n",
        "s = set() # use this to create an empty set if ever needed.\n",
        "print(f\"{s} ---> {type(s)}\")"
      ],
      "metadata": {
        "colab": {
          "base_uri": "https://localhost:8080/"
        },
        "id": "4B5ulCZmz2r9",
        "outputId": "12fad23a-39f4-407b-ff79-299da5fe12e8"
      },
      "execution_count": null,
      "outputs": [
        {
          "output_type": "stream",
          "name": "stdout",
          "text": [
            "{} ---> <class 'dict'>\n",
            "set() ---> <class 'set'>\n"
          ]
        }
      ]
    },
    {
      "cell_type": "code",
      "source": [
        "s = {1,2,3,4,5,5}\n",
        "for i in s:\n",
        "  pass\n",
        "#  s[i]  throws an error, since sets are not indexable\n",
        "# either print them, or convert them to list to iterate them.itertion is possible but indexing is not"
      ],
      "metadata": {
        "id": "e4GLwhIq0N2Z"
      },
      "execution_count": null,
      "outputs": []
    },
    {
      "cell_type": "markdown",
      "source": [
        "### Updation\n"
      ],
      "metadata": {
        "id": "q-Hifc2__-cF"
      }
    },
    {
      "cell_type": "code",
      "source": [
        "# can be done via add or update\n",
        "s = {1,2,3,4,5}\n",
        "print(f\"s = {s}\")\n",
        "s.add(8) # adds to the end of the set. use when only 1 addition needed\n",
        "print(f\"s = {s}\")"
      ],
      "metadata": {
        "colab": {
          "base_uri": "https://localhost:8080/"
        },
        "id": "jrnCjczr_9z1",
        "outputId": "469da732-327a-4246-b3f4-ae13efc70fca"
      },
      "execution_count": null,
      "outputs": [
        {
          "output_type": "stream",
          "name": "stdout",
          "text": [
            "s = {1, 2, 3, 4, 5}\n",
            "s = {1, 2, 3, 4, 5, 8}\n"
          ]
        }
      ]
    },
    {
      "cell_type": "code",
      "source": [
        "# update(iterable)\n",
        "l = [1,2,3,4]\n",
        "s = {5,6,7,8}\n",
        "print(f\"s = {s}\")\n",
        "s.update(l)\n",
        "print(f\"s = {s}\")"
      ],
      "metadata": {
        "colab": {
          "base_uri": "https://localhost:8080/"
        },
        "id": "r8p3KLisNkcI",
        "outputId": "9943fb4a-f7ea-45b3-8837-2233c87b2fcb"
      },
      "execution_count": null,
      "outputs": [
        {
          "output_type": "stream",
          "name": "stdout",
          "text": [
            "s = {8, 5, 6, 7}\n",
            "s = {1, 2, 3, 4, 5, 6, 7, 8}\n"
          ]
        }
      ]
    },
    {
      "cell_type": "markdown",
      "source": [
        "### Deletion\n"
      ],
      "metadata": {
        "id": "WCfGu8-4WFHI"
      }
    },
    {
      "cell_type": "code",
      "source": [
        "# deletion, pop and remove\n",
        "s = {1001, 99, 1, 9999, 3000}"
      ],
      "metadata": {
        "id": "Tt6PT5zEWGg8"
      },
      "execution_count": null,
      "outputs": []
    },
    {
      "cell_type": "code",
      "source": [
        "for i in list(s):\n",
        "  print(f\"s = {s}, s.pop() --> {s.pop()}\")  # Arbitrary means any element chosen without a fixed rule or guarantee.\n",
        "  #It is not random, and it is not predictable — just not specified"
      ],
      "metadata": {
        "colab": {
          "base_uri": "https://localhost:8080/"
        },
        "id": "lQlER7PoWyCs",
        "outputId": "92b0c247-8c66-4cb1-c531-9e490bc27c3d"
      },
      "execution_count": null,
      "outputs": [
        {
          "output_type": "stream",
          "name": "stdout",
          "text": [
            "s = {1, 99, 3000, 1001, 9999}, s.pop() --> 1\n",
            "s = {99, 3000, 1001, 9999}, s.pop() --> 99\n",
            "s = {3000, 1001, 9999}, s.pop() --> 3000\n",
            "s = {1001, 9999}, s.pop() --> 1001\n",
            "s = {9999}, s.pop() --> 9999\n"
          ]
        }
      ]
    },
    {
      "cell_type": "code",
      "source": [
        "#we can also use remove to specify what we want gone from the set\n",
        "s = {1001, 99, 1, 9999, 3000}\n",
        "s.remove(1001)\n",
        "print(f\" s = {s}\")"
      ],
      "metadata": {
        "colab": {
          "base_uri": "https://localhost:8080/"
        },
        "id": "yiSquOjyYMXx",
        "outputId": "d88c83b5-3eb7-4881-feea-45c49fef8229"
      },
      "execution_count": null,
      "outputs": [
        {
          "output_type": "stream",
          "name": "stdout",
          "text": [
            " s = {1, 99, 3000, 9999}\n"
          ]
        }
      ]
    },
    {
      "cell_type": "markdown",
      "source": [
        "### Union Intersection and Difference in Sets\n"
      ],
      "metadata": {
        "id": "5-TD9O1XaGFt"
      }
    },
    {
      "cell_type": "code",
      "source": [
        "s1 = {1001, 99, 1, 9999, 3000}\n",
        "s2 = {3001, 99, 1, 1999, 4000}\n",
        "print(s1.intersection(s2)) # returns the common in both"
      ],
      "metadata": {
        "colab": {
          "base_uri": "https://localhost:8080/"
        },
        "id": "Nq2dkLbXaH47",
        "outputId": "99543ded-da7a-46cf-e46c-481d31103e62"
      },
      "execution_count": null,
      "outputs": [
        {
          "output_type": "stream",
          "name": "stdout",
          "text": [
            "{1, 99}\n"
          ]
        }
      ]
    },
    {
      "cell_type": "code",
      "source": [
        "s1 = {1001, 99, 1, 9999, 3000}\n",
        "s2 = {3001, 99, 1, 1999, 4000}\n",
        "print(s1.union(s2)) # returns the combination of both"
      ],
      "metadata": {
        "colab": {
          "base_uri": "https://localhost:8080/"
        },
        "id": "3zoQVG8WiSHF",
        "outputId": "50dd13bf-2f6e-4b06-bf07-84873984a8b5"
      },
      "execution_count": null,
      "outputs": [
        {
          "output_type": "stream",
          "name": "stdout",
          "text": [
            "{4000, 1, 99, 1001, 9999, 1999, 3000, 3001}\n"
          ]
        }
      ]
    },
    {
      "cell_type": "code",
      "source": [
        "s1 = {1001, 99, 1, 9999, 3000}\n",
        "s2 = {3001, 99, 1, 1999, 4000}\n",
        "print(s1.difference(s2)) # removes the common, returns the rest"
      ],
      "metadata": {
        "colab": {
          "base_uri": "https://localhost:8080/"
        },
        "id": "3IYM6Ibfia4L",
        "outputId": "f9cd6746-661f-427f-ae0b-784395347878"
      },
      "execution_count": null,
      "outputs": [
        {
          "output_type": "stream",
          "name": "stdout",
          "text": [
            "{3000, 1001, 9999}\n"
          ]
        }
      ]
    },
    {
      "cell_type": "markdown",
      "source": [
        "### Challenge, Find the Unique Words\n"
      ],
      "metadata": {
        "id": "1C3EBXiBizVP"
      }
    },
    {
      "cell_type": "code",
      "source": [
        "s1 = {\"this\",\"is\",\"a\",\"joke\"}\n",
        "s2 = {\"this\", \"is\", \"not\", \"a\", \"joke\"}\n",
        "print(f\"{s1} - {s2} U {s2} - {s1}\")\n",
        "print(\"\\n\")\n",
        "print(f\"{(s1.difference(s2))} U {s2.difference(s1)}\",end = \" ---> \")\n",
        "print((s1.difference(s2)).union(s2.difference(s1)))\n",
        "\n",
        "# or just use symmetric difference print(s1 ^ s2) or s1.symmetric_difference(s2)\n",
        "\n"
      ],
      "metadata": {
        "colab": {
          "base_uri": "https://localhost:8080/"
        },
        "id": "15LTKo1Yi11d",
        "outputId": "a565094e-6bc0-4195-9e22-aa78b06d4426"
      },
      "execution_count": null,
      "outputs": [
        {
          "output_type": "stream",
          "name": "stdout",
          "text": [
            "{'this', 'is', 'a', 'joke'} - {'this', 'is', 'a', 'not', 'joke'} U {'this', 'is', 'a', 'not', 'joke'} - {'this', 'is', 'a', 'joke'}\n",
            "\n",
            "\n",
            "set() U {'not'} ---> {'not'}\n"
          ]
        },
        {
          "output_type": "execute_result",
          "data": {
            "text/plain": [
              "{'not'}"
            ]
          },
          "metadata": {},
          "execution_count": 74
        }
      ]
    },
    {
      "cell_type": "code",
      "source": [
        "sets = {3, 4, 5}\n",
        "sets = sets.union({1, 2, 3})\n",
        "print(sets)"
      ],
      "metadata": {
        "colab": {
          "base_uri": "https://localhost:8080/"
        },
        "id": "ZSlhClE9mAkS",
        "outputId": "11e42dd8-560c-4ba5-c4a9-68c4f58198b9"
      },
      "execution_count": null,
      "outputs": [
        {
          "output_type": "stream",
          "name": "stdout",
          "text": [
            "{1, 2, 3, 4, 5}\n"
          ]
        }
      ]
    },
    {
      "cell_type": "markdown",
      "source": [
        "## Functions\n",
        "\n",
        "        Functions are user defined piece of code, only executes when called by the user, in code, or in another function.\n",
        "\n",
        "        It is reusebale piece of code which reduces redundancy and helps avoid errors in the code\n",
        "\n",
        "        Makes code more managaebale and organzied\n",
        "\n",
        "        Functions have two types.\n",
        "\n",
        "        1. User defined\n",
        "        2. Built in"
      ],
      "metadata": {
        "id": "B1w8ON1hFAW9"
      }
    },
    {
      "cell_type": "markdown",
      "source": [
        "### Defining a Function\n"
      ],
      "metadata": {
        "id": "mAy4dEAVUbLs"
      }
    },
    {
      "cell_type": "code",
      "source": [
        "# defining is def followed by function name which then passes a set of arguments\n",
        "def funcName (arguments=0):\n",
        "\n",
        "  #this here is functions body. whatever is placed here will repeat itself.\n",
        "  print(\"Hello Function!\",arguments)\n",
        "\n",
        "# any function built in or user defined needs a triger, refered to as calling the function, or function call\n",
        "funcName() # this is  a way to call a function\n",
        "\n",
        "# function also have a type, they are also treated as object, if defined by users.\n",
        "print(type(funcName))\n",
        "type(funcName)\n"
      ],
      "metadata": {
        "colab": {
          "base_uri": "https://localhost:8080/"
        },
        "id": "0UhcwQyMFCgJ",
        "outputId": "1c9535a9-65ed-4b6b-db87-f980a8c1efba"
      },
      "execution_count": null,
      "outputs": [
        {
          "output_type": "stream",
          "name": "stdout",
          "text": [
            "Hello Function! 0\n",
            "<class 'function'>\n"
          ]
        },
        {
          "output_type": "execute_result",
          "data": {
            "text/plain": [
              "function"
            ]
          },
          "metadata": {},
          "execution_count": 14
        }
      ]
    },
    {
      "cell_type": "markdown",
      "source": [
        "### Docstrings\n",
        "\n",
        "\n"
      ],
      "metadata": {
        "id": "K8ORTvCxV-Zj"
      }
    },
    {
      "cell_type": "code",
      "source": [
        "def func (arguments=0):\n",
        "  \"\"\"\n",
        "  this is function docstring\n",
        "  u can elabrate what parameters are\n",
        "  and what is expected output\n",
        "  anything here is shown in the docstrings of the function\n",
        "  \"\"\"\n",
        "\n",
        "  pass\n",
        "help(func) # use this when u want to list docstrins\n"
      ],
      "metadata": {
        "colab": {
          "base_uri": "https://localhost:8080/"
        },
        "id": "m1Eg0g15WBMr",
        "outputId": "39649d95-0b38-4a53-fb3b-33421a683c21"
      },
      "execution_count": null,
      "outputs": [
        {
          "output_type": "stream",
          "name": "stdout",
          "text": [
            "Help on function func in module __main__:\n",
            "\n",
            "func(arguments=0)\n",
            "    this is function docstring\n",
            "    u can elabrate what parameters are\n",
            "    and what is expected output\n",
            "    anything here is shown in the docstrings of the function\n",
            "\n"
          ]
        }
      ]
    },
    {
      "cell_type": "markdown",
      "source": [
        "### Parameters"
      ],
      "metadata": {
        "id": "nX7GQGDzbgwI"
      }
    },
    {
      "cell_type": "code",
      "source": [
        "# parameters are placeholders in a function, they are replaced by actual values while function is called\n",
        "# during function call they are called arguments.\n",
        "# at the time of defineing, they are parameters.\n",
        "\n",
        "def func (a,b): # a and b here are arguments which will be replaced by actual value,\n",
        "  return a+b\n",
        "\n",
        "print(func(1,2)) # they are argument here\n",
        "# we cant miss an argument untill there is a default value given to the place holder.\n",
        "\n",
        "# print(func(1))  <-- calling it without a default value raises a TypeError, func() missing 1 required positional argument: 'b'\n",
        "\n",
        "def func (a = 1,b = 2): # we give default values to both. in case any one is missing\n",
        "  return a+b\n",
        "  print(\"will not be executed\")\n",
        "print(func())  # <-- no error if any one is missing"
      ],
      "metadata": {
        "colab": {
          "base_uri": "https://localhost:8080/"
        },
        "id": "UpUNNDMydKUd",
        "outputId": "e9b2f852-dd77-4ffb-adbd-881be0d3bde3"
      },
      "execution_count": null,
      "outputs": [
        {
          "output_type": "stream",
          "name": "stdout",
          "text": [
            "3\n",
            "3\n"
          ]
        }
      ]
    },
    {
      "cell_type": "markdown",
      "source": [
        "### Return"
      ],
      "metadata": {
        "id": "bs5IxvBQlwXj"
      }
    },
    {
      "cell_type": "code",
      "source": [
        "# this is what ends a function\n",
        "# it returns a value/ an object to the point from where it is called.\n",
        "# returns the flow back to the point of call\n",
        "# the code after return is not exected\n",
        "# if there is no return, assigning a function's result to a variable, assigns None  instead of a value\n",
        "\n",
        "print(func(1,5))\n",
        "\n",
        "# a function cal also return multiple variables.\n",
        "def intro(a,b,c):\n",
        "  return a,b,c\n",
        "a ,b ,c = intro(1,\"string\",3.0)\n",
        "print(a,b,c)\n",
        "print(type(a))\n",
        "print(type(b),\"\\n\",type(c))\n",
        "\n",
        "d = intro(1,\"string\",3.0)\n",
        "print(d,type(d))\n"
      ],
      "metadata": {
        "colab": {
          "base_uri": "https://localhost:8080/"
        },
        "id": "kpULJ0iAlyDM",
        "outputId": "7a3948c7-e9c1-42d2-fe56-4d5c5f46054a"
      },
      "execution_count": null,
      "outputs": [
        {
          "output_type": "stream",
          "name": "stdout",
          "text": [
            "6\n",
            "1 string 3.0\n",
            "<class 'int'>\n",
            "<class 'str'> \n",
            " <class 'float'>\n",
            "(1, 'string', 3.0) <class 'tuple'>\n"
          ]
        }
      ]
    },
    {
      "cell_type": "markdown",
      "source": [
        "### Scope of Variables"
      ],
      "metadata": {
        "id": "532HCQoXpWiF"
      }
    },
    {
      "cell_type": "code",
      "source": [
        "# Types of Variable\n",
        "# global / local\n",
        "# global accessible everywhere. as if i define a variable in the first cell of the notebook, and read it here\n",
        "print(global_var)\n",
        "\n",
        "# a local variable is the one confined within a scope lets say we define a var inside function:\n",
        "def func (a):\n",
        "  prod = a * a\n",
        "  return prod\n",
        "\n",
        "# print(prod) # <--- prod here is undefined and raises a nameerror"
      ],
      "metadata": {
        "colab": {
          "base_uri": "https://localhost:8080/"
        },
        "id": "84XY-_O1paXs",
        "outputId": "1defbca1-29f8-47eb-e389-28dc3789f99a"
      },
      "execution_count": null,
      "outputs": [
        {
          "output_type": "stream",
          "name": "stdout",
          "text": [
            "this is defined in the 1st cell of the notebook \n"
          ]
        }
      ]
    },
    {
      "cell_type": "code",
      "source": [
        "# using a global var inside a function\n",
        "count = 0\n",
        "def func(a,b):\n",
        "  for i in range(b):\n",
        "    global count\n",
        "    a *= 5\n",
        "    count += 1 # to change a global variable we need to specify it as global\n",
        "  print(a , count)\n",
        "func(10,5)"
      ],
      "metadata": {
        "colab": {
          "base_uri": "https://localhost:8080/"
        },
        "id": "23e4I6qJsh6P",
        "outputId": "e833588a-2ec5-4367-8924-0e219cd9e4a9"
      },
      "execution_count": null,
      "outputs": [
        {
          "output_type": "stream",
          "name": "stdout",
          "text": [
            "31250 5\n"
          ]
        }
      ]
    },
    {
      "cell_type": "code",
      "source": [
        "# multiple assignments\n",
        "a = 5 # global a\n",
        "def prina2():\n",
        "    print(a)\n",
        "def prina():\n",
        "  a = 20 # local a\n",
        "  prina2() # call to actual function, goes to defination, checks if there is an a, doesnt found within scope,\n",
        "  # checks one lvl up outside the defination, not the place it is called at. prints a = 5, global\n",
        "\n",
        "prina() # when called the print within the fuction searches for the a in side its scope. it prints the first one it finds.\n",
        "print(a) # checks only the outer scope. and finds global a\n",
        "prina2()"
      ],
      "metadata": {
        "colab": {
          "base_uri": "https://localhost:8080/"
        },
        "id": "piIibinpty4D",
        "outputId": "54787545-3185-4488-ad4c-59e77ee00033"
      },
      "execution_count": null,
      "outputs": [
        {
          "output_type": "stream",
          "name": "stdout",
          "text": [
            "5\n",
            "5\n",
            "5\n"
          ]
        }
      ]
    },
    {
      "cell_type": "markdown",
      "source": [
        "### Lambda Function"
      ],
      "metadata": {
        "id": "8m5WkSlw2wrE"
      }
    },
    {
      "cell_type": "code",
      "source": [
        "# is used as a name less function.\n",
        "#instead of proper defination we do this\n",
        "lambda a , b: print(a**b) # <-- is a short definatation, multiple ways to use a lamba function."
      ],
      "metadata": {
        "id": "OySxhv3c220a",
        "colab": {
          "base_uri": "https://localhost:8080/"
        },
        "outputId": "5c815411-27f4-4bba-d4c9-a53d8dcc91c3"
      },
      "execution_count": null,
      "outputs": [
        {
          "output_type": "execute_result",
          "data": {
            "text/plain": [
              "<function __main__.<lambda>(a, b)>"
            ]
          },
          "metadata": {},
          "execution_count": 7
        }
      ]
    },
    {
      "cell_type": "code",
      "source": [
        "(lambda a , b: print(a**b))(4,5)"
      ],
      "metadata": {
        "colab": {
          "base_uri": "https://localhost:8080/"
        },
        "id": "HfLYsuQdJtr8",
        "outputId": "ffea6cbd-4b39-4137-ce15-f2ed73a40511"
      },
      "execution_count": null,
      "outputs": [
        {
          "output_type": "stream",
          "name": "stdout",
          "text": [
            "1024\n"
          ]
        }
      ]
    },
    {
      "cell_type": "code",
      "source": [
        "func = lambda a , b: print(a**b)\n",
        "func(4,5)"
      ],
      "metadata": {
        "colab": {
          "base_uri": "https://localhost:8080/"
        },
        "id": "PzzcmgEpJzUB",
        "outputId": "9e01c941-135f-4c6f-f30e-1a2104a64a19"
      },
      "execution_count": null,
      "outputs": [
        {
          "output_type": "stream",
          "name": "stdout",
          "text": [
            "1024\n"
          ]
        }
      ]
    },
    {
      "cell_type": "code",
      "source": [
        "#using conditions in lamda function\n",
        "(lambda a,b: a if a>b else b)(4,5)\n",
        "# so from what i understood, lambda is just another notation to define functions, its just shorter, like arrow functions in javascript\n",
        "# its shorter and quicker to define function using lambda."
      ],
      "metadata": {
        "colab": {
          "base_uri": "https://localhost:8080/"
        },
        "id": "dUj35DgnU7ds",
        "outputId": "d47d454b-648a-45da-c6d5-eeb172b03cf7"
      },
      "execution_count": null,
      "outputs": [
        {
          "output_type": "execute_result",
          "data": {
            "text/plain": [
              "5"
            ]
          },
          "metadata": {},
          "execution_count": 12
        }
      ]
    },
    {
      "cell_type": "markdown",
      "source": [
        "### Challenge 1: Print Even Numbers\n",
        "\n",
        "      write a functions to print even numbers from the list.\n",
        "      input[1,2,3,4,5,6]\n",
        "      output 2 4 6"
      ],
      "metadata": {
        "id": "7RXysTwgWQRy"
      }
    },
    {
      "cell_type": "code",
      "source": [
        "def print_even(l):\n",
        "  for i in l:\n",
        "    if i%2==0:\n",
        "      print(i, end=\" \")\n",
        "    else:\n",
        "      continue\n",
        "inp = [1,2,3,4,5,6]\n",
        "print_even(inp)"
      ],
      "metadata": {
        "colab": {
          "base_uri": "https://localhost:8080/"
        },
        "id": "tEg1fTbFVHny",
        "outputId": "c0850df2-d837-4e5f-c035-4a7851aa17c3"
      },
      "execution_count": null,
      "outputs": [
        {
          "output_type": "stream",
          "name": "stdout",
          "text": [
            "2 4 6 "
          ]
        }
      ]
    },
    {
      "cell_type": "markdown",
      "source": [
        "### Challenge 2: Return List with Unique Numbers\n",
        "\n",
        "      write a functions that takes a list and returns a list with unique numbers\n",
        "      input[1,2,3,1,2,4]\n",
        "      output[1,2,3,4]"
      ],
      "metadata": {
        "id": "DzB4OplUnJKE"
      }
    },
    {
      "cell_type": "code",
      "source": [
        "def unique_num(l):\n",
        "  return list(set(l))\n",
        "l = [1,2,3,1,2,4]\n",
        "l = unique_num(l)\n",
        "print(l)"
      ],
      "metadata": {
        "colab": {
          "base_uri": "https://localhost:8080/"
        },
        "id": "2wxCNvXrnfYY",
        "outputId": "40f6a140-c8e2-42a9-c64e-5f678d3b6643"
      },
      "execution_count": null,
      "outputs": [
        {
          "output_type": "stream",
          "name": "stdout",
          "text": [
            "[1, 2, 3, 4]\n"
          ]
        }
      ]
    },
    {
      "cell_type": "markdown",
      "source": [
        "###Arguments Vs Parameters Vs Positional Arguments Vs Default Arguments\n",
        "      The placeholder values added while defining a function are Parameters\n",
        "\n",
        "      The actual values passed while calling a function are Arguments\n",
        "\n",
        "      Positional Arguments: when we define a function, we keep a certain order of parameters, and when\n",
        "      calling the function, the arguments must be passed in that same order — regardless of their\n",
        "      data type. Python will assign the first argument to the first parameter, the second to the second,\n",
        "      and so on, purely based on position\n",
        "\n",
        "      Default Arguments: a practice which can save positional argument errors, is while defining,\n",
        "      we can give a dummy value to are parameters, if at the time of calling, the values is somehow\n",
        "      missed the function uses default value for comutation and returns the result without\n",
        "      raising an error."
      ],
      "metadata": {
        "id": "zwiiAPXGudUV"
      }
    },
    {
      "cell_type": "code",
      "source": [
        "# Parameters: Defined inside the function definition\n",
        "def greet(name, age):  # 'name' and 'age' are parameters\n",
        "    print(f\"{name} is {age} years old.\")\n",
        "\n",
        "# Arguments: Actual values passed during the function call\n",
        "greet(\"Ali\", 25)  # \"Ali\" and 25 are arguments\n"
      ],
      "metadata": {
        "colab": {
          "base_uri": "https://localhost:8080/"
        },
        "id": "qZRrtPY-0wdg",
        "outputId": "5b9a9520-95d9-41bd-9f42-8a293b4a2e86"
      },
      "execution_count": null,
      "outputs": [
        {
          "output_type": "stream",
          "name": "stdout",
          "text": [
            "Ali is 25 years old.\n"
          ]
        }
      ]
    },
    {
      "cell_type": "code",
      "source": [
        "\n",
        "# Positional Arguments: Arguments are matched by their position in the function call\n",
        "def display_info(city, country):\n",
        "    print(f\"City: {city}\")\n",
        "    print(f\"Country: {country}\")\n",
        "\n",
        "print(\"\\nCorrect\")\n",
        "# Correct order of positional arguments\n",
        "display_info(\"Lahore\", \"Pakistan\")  # 'city' = Lahore, 'country' = Pakistan\n",
        "\n",
        "print(\"\\nIncorrect Logically\")\n",
        "# Incorrect order but still valid syntax-wise\n",
        "display_info(\"Pakistan\", \"Lahore\")  # 'city' = Pakistan, 'country' = Lahore (logically incorrect but no error)\n"
      ],
      "metadata": {
        "colab": {
          "base_uri": "https://localhost:8080/"
        },
        "id": "U1KE58Xhu2n7",
        "outputId": "1793ed90-1137-4ae2-a957-d12ea4e45856"
      },
      "execution_count": null,
      "outputs": [
        {
          "output_type": "stream",
          "name": "stdout",
          "text": [
            "\n",
            "Correct\n",
            "City: Lahore\n",
            "Country: Pakistan\n",
            "\n",
            "Incorrect Logically\n",
            "City: Pakistan\n",
            "Country: Lahore\n"
          ]
        }
      ]
    },
    {
      "cell_type": "code",
      "source": [
        "def greet(name=\"Zeeshan\",age=22): # make sure once you give a default value to name, which is in code before age,\n",
        "#you have to give it to every other parameter after name. or its an syntax error def greet(name=\"Zeeshan\",age):  <--- raises an syntax error def greet(name,age=22) <-- is valid\n",
        "# def greet(name,age=22,height) <-- is invalid.\n",
        "  print(f\"{name} is {age} years old.\")\n",
        "\n",
        "greet() # works with zero positional arguments\n"
      ],
      "metadata": {
        "colab": {
          "base_uri": "https://localhost:8080/"
        },
        "id": "yo1igkU-0y3Y",
        "outputId": "ca77cb09-afb8-4b94-cada-7794cbe7cb57"
      },
      "execution_count": null,
      "outputs": [
        {
          "output_type": "stream",
          "name": "stdout",
          "text": [
            "Zeeshan is 22 years old.\n"
          ]
        }
      ]
    },
    {
      "cell_type": "markdown",
      "source": [
        "### Arbitrary Arguments\n",
        "\n",
        "        1. when the number of arguments not defined\n",
        "        2. like we can pass multiple arguments to print function, without any defined limit\n",
        "        3. the values are being stored in tuple"
      ],
      "metadata": {
        "id": "5g9iZJZmyzTh"
      }
    },
    {
      "cell_type": "code",
      "source": [
        "def func(*args): # <-- right anything after the *, it shows different arguments being passed, separated by the comma.\n",
        "  print(args) # <-- args is now a tuple, anything it is will be printed as it is, no matter how many different things are passed\n",
        "func()\n",
        "func(None)\n",
        "func(2)\n",
        "func(2,3,4)\n",
        "func([2,3,4])\n"
      ],
      "metadata": {
        "colab": {
          "base_uri": "https://localhost:8080/"
        },
        "id": "dW3-iNtS8RFB",
        "outputId": "b6042037-cbc9-4bd8-df20-a4211a5141c1"
      },
      "execution_count": null,
      "outputs": [
        {
          "output_type": "stream",
          "name": "stdout",
          "text": [
            "()\n",
            "(None,)\n",
            "(2,)\n",
            "(2, 3, 4)\n",
            "([2, 3, 4],)\n"
          ]
        }
      ]
    },
    {
      "cell_type": "code",
      "source": [
        "def func(*args): # <-- right anything after the *, it shows different arguments being passed, separated by the comma.\n",
        "  for i in args:\n",
        "    print(i, end = \" \")\n",
        "  print()\n",
        "\n",
        "func()\n",
        "func(None)\n",
        "func(2)\n",
        "func(2,3,4)\n",
        "func([2,3,4])"
      ],
      "metadata": {
        "colab": {
          "base_uri": "https://localhost:8080/"
        },
        "id": "gYvylc1D-anZ",
        "outputId": "af367432-bbc1-4cda-d1f9-32f0e1b62fbb"
      },
      "execution_count": null,
      "outputs": [
        {
          "output_type": "stream",
          "name": "stdout",
          "text": [
            "\n",
            "None \n",
            "2 \n",
            "2 3 4 \n",
            "[2, 3, 4] \n"
          ]
        }
      ]
    },
    {
      "cell_type": "markdown",
      "source": [
        "### Keywords Arguments\n",
        "\n",
        "    1. variable number of keywod arguments\n",
        "    2. data is stored in a dictionary format"
      ],
      "metadata": {
        "id": "Mi9MQuCq-sOh"
      }
    },
    {
      "cell_type": "code",
      "source": [
        "def func(**kwargs): # <-- ** is the main thing, kwargs is just a general convention, ** tell that u can pass multiple keyworded arguments\n",
        "  print(kwargs)\n",
        "\n",
        "func() #<- returns an empty dictionary\n",
        "func(name = \"zeeshan\",age=25) #<- returns an dictionary"
      ],
      "metadata": {
        "colab": {
          "base_uri": "https://localhost:8080/"
        },
        "id": "HS9_QtiW-8QS",
        "outputId": "48b25ae3-d14e-4a91-a173-7e4fe6c6a653"
      },
      "execution_count": null,
      "outputs": [
        {
          "output_type": "stream",
          "name": "stdout",
          "text": [
            "{}\n",
            "{'name': 'zeeshan', 'age': 25}\n"
          ]
        }
      ]
    },
    {
      "cell_type": "code",
      "source": [
        "def func(**kwargs): # <-- ** is the main thing, kwargs is just a general convention, ** tell that u can pass multiple keyworded arguments\n",
        "\n",
        "  for k, v in kwargs.items():\n",
        "    print(f\"{k} = {v}\")\n",
        "\n",
        "\n",
        "func() #<- returns an empty dictionary\n",
        "func(name = \"zeeshan\",age=25) #<- returns an dictionary"
      ],
      "metadata": {
        "colab": {
          "base_uri": "https://localhost:8080/"
        },
        "id": "2MHyrBszAByE",
        "outputId": "9a24ea30-703c-4e66-c089-24c0c737352c"
      },
      "execution_count": null,
      "outputs": [
        {
          "output_type": "stream",
          "name": "stdout",
          "text": [
            "name = zeeshan\n",
            "age = 25\n"
          ]
        }
      ]
    },
    {
      "cell_type": "markdown",
      "source": [
        "### Using args and kwargs togather"
      ],
      "metadata": {
        "id": "LGcWQ1XhAzCg"
      }
    },
    {
      "cell_type": "code",
      "source": [
        "# following the same convention of defaut value are followed by non default we have args and kwards\n",
        "def func(*args,**kwargs):\n",
        "  for i in args:\n",
        "    print(i , end =  \" \")\n",
        "  for i in kwargs.values():\n",
        "    print(i ,  end =  \" \")\n",
        "\n",
        "\n",
        "# func(1,2,3,4,5,a=\"o\",e=\"i\",6) <-- raises an error\n",
        "func(1,2,3,4,5,a=\"o\",e=\"i\")\n",
        "# note: sinc pre defined functions follow the *args,**kwargs order, thats why default follow non default\n",
        "# ❌ This will raise a SyntaxError:\n",
        "# def func(**kwargs, *args):\n",
        "#     pass\n",
        "\n",
        "# Correct order is:\n",
        "# def func(*args, **kwargs):"
      ],
      "metadata": {
        "colab": {
          "base_uri": "https://localhost:8080/"
        },
        "id": "IniNhjw2ABl6",
        "outputId": "c0c2e4db-76db-4e03-fcc7-d3beccb2d72f"
      },
      "execution_count": null,
      "outputs": [
        {
          "output_type": "stream",
          "name": "stdout",
          "text": [
            "1 2 3 4 5 o i "
          ]
        }
      ]
    },
    {
      "cell_type": "markdown",
      "source": [
        "## Object Oriented Programming OOP\n",
        "        has 4 pillars\n",
        "        1. Encapsulation\n",
        "        2. Abstraction\n",
        "        3. Polymorphism\n",
        "        4. Inheritance\n",
        "\n",
        "        and 2 main components\n",
        "        1. class\n",
        "        2. objects"
      ],
      "metadata": {
        "id": "pS_rq_b_qbYt"
      }
    },
    {
      "cell_type": "markdown",
      "source": [
        "        Classes have attributes and behaviors:\n",
        "        1. **Attributes**: The data or properties that belong to a class (e.g., name, age).\n",
        "        2. **Behaviors**: The actions the class can perform (methods/functions).\n",
        "\n",
        "        ### Abstraction\n",
        "        The process of hiding unnecessary details and showing only essential information to the user.\n",
        "\n",
        "        ### Inheritance\n",
        "        Creating a new class from an existing class.  \n",
        "        The original class is the **parent (base)** class, and the new class is the **child (derived)** class.  \n",
        "        Example: A `Shape` class → `Circle` and `Square` as child classes.\n",
        "\n",
        "        ### Polymorphism\n",
        "        The ability of different classes to respond to the same method in different ways.  \n",
        "        Example: A method `draw()` might behave differently for a `Circle` and a `Square`.\n",
        "\n",
        "        ### Encapsulation\n",
        "        The concept of wrapping data (attributes) and methods (functions) into a single unit—typically a class.  \n",
        "        This helps in data hiding and protecting the internal state of the object.\n",
        "\n",
        "         "
      ],
      "metadata": {
        "id": "dAKHBUr1rK3l"
      }
    },
    {
      "cell_type": "markdown",
      "source": [
        "### Creating Classes and Objects"
      ],
      "metadata": {
        "id": "fIAil1a5uhfy"
      }
    },
    {
      "cell_type": "code",
      "source": [
        "class Car: # Creates a class named Car\n",
        "  pass\n",
        "\n",
        "car_object = Car() # creates an object of class Car.\n",
        "type(car_object)"
      ],
      "metadata": {
        "colab": {
          "base_uri": "https://localhost:8080/"
        },
        "id": "oHkhGU9XC5lx",
        "outputId": "bc2a1b9a-0bfa-4ccd-a7e0-b5888ccd7ff6"
      },
      "execution_count": null,
      "outputs": [
        {
          "output_type": "execute_result",
          "data": {
            "text/plain": [
              "__main__.Car"
            ]
          },
          "metadata": {},
          "execution_count": 2
        }
      ]
    },
    {
      "cell_type": "markdown",
      "source": [
        "### Constructor"
      ],
      "metadata": {
        "id": "j4vOqjBTwXMQ"
      }
    },
    {
      "cell_type": "code",
      "source": [
        "# methods which definbe the structure of an object, which work in creation of an object, or are called to create an object\n",
        "# it executes ehenever an object of a class is called.\n",
        "# defined inside a class\n",
        "class Car:\n",
        "\n",
        "  # we use __ double underscore or dunder followed by init as in initailize, pass an argument self and again dunder\n",
        "  def __init__(self): # self: it's a reference to the current instance of the class.\n",
        "    print(\"This always executes when an object of respective class is created\")\n",
        "\n",
        "\n",
        "# bmw = Car()\n",
        "\n",
        "# we can also assign different kind of properties to an object using constructor\n",
        "# for a car there are doors and brand and price.\n",
        "class Car:\n",
        "  def __init__(self, brand = \"\", doors  = 0, price = 0):\n",
        "    self.brand = brand\n",
        "    self.doors = doors\n",
        "    self.price = price\n",
        "bmw = Car()\n",
        "\n",
        "print(bmw.brand)\n",
        "print(bmw.doors)\n",
        "print(bmw.price)\n"
      ],
      "metadata": {
        "colab": {
          "base_uri": "https://localhost:8080/"
        },
        "id": "A7OxS6GVqaB-",
        "outputId": "3505bbcc-88c3-4ebb-ecaa-413f476d5f62"
      },
      "execution_count": null,
      "outputs": [
        {
          "output_type": "stream",
          "name": "stdout",
          "text": [
            "\n",
            "0\n",
            "0\n"
          ]
        }
      ]
    },
    {
      "cell_type": "markdown",
      "source": [
        "### Class Methods"
      ],
      "metadata": {
        "id": "qsy4MndBFoT9"
      }
    },
    {
      "cell_type": "code",
      "source": [
        "# classes do have some built in methods, yet we can create some methods of our own.\n",
        "\n",
        "# Built-in method: mro() – shows class resolution order\n",
        "print(Car.mro())  # [<class '__main__.Car'>, <class 'object'>]\n",
        "builtin = [x for x in dir(Car) if x.startswith(\"__\")]\n",
        "print(builtin)\n"
      ],
      "metadata": {
        "colab": {
          "base_uri": "https://localhost:8080/"
        },
        "id": "DGiAXNlKFlOM",
        "outputId": "db4f7710-fbcb-43b8-ddc0-63f562b5ce55"
      },
      "execution_count": null,
      "outputs": [
        {
          "output_type": "stream",
          "name": "stdout",
          "text": [
            "[<class '__main__.Car'>, <class 'object'>]\n",
            "['__class__', '__delattr__', '__dict__', '__dir__', '__doc__', '__eq__', '__format__', '__ge__', '__getattribute__', '__getstate__', '__gt__', '__hash__', '__init__', '__init_subclass__', '__le__', '__lt__', '__module__', '__ne__', '__new__', '__reduce__', '__reduce_ex__', '__repr__', '__setattr__', '__sizeof__', '__str__', '__subclasshook__', '__weakref__']\n"
          ]
        }
      ]
    },
    {
      "cell_type": "code",
      "source": [
        "# User defined methods\n",
        "#  Unlike constructors, we have to call these methods ourselves to invoke them.\n",
        "\n",
        "\n",
        "class Car:\n",
        "  def __init__(self, brand, doors, price): # These variables (brand, doors, price) are instance variables.\n",
        "                                          # Every object of the Car class will have its own copy of these.\n",
        "    self.brand = brand\n",
        "    self.doors = doors\n",
        "    self.price = price\n",
        "\n",
        "  def intro(self):\n",
        "    print(f\"This car comes from {self.brand}, has {self.doors} doors, and is priced at {self.price}$\")\n",
        "\n",
        "\n",
        "  def change_price(self,p):\n",
        "    old = self.price\n",
        "    self.price = p\n",
        "    print(f\"Price updated from {old} to {self.price}\")\n",
        "\n",
        "bmw = Car(\"BMW\",4,150000)\n",
        "\n",
        "bmw.intro()\n",
        "bmw.change_price(134000)\n",
        "\n",
        "user_def = [x for x in dir(Car) if  not x.startswith(\"__\")]\n",
        "print(user_def)\n"
      ],
      "metadata": {
        "colab": {
          "base_uri": "https://localhost:8080/"
        },
        "id": "Mmpiyz9aKNtA",
        "outputId": "2f3cc54e-3626-4c95-fa6e-b532d24fd0ad"
      },
      "execution_count": null,
      "outputs": [
        {
          "output_type": "stream",
          "name": "stdout",
          "text": [
            "This car comes from BMW, has 4 doors, and is priced at 150000$\n",
            "Price updated from 150000 to 134000\n",
            "['change_price', 'intro']\n"
          ]
        }
      ]
    },
    {
      "cell_type": "markdown",
      "source": [
        "### Class Variables"
      ],
      "metadata": {
        "id": "u3n5uIciLTJW"
      }
    },
    {
      "cell_type": "code",
      "source": [
        "# These are class variables shared across all instances.\n",
        "# Accessed using the class name (Car.population), not through self\n",
        "\n",
        "class Car:\n",
        "\n",
        "  population = 0\n",
        "  data = []\n",
        "\n",
        "\n",
        "  def __init__(self, name ,brand, doors, price): # all these variables will be for every instance or object created for class Car.\n",
        "    self.name = name\n",
        "    self.brand = brand\n",
        "    self.doors = doors\n",
        "    self.price = price\n",
        "    Car.population += 1 # increase when ever a new car is added.\n",
        "    Car.data.append(self.name)\n",
        "\n",
        "  def intro(self):\n",
        "    print(f\"This car comes from {self.brand}, has {self.doors} doors, and is priced at {self.price}$\")\n",
        "\n",
        "\n",
        "  def change_price(self,p):\n",
        "    old = self.price\n",
        "    self.price = p\n",
        "    print(f\"Price updated from {old} to {self.price}\")\n",
        "\n",
        "\n",
        "\n",
        "  @classmethod # used to define a method for class not objects.\n",
        "  def get_population(cls):\n",
        "    return cls.population\n",
        "\n",
        "\n",
        "\n",
        "bmw = Car(\"Z3\", \"BMW\", 4, 150000)\n",
        "merc = Car(\"CL300\", \"Mercedes\", 2, 160000)\n",
        "honda = Car(\"Civic\", \"Honda\", 4, 50000)\n",
        "\n",
        "# print(Car.population) # or define a function for a class as done above\n",
        "print(\"Total Cars Created:\", Car.get_population())\n",
        "print(\"All Car Names:\", Car.data)\n"
      ],
      "metadata": {
        "colab": {
          "base_uri": "https://localhost:8080/"
        },
        "id": "Sfox3BqsLWgF",
        "outputId": "eccbb318-4807-4d5c-80ba-3a6ccfedd951"
      },
      "execution_count": null,
      "outputs": [
        {
          "output_type": "stream",
          "name": "stdout",
          "text": [
            "Total Cars Created: 3\n",
            "All Car Names: ['Z3', 'CL300', 'Civic']\n"
          ]
        }
      ]
    },
    {
      "cell_type": "markdown",
      "source": [
        "### Inheritance"
      ],
      "metadata": {
        "id": "fgznLOVVZ6ea"
      }
    },
    {
      "cell_type": "code",
      "source": [
        "# is like creating a sub class, or a derived class which gets its attributes and methods from the base class.\n",
        "# derived class gets access to all the inherited methods, varibales and attributes.\n",
        "# used to increase reuseablity in the code.\n",
        "\n",
        "\n",
        "class Car: # base class\n",
        "\n",
        "  population = 0\n",
        "  data = []\n",
        "\n",
        "\n",
        "  def __init__(self, name ,brand, doors, price): # all these variables will be for every instance or object created for class Car.\n",
        "    self.name = name\n",
        "    self.brand = brand\n",
        "    self.doors = doors\n",
        "    self.price = price\n",
        "    Car.population += 1 # increase when ever a new car is added.\n",
        "    if self.__class__ == Car:\n",
        "      Car.data.append(self.name)\n",
        "\n",
        "  def intro(self):\n",
        "    print(f\"{self.name} comes from {self.brand}, has {self.doors} doors, and is priced at {self.price}$\")\n",
        "\n",
        "\n",
        "  def change_price(self,p):\n",
        "    old = self.price\n",
        "    self.price = p\n",
        "    print(f\"Price updated from {old} to {self.price}\")\n",
        "\n",
        "\n",
        "\n",
        "  @classmethod # used to define a method for class not objects.\n",
        "  def get_population(cls):\n",
        "    return cls.population\n",
        "\n",
        "\n",
        "# to create a derived class we just do this.\n",
        "class Sedan(Car):\n",
        "\n",
        "  data = []\n",
        "\n",
        "  def __init__(self, name, brand, doors, price, luxury_rating,trunk_space):\n",
        "    super().__init__(name,brand,doors,price)\n",
        "    self.luxury_rating = luxury_rating\n",
        "    self.trunk_space = trunk_space\n",
        "    Sedan.data.append(self.name)\n",
        "\n",
        "  def comfort_level(self):\n",
        "    if self.luxury_rating < 75 and self.luxury_rating > 60 :\n",
        "      return \"good\"\n",
        "    elif self.luxury_rating > 75:\n",
        "      return \"Legendary\"\n",
        "    else:\n",
        "      return \"bad\"\n",
        "\n",
        "  def intro(self):\n",
        "    super().intro()  # call Car's intro, - `super()` lets us call the parent class’s version of a method (e.g., the base `.intro()`),\n",
        "    #which we can then extend or modify in the child.\n",
        "\n",
        "    print(\"This is a luxury sedan.\")  # add more\n",
        "\n",
        "Porche = Sedan(\"Z3_s\", \"BMW\", 4, 150000,78,\"max\") # so every thing in class cars has been inherited by Class Sedan, the class variable, methods, instance methods, and the attributes\n",
        "bmw = Car(\"Z3_c\", \"BMW\", 4, 150000)\n",
        "Porche.intro()\n",
        "Porche.change_price(10000000)\n",
        "Sedan.get_population()\n",
        "print(Sedan.get_population()) #The method get_population() is inherited from Car, so it accesses Car.population.\n",
        "# If we want to track Sedan objects separately, we need to define a new Sedan.population variable and override the method.\n",
        "print(Porche.comfort_level())\n",
        "\n",
        "print(\"Car Base Class attributes for an instance\" , bmw.__dict__) # to show that only derived class would have new attributes, main class remain the same\n",
        "print(\"Sedan Sub  Class attributes for an instance\", Porche.__dict__)\n",
        "\n",
        "# derived get everything they inherited and what they created, bas e doesnt get what is created in derived."
      ],
      "metadata": {
        "colab": {
          "base_uri": "https://localhost:8080/"
        },
        "id": "kCn3MYQxZ9mJ",
        "outputId": "07f3f70a-5ed1-44fb-fb6b-781afa6b974a"
      },
      "execution_count": null,
      "outputs": [
        {
          "output_type": "stream",
          "name": "stdout",
          "text": [
            "Z3_s comes from BMW, has 4 doors, and is priced at 150000$\n",
            "This is a luxury sedan.\n",
            "Price updated from 150000 to 10000000\n",
            "2\n",
            "Legendary\n",
            "Car Base Class attributes for an instance {'name': 'Z3_c', 'brand': 'BMW', 'doors': 4, 'price': 150000}\n",
            "Sedan Sub  Class attributes for an instance {'name': 'Z3_s', 'brand': 'BMW', 'doors': 4, 'price': 10000000, 'luxury_rating': 78, 'trunk_space': 'max'}\n"
          ]
        }
      ]
    },
    {
      "cell_type": "code",
      "source": [
        "print(Sedan.data)\n",
        "print(Car.data)"
      ],
      "metadata": {
        "colab": {
          "base_uri": "https://localhost:8080/"
        },
        "id": "0dhEg5L_oZhs",
        "outputId": "1d4d1ed5-1ce7-477e-a647-49eb74799e8c"
      },
      "execution_count": null,
      "outputs": [
        {
          "output_type": "stream",
          "name": "stdout",
          "text": [
            "['Z3_s']\n",
            "['Z3_c']\n"
          ]
        }
      ]
    },
    {
      "cell_type": "markdown",
      "source": [
        "### Polymorphism\n",
        "        1. polymorphism means having many forms\n",
        "        2. the way a class behaves differently for different objects.\n",
        "      Has two Types,\n",
        "        1. Function level polymorphism\n",
        "        2. Operator level polymorphism\n",
        "          "
      ],
      "metadata": {
        "id": "QYIC4elb_MJx"
      }
    },
    {
      "cell_type": "markdown",
      "source": [
        "#### Operator Level Polymorphism\n",
        "     just like '+' works differently for strings(concat) and integers(add)\n",
        "     is a classic example of operator lvl Polymorphism"
      ],
      "metadata": {
        "id": "mSqkfEU2_545"
      }
    },
    {
      "cell_type": "code",
      "source": [
        "print(210+10)\n",
        "print(\"210\"+\"10\")\n",
        "# print(\"210\"+0)  raises a type error"
      ],
      "metadata": {
        "colab": {
          "base_uri": "https://localhost:8080/"
        },
        "id": "r_UsmpRV_O5n",
        "outputId": "af8bdea8-8352-4804-a7d4-459b1f95c146"
      },
      "execution_count": null,
      "outputs": [
        {
          "output_type": "stream",
          "name": "stdout",
          "text": [
            "220\n",
            "21010\n"
          ]
        }
      ]
    },
    {
      "cell_type": "code",
      "source": [
        "#similarly *\n",
        "print(\"repeat \" *5)\n",
        "print(5 *5)\n",
        "# print(\"repeat\" * \"repeat\")  raises type error"
      ],
      "metadata": {
        "colab": {
          "base_uri": "https://localhost:8080/"
        },
        "id": "qEAulaKnAyGn",
        "outputId": "7a038d76-6695-47c7-9976-723fd3ed4476"
      },
      "execution_count": null,
      "outputs": [
        {
          "output_type": "stream",
          "name": "stdout",
          "text": [
            "repeat repeat repeat repeat repeat \n",
            "25\n"
          ]
        }
      ]
    },
    {
      "cell_type": "markdown",
      "source": [
        "#### Function Level Polymorphism\n",
        "       just like operators there are some functions that work differently for differetn type of objects.\n",
        "       len, sum, custom"
      ],
      "metadata": {
        "id": "CscmIxIjAChY"
      }
    },
    {
      "cell_type": "code",
      "source": [
        "print(len([1,2,3,4,5,6]))\n",
        "print(len(\"strijng\"))"
      ],
      "metadata": {
        "colab": {
          "base_uri": "https://localhost:8080/"
        },
        "id": "JkxeNI9J_9tO",
        "outputId": "c71a84d0-a1d5-4ee0-b873-b0db4cc403d2"
      },
      "execution_count": null,
      "outputs": [
        {
          "output_type": "stream",
          "name": "stdout",
          "text": [
            "6\n",
            "7\n"
          ]
        }
      ]
    },
    {
      "cell_type": "markdown",
      "source": [
        "\n",
        "\n",
        "```\n",
        "def intro(self):\n",
        "    super().intro()  \n",
        "    print(\"This is a luxury sedan.\")  \n",
        "```\n",
        "is functional lvl polymorphism, intro behaves different for base and derived class\n"
      ],
      "metadata": {
        "id": "EU-T84kkDbJL"
      }
    },
    {
      "cell_type": "markdown",
      "source": [
        "### Dunder Methods in Python\n",
        "      Dunder (Double UNDerscore) methods are special methods that begin and end with double underscores.\n",
        "      They allow Python classes to interact with built-in functions and operators."
      ],
      "metadata": {
        "id": "9IxDYwT-EEKM"
      }
    },
    {
      "cell_type": "code",
      "source": [
        "class Book:\n",
        "    def __init__(self, title, pages):\n",
        "        self.title = title\n",
        "        self.pages = pages\n",
        "\n",
        "    def __str__(self):\n",
        "        return f\"{self.title} - {self.pages} pages\"\n",
        "\n",
        "    def __repr__(self):\n",
        "        return f\"Book('{self.title}', {self.pages})\"\n",
        "\n",
        "    def __eq__(self, other):\n",
        "        return s lf.pages == other.pages\n",
        "\n",
        "b1 = Book(\"Python 101\", 300)\n",
        "b2 = Book(\"Learn Python\", 300)\n",
        "\n",
        "print(str(b1))      # Python 101 - 300 pages\n",
        "print(repr(b1))     # Book('Python 101', 300)\n",
        "print(b1 == b2)     # True opeartor lvl polymorphism\n"
      ],
      "metadata": {
        "colab": {
          "base_uri": "https://localhost:8080/"
        },
        "id": "-Kxu5y1CEFFy",
        "outputId": "d38dc385-a1b1-45f4-a767-c659265d4541"
      },
      "execution_count": null,
      "outputs": [
        {
          "output_type": "stream",
          "name": "stdout",
          "text": [
            "Python 101 - 300 pages\n",
            "Book('Python 101', 300)\n",
            "True\n"
          ]
        }
      ]
    },
    {
      "cell_type": "markdown",
      "source": [
        "## File Handling\n",
        "      files are used to store data on the disk.\n",
        "      its like a place to store data, in a specific format\n",
        "      which can be fecthed and read at any time needed.\n",
        "      we can always keep data in main memory so we save it in files\n",
        "      in secondary memeory\n",
        "\n",
        "      Two Types of file:\n",
        "      1. text\n",
        "      2. binary"
      ],
      "metadata": {
        "id": "zmkHtfue1_LN"
      }
    },
    {
      "cell_type": "markdown",
      "source": [
        "### Opening a File\n",
        "      we use open() to open a file.\n",
        "      we need to assign it to a handler or a variable.\n",
        "      opening a file with 'w' or 'a' also creates a file, if none found, read\n",
        "      searches for a file and returns and error stating file not found.\n",
        "      "
      ],
      "metadata": {
        "id": "rxDGtUzJ3IEj"
      }
    },
    {
      "cell_type": "code",
      "source": [
        "f = open(\"file.txt\", 'w') # opens a file 'w' in case file doesnt exist, it creates one. default is 'r', read  only.\n",
        "print(f.read()) # reads the data in the file\n",
        "print(\"is the file closed: \", f.closed) #bool on files status, closed or opened\n",
        "f.close() # Close the File\n",
        "print(\"is the file closed: \", f.closed) #bool on files status, closed or opened"
      ],
      "metadata": {
        "colab": {
          "base_uri": "https://localhost:8080/"
        },
        "id": "lSt03mpZ2B7b",
        "outputId": "09f0e53c-e6c8-4e23-cb11-095a4486d884"
      },
      "execution_count": null,
      "outputs": [
        {
          "output_type": "stream",
          "name": "stdout",
          "text": [
            "Lorem ipsum dolor sit amet consectetur adipisicing elit. Provident ducimus pariatur numquam quam sit quos ex deleniti soluta. Voluptatibus neque quis eaque cum facilis tempore iusto eius, impedit non sequi. Lorem ipsum dolor sit amet consectetur adipisicing elit. Provident ducimus pariatur numquam quam sit quos ex deleniti soluta. Voluptatibus neque quis eaque cum facilis tempore iusto eius, impedit non sequi.    Lorem ipsum dolor sit amet consectetur adipisicing elit. Perspiciatis blanditiis, nam voluptate ratione velit doloremque totam expedita eveniet ullam, autem error, laudantium in architecto. Placeat error dolore voluptatem minima natus\n",
            "is the file closed:  False\n",
            "is the file closed:  True\n"
          ]
        }
      ]
    },
    {
      "cell_type": "markdown",
      "source": [
        "#### Modes of Opening a file\n",
        "        1. 'r' read only\n",
        "        2. 'w' write only\n",
        "        3. 'a' appending data at the end of the file\n",
        "        4. 'wt' write text\n",
        "        5. 'wb' write binary\n",
        "        6. 'rt' read text\n",
        "        7. 'rb' read binary\n"
      ],
      "metadata": {
        "id": "V5K8wiac5HWJ"
      }
    },
    {
      "cell_type": "code",
      "source": [
        "# f.write(\"new text\")  will raise an error, f is not writeable, we need to open is the proper way to write into it\n",
        "f = open(\"file.txt\",'w') # removes anything else written and then writes from the start, doesnt add, overwrites.\n",
        "# f.read() would return not readable error\n",
        "f.write(\"\\nNow the file is writeable\") # also return the number of char's wriiten to the file\n",
        "f.close()"
      ],
      "metadata": {
        "id": "uvZmhmp15JLv"
      },
      "execution_count": null,
      "outputs": []
    },
    {
      "cell_type": "code",
      "source": [
        "f = open(\"file.txt\",'a') # writes to the end of file\n",
        "# f.read() would return not readable error\n",
        "f.write(\"\\n written at the end \") # also return the number of char's wriiten to the file\n",
        "f.close()"
      ],
      "metadata": {
        "id": "oIUdTaqQAizK"
      },
      "execution_count": null,
      "outputs": []
    },
    {
      "cell_type": "markdown",
      "source": [
        "### Memory Leaks and Prevention\n",
        "        if a file is opened and left open will cause a memory leak,\n",
        "        a file must be closed so that it can stop using memory.\n",
        "        we use 'with'\n",
        "        "
      ],
      "metadata": {
        "id": "tGAm5qR-BFc5"
      }
    },
    {
      "cell_type": "code",
      "source": [
        "with open(\"file.txt\", 'w') as f:\n",
        "  print(f.write(\"new line added\"),\"chars written to the file\")\n",
        "\n",
        "print(\"is the file closed: \", f.closed) #bool on files status, closed or opened"
      ],
      "metadata": {
        "colab": {
          "base_uri": "https://localhost:8080/"
        },
        "id": "gXjx2RuuBOJn",
        "outputId": "c4bc713e-1eaf-436f-9289-d0e55372b77d"
      },
      "execution_count": null,
      "outputs": [
        {
          "output_type": "stream",
          "name": "stdout",
          "text": [
            "14 chars written to the file\n",
            "is the file closed:  True\n"
          ]
        }
      ]
    },
    {
      "cell_type": "code",
      "source": [
        "with open(\"file.txt\") as f:\n",
        "  print( f.read())\n",
        "\n",
        "print(\"is the file closed: \", f.closed) #bool on files status, closed or opened\n",
        "\n"
      ],
      "metadata": {
        "colab": {
          "base_uri": "https://localhost:8080/"
        },
        "id": "znWFDOvI-aat",
        "outputId": "ea23333e-168e-4dbf-8f54-95d9bca387ab"
      },
      "execution_count": null,
      "outputs": [
        {
          "output_type": "stream",
          "name": "stdout",
          "text": [
            "new line added\n",
            "is the file closed:  True\n"
          ]
        }
      ]
    },
    {
      "cell_type": "markdown",
      "source": [
        "### Reading A File\n",
        "      there are multiple way to read a file and also some methods which help in the reading\n",
        "      process.\n",
        "      1. read()\n",
        "      2. read(i) read till length i\n",
        "      3. read(-1) read till the end\n",
        "      4. tell() tells about the position of file handler\n",
        "      5. seek() helps  reposition of file handler\n",
        "      6. readline() read data line by line\n",
        "\n"
      ],
      "metadata": {
        "id": "z1qeKO7s_tL8"
      }
    },
    {
      "cell_type": "code",
      "source": [
        "with open(\"file.txt\", 'w') as f:\n",
        "  for i in range(10):\n",
        "    f.write(f\"{i+1}. new line\\n\")"
      ],
      "metadata": {
        "id": "S5I-DlLlAs1S"
      },
      "execution_count": null,
      "outputs": []
    },
    {
      "cell_type": "code",
      "source": [
        "with open(\"file.txt\",'r') as f:\n",
        "  print(f.read(-1))\n",
        "\n",
        "\n",
        "\n",
        "with open(\"file.txt\",'r') as f:\n",
        "  data = f.readlines()\n",
        "  print(data)\n",
        "  # print(f.readlines(5))\n",
        "\n",
        "\n"
      ],
      "metadata": {
        "colab": {
          "base_uri": "https://localhost:8080/"
        },
        "id": "VLnh8coIBEUb",
        "outputId": "0ea1c666-9663-472f-d135-c8f51e2e72bb"
      },
      "execution_count": null,
      "outputs": [
        {
          "output_type": "stream",
          "name": "stdout",
          "text": [
            "1. new line\n",
            "2. new line\n",
            "3. new line\n",
            "4. new line\n",
            "5. new line\n",
            "6. new line\n",
            "7. new line\n",
            "8. new line\n",
            "9. new line\n",
            "10. new line\n",
            "\n",
            "['1. new line\\n', '2. new line\\n', '3. new line\\n', '4. new line\\n', '5. new line\\n', '6. new line\\n', '7. new line\\n', '8. new line\\n', '9. new line\\n', '10. new line\\n']\n"
          ]
        }
      ]
    },
    {
      "cell_type": "code",
      "source": [
        "# with open(\"img.jpeg\",'rb') as f:\n",
        "#   f.read()\n",
        "# work for images but reads the binary of an image not the image itself.\n",
        "# copying data\n",
        "with open(\"file.txt\", 'rt') as f:\n",
        "  data = f.read()\n",
        "\n",
        "  with open('new.txt', 'wt') as d:\n",
        "    d.write(data)\n",
        "\n",
        "  with open('new.txt', 'rt') as d:\n",
        "    print(\"\\ndata from new.txt\\n\", d.read())\n"
      ],
      "metadata": {
        "colab": {
          "base_uri": "https://localhost:8080/"
        },
        "id": "UcAK-HHPE_hA",
        "outputId": "426902a1-5dd7-4c6d-d0b6-4ee86f1b1c03"
      },
      "execution_count": null,
      "outputs": [
        {
          "output_type": "stream",
          "name": "stdout",
          "text": [
            "\n",
            "data from new.txt\n",
            " 1. new line\n",
            "2. new line\n",
            "3. new line\n",
            "4. new line\n",
            "5. new line\n",
            "6. new line\n",
            "7. new line\n",
            "8. new line\n",
            "9. new line\n",
            "10. new line\n",
            "\n"
          ]
        }
      ]
    },
    {
      "cell_type": "markdown",
      "source": [
        "## Exception Handling\n",
        "      compilation of code can halt due to the errors in it.\n",
        "      there are 3 types of error, runtime, logical and syntax.\n",
        "      logical errors are more like exceptions, they sometimes wont\n",
        "      halt the code, rather would compute a faulty output.\n",
        "\n",
        "      mostly errors are syntax based errors, but some errors still\n",
        "      occurs even when the syntax is not right, are call exceptions\n",
        "\n",
        "      we use handling to stop the breaking of the flow of the code in case of error or exceptions.\n",
        "      like ignoring an error if it occurs and continuing with the rest of the code"
      ],
      "metadata": {
        "id": "CMK_C_39HAoe"
      }
    },
    {
      "cell_type": "markdown",
      "source": [
        "### Errors in Python\n",
        "      Errors in python are much more then the basic 3.\n",
        "      1. Syntax Error\n",
        "      2. Type Error\n",
        "      3. Name Error\n",
        "      4. Indentation Error\n",
        "      5. Index Error\n",
        "      6. File Not Found\n",
        "      7. Zero Divison Error\n",
        "      The list goes on, the one listed are most occuring one"
      ],
      "metadata": {
        "id": "2pmpHX9ySBXf"
      }
    },
    {
      "cell_type": "code",
      "source": [
        "l = [x for x in dir(__builtins__) if 'Error' in x]\n",
        "print(\"There are \",len(l), \" Errors in python\")\n",
        "l"
      ],
      "metadata": {
        "colab": {
          "base_uri": "https://localhost:8080/"
        },
        "id": "qR5li837HEvl",
        "outputId": "d4fa271c-656c-48c6-8aa5-deb34307b674"
      },
      "execution_count": null,
      "outputs": [
        {
          "output_type": "stream",
          "name": "stdout",
          "text": [
            "There are  48  Errors in python\n"
          ]
        },
        {
          "output_type": "execute_result",
          "data": {
            "text/plain": [
              "['ArithmeticError',\n",
              " 'AssertionError',\n",
              " 'AttributeError',\n",
              " 'BlockingIOError',\n",
              " 'BrokenPipeError',\n",
              " 'BufferError',\n",
              " 'ChildProcessError',\n",
              " 'ConnectionAbortedError',\n",
              " 'ConnectionError',\n",
              " 'ConnectionRefusedError',\n",
              " 'ConnectionResetError',\n",
              " 'EOFError',\n",
              " 'EnvironmentError',\n",
              " 'FileExistsError',\n",
              " 'FileNotFoundError',\n",
              " 'FloatingPointError',\n",
              " 'IOError',\n",
              " 'ImportError',\n",
              " 'IndentationError',\n",
              " 'IndexError',\n",
              " 'InterruptedError',\n",
              " 'IsADirectoryError',\n",
              " 'KeyError',\n",
              " 'LookupError',\n",
              " 'MemoryError',\n",
              " 'ModuleNotFoundError',\n",
              " 'NameError',\n",
              " 'NotADirectoryError',\n",
              " 'NotImplementedError',\n",
              " 'OSError',\n",
              " 'OverflowError',\n",
              " 'PermissionError',\n",
              " 'ProcessLookupError',\n",
              " 'RecursionError',\n",
              " 'ReferenceError',\n",
              " 'RuntimeError',\n",
              " 'SyntaxError',\n",
              " 'SystemError',\n",
              " 'TabError',\n",
              " 'TimeoutError',\n",
              " 'TypeError',\n",
              " 'UnboundLocalError',\n",
              " 'UnicodeDecodeError',\n",
              " 'UnicodeEncodeError',\n",
              " 'UnicodeError',\n",
              " 'UnicodeTranslateError',\n",
              " 'ValueError',\n",
              " 'ZeroDivisionError']"
            ]
          },
          "metadata": {},
          "execution_count": 63
        }
      ]
    },
    {
      "cell_type": "markdown",
      "source": [
        "### Try And Except And Finally\n",
        "      \n",
        "\n",
        "    1. try: this block check in case there is any error in the code\n",
        "    2. except: this block return an error specified if the code is faulty\n",
        "    3. finally: This part is always executed. can be used for memmory de allocation, like closing files\n",
        "\n"
      ],
      "metadata": {
        "id": "VvGDelUjT7KX"
      }
    },
    {
      "cell_type": "code",
      "source": [
        "try:\n",
        "  print(\"Before Error\")\n",
        "  print(2 +'2') # flow stops after an error occurs in try block\n",
        "  print(4/0) # this error wont be found untill the above one is removed, or keeps occuring\n",
        "  print(\"After Error\") # will be skipped\n",
        "except Exception as e: # this can have anything, but this is a way to return as exception,\n",
        "# we let the code run, flow doesnt break and error is printed\n",
        "\n",
        "  print(\"the above code has error -->\"  , e)\n",
        "finally:\n",
        "  print(\"this executes either way, error or not doesnt stop\")\n"
      ],
      "metadata": {
        "colab": {
          "base_uri": "https://localhost:8080/"
        },
        "id": "RNwU-p4QT-Zy",
        "outputId": "477355dd-66f5-4001-a0b2-af19fe55ce7b"
      },
      "execution_count": null,
      "outputs": [
        {
          "output_type": "stream",
          "name": "stdout",
          "text": [
            "Before Error\n",
            "the above code has error --> unsupported operand type(s) for +: 'int' and 'str'\n",
            "this executes either way, error or not doesnt stop\n"
          ]
        }
      ]
    }
  ],
  "metadata": {
    "colab": {
      "provenance": [],
      "collapsed_sections": [
        "JZ1QnnBXWNbY",
        "LU-uhHAmJ6iD",
        "oonf2u-WtrLY",
        "H_9ihOihwAzA",
        "4GXfJZo6_4Zo",
        "jYTSDBzIOZXr",
        "syJcGYlQFSoj",
        "8MUYs5CW1BYa",
        "oVVpUagEDEiP",
        "aawkAfcNcYuk",
        "D34IZyiPcPmL",
        "f52sSVKCcKZZ",
        "lrq5yLOKf5a_",
        "nbV9R0M0xvGk",
        "q-Hifc2__-cF",
        "WCfGu8-4WFHI",
        "5-TD9O1XaGFt",
        "mAy4dEAVUbLs",
        "K8ORTvCxV-Zj",
        "nX7GQGDzbgwI",
        "bs5IxvBQlwXj"
      ]
    },
    "kernelspec": {
      "display_name": "Python 3",
      "name": "python3"
    },
    "language_info": {
      "name": "python"
    }
  },
  "nbformat": 4,
  "nbformat_minor": 0
}